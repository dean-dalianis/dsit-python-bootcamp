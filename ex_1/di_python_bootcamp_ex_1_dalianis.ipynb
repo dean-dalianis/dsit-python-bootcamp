{
  "nbformat": 4,
  "nbformat_minor": 0,
  "metadata": {
    "colab": {
      "provenance": [],
      "collapsed_sections": []
    },
    "kernelspec": {
      "name": "python3",
      "display_name": "Python 3"
    },
    "language_info": {
      "name": "python"
    }
  },
  "cells": [
    {
      "cell_type": "code",
      "execution_count": 3,
      "metadata": {
        "colab": {
          "base_uri": "https://localhost:8080/"
        },
        "id": "ZtSnFF3B9mu8",
        "outputId": "d3cd549c-a516-45f5-ea52-157b72d24a4a"
      },
      "outputs": [
        {
          "output_type": "stream",
          "name": "stdout",
          "text": [
            "Base occurrence frequency:\n",
            "TOTAL BASES: 922\n",
            "ERRORS: 30\n",
            "A: 196\n",
            "G: 305\n",
            "T: 153\n",
            "C: 268\n",
            "\n",
            "Number of matches & mismatches:\n",
            "A-A matches: 89\n",
            "G-G matches: 143\n",
            "T-T matches: 70\n",
            "C-C matches: 127\n",
            "mismatches : 30\n",
            "line 0 errors: 14\n",
            "line 1 errors: 3\n"
          ]
        }
      ],
      "source": [
        "\"\"\"\n",
        "Calculates and prints the number of DNA bases in multiple DNA lines.\n",
        "Any character/base other than 'A', 'G', 'T' or 'C' is classified as an error.\n",
        "\n",
        "Args:\n",
        "    dna_lines: A list of DNA lines.\n",
        "\n",
        "Returns:\n",
        "    None\n",
        "\"\"\"\n",
        "def print_base_occurrence_freq(dna_lines):\n",
        "    base_freq = {'A': 0, 'G': 0, 'T': 0, 'C': 0}\n",
        "    errors = 0\n",
        "    total = 0\n",
        "\n",
        "    for line in dna_lines:\n",
        "        for char in line:\n",
        "            if char in 'AGTC':\n",
        "                total += 1\n",
        "                base_freq[char] += 1\n",
        "            else:\n",
        "                errors += 1\n",
        "\n",
        "    print('Base occurrence frequency:')\n",
        "    print('TOTAL BASES: ' + str(total))\n",
        "    print('ERRORS: ' + str(errors))\n",
        "    for key, value in base_freq.items():\n",
        "        print(key + ': ' + str(value))\n",
        "\n",
        "\n",
        "\"\"\"\n",
        "Calculates and prints the number of matches and mismatches between 2 DNA lines.\n",
        "If there is an error in either of the lines, it counts towards the errors of the line and is neither a match nor a mismatch.\n",
        "\n",
        "Args:\n",
        "    line0: The first DNA line.\n",
        "    line1: The second DNA line\n",
        "\n",
        "Returns:\n",
        "    None\n",
        "\"\"\"\n",
        "def print_matches_per_base(line0, line1):\n",
        "    matches = {'A': 0, 'G': 0, 'T': 0, 'C': 0}\n",
        "    mismatches = 0\n",
        "    line0_errors = 0\n",
        "    line1_errors = 0\n",
        "\n",
        "    for i in range(0, len(line0)):\n",
        "        if line0[i] in 'AGTC':\n",
        "            if line0[i] == line1[i]:\n",
        "                matches[line0[i]] += 1\n",
        "            elif line1[i] in 'AGTC':\n",
        "                mismatches += 1\n",
        "            else:\n",
        "                line1_errors += 1\n",
        "        else:\n",
        "            line0_errors += 1\n",
        "\n",
        "    print('\\nNumber of matches & mismatches:')\n",
        "    for key, value in matches.items():\n",
        "        print(key + '-' + key + ' matches: ' + str(value))\n",
        "    print('mismatches : ' + str(mismatches))\n",
        "    print('line 0 errors: ' + str(line0_errors))\n",
        "    print('line 1 errors: ' + str(line1_errors))\n",
        "\n",
        "\n",
        "if __name__ == '__main__':\n",
        "    with open('testdna1.txt') as file:\n",
        "        lines = [line.rstrip() for line in file]\n",
        "    print_base_occurrence_freq(lines)\n",
        "    print_matches_per_base(lines[0], lines[1])\n"
      ]
    }
  ]
}