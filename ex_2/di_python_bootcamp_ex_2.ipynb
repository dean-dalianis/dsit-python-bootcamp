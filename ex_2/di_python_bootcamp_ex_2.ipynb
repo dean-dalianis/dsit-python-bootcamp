{
  "cells": [
    {
      "cell_type": "markdown",
      "source": [
        "# Exercise 2 (A)"
      ],
      "metadata": {
        "id": "Bp4Y8aJAr7qG"
      }
    },
    {
      "cell_type": "markdown",
      "source": [
        "(A) Write a Python script to run the EditDistanceM (Matrix) for all pairs (d1, d2) of DNAs, where d1 is a line in file ex2-dnalist1.txt (see below) and d2 a line in file ex2-dnalist2.txt (see below), and print the Top-10 most similar pairs (descending order).\n",
        "* Based on the result of EditDistanceM, you should calculate similarity scores \n",
        "that should be normalised to range from 0% to 100% (100% means that the two strings are identical, 0% means that the two strings have nothing in common).\n",
        "* Output example (10 lines): 1, 5, 100% 2, 3, 76.5% 3, 8, 34.6% .... where e.g., 2, 3, 76.5% means that the similarity score between the string in line 2, file ex2-dnalist1, and the string in line 3, file ex2-dnalist2, is 76.5%. Hint: use the python sort() function."
      ],
      "metadata": {
        "id": "qXL8LbFZsTtB"
      }
    },
    {
      "cell_type": "code",
      "execution_count": null,
      "outputs": [],
      "source": [
        "import numpy as np"
      ],
      "metadata": {
        "pycharm": {
          "is_executing": true
        },
        "id": "sXu2M6kkopOK"
      }
    },
    {
      "cell_type": "markdown",
      "source": [
        "**max_distance** is the maximum possible distance between two strings.\n",
        "It is dynamically set while parsing the dataset and used to normalize the *edit_distance_m* results."
      ],
      "metadata": {
        "collapsed": false,
        "id": "11xvOMnkopOM"
      }
    },
    {
      "cell_type": "code",
      "execution_count": null,
      "outputs": [],
      "source": [
        "max_distance = 0"
      ],
      "metadata": {
        "id": "wuGSx9E5opOO"
      }
    },
    {
      "cell_type": "markdown",
      "source": [
        "**edit_distance_m(s, t)**\n",
        "\n",
        "A dynamic version of the edit distance function.\n",
        "\n",
        "*:param s:* the first string\n",
        "\n",
        "*:param t:* the target string\n",
        "\n",
        "*:return:* The minimum edit distance between two strings.\n"
      ],
      "metadata": {
        "collapsed": false,
        "id": "sbVyFU1uopOP"
      }
    },
    {
      "cell_type": "code",
      "execution_count": null,
      "outputs": [],
      "source": [
        "def edit_distance_m(s, t):\n",
        "    size_x = len(s) + 1\n",
        "    size_y = len(t) + 1\n",
        "\n",
        "    matrix = np.zeros((size_x, size_y))\n",
        "\n",
        "    for x in range(size_x):\n",
        "        matrix[x, 0] = x\n",
        "\n",
        "    for y in range(size_y):\n",
        "        matrix[0, y] = y\n",
        "\n",
        "    for x in range(1, size_x):\n",
        "        for y in range(1, size_y):\n",
        "            matrix[x, y] = min(\n",
        "                matrix[x - 1, y] + 1,\n",
        "                matrix[x - 1, y - 1] if s[x - 1] == t[y - 1] else matrix[x - 1, y - 1] + 1,\n",
        "                matrix[x, y - 1] + 1\n",
        "            )\n",
        "    return matrix[size_x - 1, size_y - 1]"
      ],
      "metadata": {
        "id": "PhwTeOG9opOR"
      }
    },
    {
      "cell_type": "markdown",
      "source": [
        "**normalize_and_convert_distance_to_similarity(distances)**\n",
        "\n",
        "It takes a dictionary of distances and returns a dictionary of similarities.\n",
        "\n",
        "In order to normalize any given distance `d` we the following formula:\n",
        "\n",
        "`normalized_d = (d – min(distance)) / (max(distance) – min(distance)) * 100`\n",
        "\n",
        "For the current use case distance `0` means that the strings are identical, \n",
        "so the `min(distance)` will always be `0`.\n",
        "\n",
        "Converting a normalized distance to a normalized similarity is calculated by subtracting the distance itself from `100`, since distance and similarity are inversely related.\n",
        "\n",
        "*:param distances:* a dictionary of distances\n",
        "\n",
        "*:return:* A dictionary with the keys being a tuple of line numbers and the \n",
        "values being the distance between the two DNAs."
      ],
      "metadata": {
        "collapsed": false,
        "id": "g7HzqSIEopOT"
      }
    },
    {
      "cell_type": "code",
      "execution_count": null,
      "outputs": [],
      "source": [
        "def normalize_and_convert_distance_to_similarity(distances):\n",
        "    return {k: 100 - (float(v) / max_distance) * 100 for k, v in distances.items()}"
      ],
      "metadata": {
        "pycharm": {
          "is_executing": true
        },
        "id": "xxvyPdlPopOV"
      }
    },
    {
      "cell_type": "markdown",
      "source": [
        "**calculate_similarity(dna_list_1, dna_list_2)**\n",
        "\n",
        "It calculates the edit distance between every pair of DNA sequences in the two lists, and returns the 10 smallest distances.\n",
        "\n",
        "*:param dna_list_1:* the list of DNA sequences from the first file\n",
        "\n",
        "*:param dna_list_2:* the list of DNA sequences from the second file\n",
        "\n",
        "*:return:* A dictionary of the 10 most similar pairs of DNA sequences."
      ],
      "metadata": {
        "collapsed": false,
        "id": "JJcdytQnopOV"
      }
    },
    {
      "cell_type": "code",
      "execution_count": null,
      "outputs": [],
      "source": [
        "def calculate_similarity(dna_list_1, dna_list_2):\n",
        "    global max_distance\n",
        "\n",
        "    line_1 = 1\n",
        "    distances = {}\n",
        "    for dna_1 in dna_list_1:\n",
        "        line_2 = 1\n",
        "        for dna_2 in dna_list_2:\n",
        "            distances[(line_1, line_2)] = edit_distance_m(dna_1, dna_2)\n",
        "            line_2 += 1\n",
        "            max_distance = max(max_distance, len(dna_1), len(dna_2))\n",
        "        line_1 += 1\n",
        "    distances = dict(sorted(distances.items(), key=lambda item: item[1]))\n",
        "    return normalize_and_convert_distance_to_similarity({k: distances[k] for k in list(distances)[:10]})"
      ],
      "metadata": {
        "id": "hQaGLTDpopOX"
      }
    },
    {
      "cell_type": "markdown",
      "source": [
        "Open the two files and read the DNA sequences from them."
      ],
      "metadata": {
        "collapsed": false,
        "id": "wDo0E1kZopOY"
      }
    },
    {
      "cell_type": "code",
      "execution_count": null,
      "outputs": [],
      "source": [
        "with open('ex2-dnalist1.txt') as file:\n",
        "    list_1 = [line.rstrip() for line in file]\n",
        "with open('ex2-dnalist2.txt') as file:\n",
        "    list_2 = [line.rstrip() for line in file]"
      ],
      "metadata": {
        "id": "Jrl6swv1opOZ"
      }
    },
    {
      "cell_type": "markdown",
      "source": [
        " Calculate and print the 10 most similar pairs of DNA sequences."
      ],
      "metadata": {
        "collapsed": false,
        "id": "CTTWKMVzopOa"
      }
    },
    {
      "cell_type": "code",
      "execution_count": null,
      "outputs": [
        {
          "output_type": "stream",
          "name": "stdout",
          "text": [
            "Similarities:\n",
            "{(55, 76): '62.0%', (29, 5): '60.0%', (92, 53): '60.0%', (11, 83): '58.0%', (13, 6): '58.0%', (85, 83): '58.0%', (5, 100): '56.0%', (11, 66): '56.0%', (16, 27): '56.0%', (20, 48): '56.0%'}\n"
          ]
        }
      ],
      "source": [
        "similarities = calculate_similarity(list_1, list_2)\n",
        "print(\"Similarities:\")\n",
        "print({k: str(similarities[k]) + \"%\" for k in similarities})"
      ],
      "metadata": {
        "id": "zEFpLtQEopOa",
        "colab": {
          "base_uri": "https://localhost:8080/"
        },
        "outputId": "626c8f95-c1af-4fde-9be2-fbbe69651406"
      }
    },
    {
      "cell_type": "markdown",
      "source": [
        "# Exercise 2 (B)"
      ],
      "metadata": {
        "id": "ORjhE1_4sJsI"
      }
    },
    {
      "cell_type": "markdown",
      "source": [
        "(B) Write a Python script to perform the following tasks:\n",
        "\n",
        "* Generate 3 random base strings of length 2, 3 random base strings of length 3, 3 random base strings of length 4, ... etc, till length N, and write them to file file1.txt. N should be your choice, depending on your laptop/RAM setup. If you use large N, say 100, you may experience serious delays with the execution of EditDistance (Recursive). We suggest N=10 to start with and adjust appropriately, if needed.\n",
        "* Repeat previous step, and write the base strings to file file2.txt (use same N as before). \n",
        "* Measure the execution time of EditDistanceM (Matrix) and EditDistance (Recursive) for string pairs: one string from file1.txt and one from file2.txt as follows: 1st line of file1.txt with 1st line of file2.txt, 2nd line of file1.txt with 2nd line of file2.txt, 3rd line of file1.txt with 3rd line of file2.txt etc...\n",
        "* Calculate average (AVG) execution time for strings of same length.\n",
        "* Plot a graph to show the performance: AVG execution time (Y-axis) vs line length (X-axis). Check here for a nice plot tutorial: https://matplotlib.org/tutorials/introductory/pyplot.html."
      ],
      "metadata": {
        "id": "pseFrqCKsmKd"
      }
    },
    {
      "cell_type": "markdown",
      "source": [
        "Upgrading matplotlib to the latest version."
      ],
      "metadata": {
        "id": "ny0I9K3Nxq--"
      }
    },
    {
      "cell_type": "code",
      "source": [
        "!pip install matplotlib --upgrade"
      ],
      "metadata": {
        "colab": {
          "base_uri": "https://localhost:8080/"
        },
        "id": "rCDMvgyhxmll",
        "outputId": "7f276fcb-9e27-4d6c-e6e2-612eeac71e7a"
      },
      "execution_count": null,
      "outputs": [
        {
          "output_type": "stream",
          "name": "stdout",
          "text": [
            "Looking in indexes: https://pypi.org/simple, https://us-python.pkg.dev/colab-wheels/public/simple/\n",
            "Requirement already satisfied: matplotlib in /usr/local/lib/python3.7/dist-packages (3.5.3)\n",
            "Requirement already satisfied: pillow>=6.2.0 in /usr/local/lib/python3.7/dist-packages (from matplotlib) (7.1.2)\n",
            "Requirement already satisfied: python-dateutil>=2.7 in /usr/local/lib/python3.7/dist-packages (from matplotlib) (2.8.2)\n",
            "Requirement already satisfied: packaging>=20.0 in /usr/local/lib/python3.7/dist-packages (from matplotlib) (21.3)\n",
            "Requirement already satisfied: fonttools>=4.22.0 in /usr/local/lib/python3.7/dist-packages (from matplotlib) (4.37.4)\n",
            "Requirement already satisfied: cycler>=0.10 in /usr/local/lib/python3.7/dist-packages (from matplotlib) (0.11.0)\n",
            "Requirement already satisfied: numpy>=1.17 in /usr/local/lib/python3.7/dist-packages (from matplotlib) (1.21.6)\n",
            "Requirement already satisfied: kiwisolver>=1.0.1 in /usr/local/lib/python3.7/dist-packages (from matplotlib) (1.4.4)\n",
            "Requirement already satisfied: pyparsing>=2.2.1 in /usr/local/lib/python3.7/dist-packages (from matplotlib) (3.0.9)\n",
            "Requirement already satisfied: typing-extensions in /usr/local/lib/python3.7/dist-packages (from kiwisolver>=1.0.1->matplotlib) (4.1.1)\n",
            "Requirement already satisfied: six>=1.5 in /usr/local/lib/python3.7/dist-packages (from python-dateutil>=2.7->matplotlib) (1.15.0)\n"
          ]
        }
      ]
    },
    {
      "cell_type": "code",
      "execution_count": null,
      "outputs": [],
      "source": [
        "import random\n",
        "import timeit\n",
        "\n",
        "from matplotlib import pyplot as plt"
      ],
      "metadata": {
        "id": "0gyVSMgfopOb"
      }
    },
    {
      "cell_type": "markdown",
      "source": [
        "**chars ** is the list of the characters that can be used to generate a random string."
      ],
      "metadata": {
        "collapsed": false,
        "id": "tT3EpWtRopOc"
      }
    },
    {
      "cell_type": "code",
      "execution_count": null,
      "outputs": [],
      "source": [
        "chars = ['A', 'T', 'G', 'C']"
      ],
      "metadata": {
        "id": "rNWHaoOPopOc"
      }
    },
    {
      "cell_type": "markdown",
      "source": [
        "Creating two file names."
      ],
      "metadata": {
        "collapsed": false,
        "id": "5RP7yuYQopOc"
      }
    },
    {
      "cell_type": "code",
      "execution_count": null,
      "outputs": [],
      "source": [
        "filename1 = \"file1.txt\"\n",
        "filename2 = \"file2.txt\""
      ],
      "metadata": {
        "id": "wDvDvf1TopOd"
      }
    },
    {
      "cell_type": "markdown",
      "source": [
        "**n** is the maximum number characters in a line."
      ],
      "metadata": {
        "collapsed": false,
        "id": "3d-yyF5aopOe"
      }
    },
    {
      "cell_type": "code",
      "execution_count": null,
      "outputs": [],
      "source": [
        "n = 11"
      ],
      "metadata": {
        "id": "uHVwRWdqopOe"
      }
    },
    {
      "cell_type": "markdown",
      "source": [
        "**edit_distance(s, t)**\n",
        "\n",
        "A recursive version of the edit distance function.\n",
        "\n",
        "*:param s:* the first string\n",
        "\n",
        "*:param t:* the target string\n",
        "\n",
        "*:return:* The minimum edit distance between two strings."
      ],
      "metadata": {
        "collapsed": false,
        "id": "stwEUdKlopOe"
      }
    },
    {
      "cell_type": "code",
      "execution_count": null,
      "outputs": [],
      "source": [
        "def edit_distance(s, t):\n",
        "    if len(s) == 0:\n",
        "        return len(t)\n",
        "    elif len(t) == 0:\n",
        "        return len(s)\n",
        "    elif s[-1] == t[-1]:\n",
        "        cost = 0\n",
        "    else:\n",
        "        cost = 1\n",
        "\n",
        "    return min([edit_distance(s, t[:-1]) + 1,\n",
        "                edit_distance(s[:-1], t) + 1,\n",
        "                edit_distance(s[:-1], t[:-1]) + cost]\n",
        "               )"
      ],
      "metadata": {
        "id": "jgHywQRJopOf"
      }
    },
    {
      "cell_type": "markdown",
      "source": [
        "**generate_random_string(string_length)**\n",
        "\n",
        "It generates a random string of a specified length, and returns it.\n",
        "\n",
        "*:param string_length:* The length of the random string to be generated\n",
        "*:return:* A string of random characters."
      ],
      "metadata": {
        "collapsed": false,
        "id": "Eyz0IrmpopOf"
      }
    },
    {
      "cell_type": "code",
      "execution_count": null,
      "outputs": [],
      "source": [
        "def generate_random_string(string_length):\n",
        "\n",
        "    random_line = ''\n",
        "    for c in range(string_length):\n",
        "        random_index = random.randint(0, len(chars) - 1)\n",
        "        random_letter = chars[random_index]\n",
        "        random_line += random_letter\n",
        "    random_line += '\\n'\n",
        "    return random_line"
      ],
      "metadata": {
        "id": "ivVN9R7YopOf"
      }
    },
    {
      "cell_type": "markdown",
      "source": [
        "**generate_3_random_strings(string_length)**\n",
        "\n",
        "It generates 3 random strings of a given length\n",
        "\n",
        "*:param string_length:* The length of the strings to be generated\n",
        "\n",
        "*:return:* A string of 3 random strings of length string_length"
      ],
      "metadata": {
        "collapsed": false,
        "id": "ycLOs7rPopOh"
      }
    },
    {
      "cell_type": "code",
      "execution_count": null,
      "outputs": [],
      "source": [
        "def generate_3_random_strings(string_length):\n",
        "\n",
        "    random_lines = ''\n",
        "    for i in range(0, 3):\n",
        "        random_lines += generate_random_string(string_length)\n",
        "    return random_lines"
      ],
      "metadata": {
        "id": "RXQ5kgDGopOh"
      }
    },
    {
      "cell_type": "markdown",
      "source": [
        "**create_random_strings_file(filename)**\n",
        "\n",
        "It creates a file called `filename` and writes to it the concatenation of the strings generated by\n",
        "`generate_3_random_strings` for all values of `i` from 2 to `n`.\n",
        "\n",
        "*:param filename:* the name of the file to be created"
      ],
      "metadata": {
        "collapsed": false,
        "id": "T89MaKffopOh"
      }
    },
    {
      "cell_type": "code",
      "execution_count": null,
      "outputs": [],
      "source": [
        "def create_random_strings_file(filename):\n",
        "\n",
        "    g = open(filename, 'w')\n",
        "    for i in range(2, n + 1):\n",
        "        g.write(generate_3_random_strings(i))\n",
        "    g.close()"
      ],
      "metadata": {
        "id": "8b6da1GiopOi"
      }
    },
    {
      "cell_type": "markdown",
      "source": [
        "**time_edit_distance(dna_lines_1, dna_lines_2)**\n",
        "\n",
        "It takes two lists of DNA sequences, and returns two dictionaries,\n",
        "where the keys are the lengths of the DNA sequences, and the values are lists of the times it took to run the\n",
        "edit_distance_m and edit_distance functions on the DNA sequences of that length.\n",
        "\n",
        "*:param dna_lines_1:* a list of strings, each string is a DNA sequence\n",
        "\n",
        "*:param dna_lines_2:* the list of DNA sequences to compare against\n",
        "\n",
        "*:return:* A dictionary with the timing results for the recursive and m functions."
      ],
      "metadata": {
        "collapsed": false,
        "id": "PUG9HfNiopOj"
      }
    },
    {
      "cell_type": "code",
      "execution_count": null,
      "outputs": [],
      "source": [
        "def time_edit_distance(dna_lines_1, dna_lines_2):\n",
        "\n",
        "    timing_results_m = {}\n",
        "    timing_results_r = {}\n",
        "    list_current_result_m = []\n",
        "    list_current_result_r = []\n",
        "    current_word_length = 2\n",
        "    current_run = 0\n",
        "    for dna_line_1, dna_line_2 in zip(dna_lines_1, dna_lines_2):\n",
        "        start_m = timeit.default_timer()\n",
        "        edit_distance_m(dna_line_1, dna_line_2)\n",
        "        end_m = timeit.default_timer()\n",
        "        list_current_result_m.append(end_m - start_m)\n",
        "\n",
        "        start_r = timeit.default_timer()\n",
        "        edit_distance(dna_line_1, dna_line_2)\n",
        "        end_r = timeit.default_timer()\n",
        "        list_current_result_r.append(end_r - start_r)\n",
        "\n",
        "        current_run += 1\n",
        "\n",
        "        if current_run == 3:\n",
        "            timing_results_r[current_word_length] = list(list_current_result_r)\n",
        "            timing_results_m[current_word_length] = list(list_current_result_m)\n",
        "            current_run = 0\n",
        "            current_word_length += 1\n",
        "            list_current_result_r = []\n",
        "            list_current_result_m = []\n",
        "\n",
        "    return timing_results_m, timing_results_r"
      ],
      "metadata": {
        "id": "02iMW3aCopOj"
      }
    },
    {
      "cell_type": "markdown",
      "source": [
        "**calculate_avg_time(timing_results)**\n",
        "\n",
        "It takes a dictionary of lists of timing results and returns a dictionary of the average timing results\n",
        "\n",
        "*:param timing_results:* a dictionary of lists of timing results\n",
        "\n",
        "*:return:* A dictionary with the average time."
      ],
      "metadata": {
        "collapsed": false,
        "id": "zK0xhxEjopOk"
      }
    },
    {
      "cell_type": "code",
      "execution_count": null,
      "outputs": [],
      "source": [
        "def calculate_avg_time(timing_results):\n",
        "\n",
        "    avg = {}\n",
        "    for k, v in timing_results.items():\n",
        "        timing_sum = 0\n",
        "        for i in range(len(v)):\n",
        "            timing_sum += v[i]\n",
        "        avg[k] = round(timing_sum / len(v), 4)\n",
        "    return avg"
      ],
      "metadata": {
        "id": "o1VC4TvvopOk"
      }
    },
    {
      "cell_type": "markdown",
      "source": [
        "**draw_plots(timing_results_r, timing_results_m)**\n",
        "\n",
        "It takes two dictionaries, one for each algorithm, and plots the results\n",
        "\n",
        "*:param timing_results_r:* a dictionary of the average times for the recursive edit distance function\n",
        "\n",
        "*:param timing_results_m:* a dictionary of the average times for the edit-distance-m function"
      ],
      "metadata": {
        "collapsed": false,
        "id": "XHpT7p-mopOl"
      }
    },
    {
      "cell_type": "code",
      "execution_count": null,
      "outputs": [],
      "source": [
        "def draw_plots(timing_results_r, timing_results_m):\n",
        "\n",
        "    labels = timing_results_r.keys()\n",
        "\n",
        "    m_avg = timing_results_m.values()\n",
        "    r_avg = timing_results_r.values()\n",
        "\n",
        "    x = np.arange(len(labels))  # the label locations\n",
        "    width = 0.35  # the width of the bars\n",
        "    fig, ax = plt.subplots(figsize=(16, 9), dpi=(1920 / 16))\n",
        "    rects1 = ax.bar(x - width / 2, m_avg, width, label='edit-distance-m')\n",
        "    rects2 = ax.bar(x + width / 2, r_avg, width, label='edit-distance recursive')\n",
        "\n",
        "    ax.set_ylabel('Time')\n",
        "    ax.set_title('Edit distance m & recursive times (depending on length)')\n",
        "    ax.set_xticks(x, labels)\n",
        "    ax.legend()\n",
        "\n",
        "    ax.bar_label(rects1, padding=3)\n",
        "    ax.bar_label(rects2, padding=3)\n",
        "\n",
        "    fig.tight_layout()\n",
        "    plt.show()"
      ],
      "metadata": {
        "id": "9ss6hWPUopOl"
      }
    },
    {
      "cell_type": "markdown",
      "source": [
        "Create two files with random DNA strings."
      ],
      "metadata": {
        "id": "Q_YYUzfxvs_2"
      }
    },
    {
      "cell_type": "code",
      "execution_count": null,
      "outputs": [],
      "source": [
        "create_random_strings_file(filename1)\n",
        "create_random_strings_file(filename2)"
      ],
      "metadata": {
        "id": "1rG603beopOm"
      }
    },
    {
      "cell_type": "markdown",
      "source": [
        "Open the two files and read the DNA sequences from them."
      ],
      "metadata": {
        "id": "axamX0zuwEd-"
      }
    },
    {
      "cell_type": "code",
      "source": [
        "with open(filename1) as file:\n",
        "    list_1 = [line.rstrip() for line in file]\n",
        "with open(filename2) as file:\n",
        "    list_2 = [line.rstrip() for line in file]"
      ],
      "metadata": {
        "id": "UQUQv_lmwFUM"
      },
      "execution_count": null,
      "outputs": []
    },
    {
      "cell_type": "markdown",
      "source": [
        "Calculate the timing results for each algorithm."
      ],
      "metadata": {
        "id": "8gK_h2nSwJtd"
      }
    },
    {
      "cell_type": "code",
      "source": [
        "timing_results_m, timing_results_r = time_edit_distance(list_1, list_2)"
      ],
      "metadata": {
        "id": "IpPC_z0ewMau"
      },
      "execution_count": null,
      "outputs": []
    },
    {
      "cell_type": "markdown",
      "source": [
        "Find the timing averages for each algorithm."
      ],
      "metadata": {
        "id": "1WqinkANwPIK"
      }
    },
    {
      "cell_type": "code",
      "source": [
        "results_m_avg = calculate_avg_time(timing_results_m)\n",
        "results_r_avg = calculate_avg_time(timing_results_r)\n",
        "print(\"Average edit-distance recursive results\")\n",
        "print(results_r_avg)\n",
        "print(\"Average edit-distance-m results\")\n",
        "print(results_m_avg)"
      ],
      "metadata": {
        "colab": {
          "base_uri": "https://localhost:8080/"
        },
        "id": "NetR-xaWwSn9",
        "outputId": "c6cec155-47b2-4624-81f1-0f59e12f8ce1"
      },
      "execution_count": null,
      "outputs": [
        {
          "output_type": "stream",
          "name": "stdout",
          "text": [
            "Average edit-distance recursive results\n",
            "{2: 0.0, 3: 0.0001, 4: 0.0004, 5: 0.0012, 6: 0.0089, 7: 0.0348, 8: 0.2045, 9: 1.1751, 10: 6.9212, 11: 32.8066}\n",
            "Average edit-distance-m results\n",
            "{2: 0.0, 3: 0.0, 4: 0.0001, 5: 0.0001, 6: 0.0001, 7: 0.0001, 8: 0.0001, 9: 0.0002, 10: 0.0002, 11: 0.0003}\n"
          ]
        }
      ]
    },
    {
      "cell_type": "markdown",
      "source": [
        "Draw the timing plot."
      ],
      "metadata": {
        "id": "dpi1v-ubwUgF"
      }
    },
    {
      "cell_type": "code",
      "source": [
        "draw_plots(results_r_avg, results_m_avg)"
      ],
      "metadata": {
        "colab": {
          "base_uri": "https://localhost:8080/",
          "height": 1000
        },
        "id": "nDgYgoc4v3KT",
        "outputId": "8ba8bb1c-89e5-4d16-d9a8-9a6519977785"
      },
      "execution_count": null,
      "outputs": [
        {
          "output_type": "display_data",
          "data": {
            "text/plain": [
              "<Figure size 1920x1080 with 1 Axes>"
            ],
            "image/png": "[encoded data removed]"
          },
          "metadata": {
            "needs_background": "light"
          }
        }
      ]
    }
  ],
  "metadata": {
    "kernelspec": {
      "display_name": "Python 3",
      "language": "python",
      "name": "python3"
    },
    "language_info": {
      "codemirror_mode": {
        "name": "ipython",
        "version": 2
      },
      "file_extension": ".py",
      "mimetype": "text/x-python",
      "name": "python",
      "nbconvert_exporter": "python",
      "pygments_lexer": "ipython2",
      "version": "2.7.6"
    },
    "colab": {
      "provenance": [],
      "collapsed_sections": []
    }
  },
  "nbformat": 4,
  "nbformat_minor": 0
}