{
 "cells": [
  {
   "cell_type": "markdown",
   "metadata": {},
   "source": [
    "# Dictionaries\n",
    "* Read DNA sequences from file, and calculate frequency of occurence per base."
   ]
  },
  {
   "cell_type": "code",
   "execution_count": 54,
   "metadata": {},
   "outputs": [],
   "source": [
    "def my_count(dna, base):\n",
    "    i = 0 # counter\n",
    "    for c in dna:\n",
    "        if c == base:\n",
    "            i += 1 # i = i + 1\n",
    "    return i\n"
   ]
  },
  {
   "cell_type": "code",
   "execution_count": 88,
   "metadata": {},
   "outputs": [
    {
     "name": "stdout",
     "output_type": "stream",
     "text": [
      "2\n"
     ]
    }
   ],
   "source": [
    "r = my_count(\"GAAT\",'A')\n",
    "print(r)\n",
    "#print(my_count(\"GAAT\",'A'))"
   ]
  },
  {
   "cell_type": "code",
   "execution_count": 90,
   "metadata": {},
   "outputs": [
    {
     "name": "stdout",
     "output_type": "stream",
     "text": [
      "{'A': 0, 'C': 0, 'G': 0, 'T': 0}\n"
     ]
    }
   ],
   "source": [
    "my_file = open(\"testdna2.txt\")\n",
    "dict = {} # an empty dictionary\n",
    "dict['A'] = 0\n",
    "dict['C'] = 0\n",
    "dict['G'] = 0\n",
    "dict['T'] = 0\n",
    "print(dict)"
   ]
  },
  {
   "cell_type": "code",
   "execution_count": 94,
   "metadata": {},
   "outputs": [],
   "source": [
    "#i = 0\n",
    "for line in my_file:\n",
    "    count_A = my_count(line, 'A')\n",
    "    count_C = my_count(line, 'C')\n",
    "    count_G = my_count(line, 'G')\n",
    "    count_T = my_count(line, 'T')\n",
    "        \n",
    "    dict['A'] = dict['A'] + count_A\n",
    "    dict['C'] = dict['C'] + count_C\n",
    "    dict['G'] = dict['G'] + count_G\n",
    "    dict['T'] = dict['T'] + count_T"
   ]
  },
  {
   "cell_type": "code",
   "execution_count": 58,
   "metadata": {},
   "outputs": [
    {
     "name": "stdout",
     "output_type": "stream",
     "text": [
      "{'A': 124, 'C': 170, 'G': 188, 'T': 96}\n"
     ]
    }
   ],
   "source": [
    "print(dict)"
   ]
  },
  {
   "cell_type": "code",
   "execution_count": 59,
   "metadata": {},
   "outputs": [
    {
     "name": "stdout",
     "output_type": "stream",
     "text": [
      "124\n"
     ]
    }
   ],
   "source": [
    "print(dict['A'])"
   ]
  },
  {
   "cell_type": "code",
   "execution_count": 60,
   "metadata": {},
   "outputs": [
    {
     "name": "stdout",
     "output_type": "stream",
     "text": [
      "170\n"
     ]
    }
   ],
   "source": [
    "print(dict['C'])"
   ]
  },
  {
   "cell_type": "code",
   "execution_count": 61,
   "metadata": {},
   "outputs": [
    {
     "name": "stdout",
     "output_type": "stream",
     "text": [
      "188\n"
     ]
    }
   ],
   "source": [
    "print(dict['G'])"
   ]
  },
  {
   "cell_type": "code",
   "execution_count": 62,
   "metadata": {},
   "outputs": [
    {
     "name": "stdout",
     "output_type": "stream",
     "text": [
      "96\n"
     ]
    }
   ],
   "source": [
    "print(dict['T'])"
   ]
  },
  {
   "cell_type": "code",
   "execution_count": 63,
   "metadata": {},
   "outputs": [],
   "source": [
    "my_file.close()"
   ]
  },
  {
   "cell_type": "markdown",
   "metadata": {},
   "source": [
    "# Edit distance"
   ]
  },
  {
   "cell_type": "markdown",
   "metadata": {},
   "source": [
    "**Reminder**\n",
    "\n",
    "s = \"AGTCC\"\n",
    "\n",
    "s[:3]\n",
    "\n",
    "first three list elements:\n",
    "\n",
    "\n",
    "\n",
    "s[3:] \n",
    "\n",
    "without first three elements:\n",
    "\n",
    "\n",
    "\n",
    "s[-3:]\n",
    "\n",
    "last three list elements:\n",
    "\n",
    "\n",
    "\n",
    "s[:-3] \n",
    "\n",
    "without last three list elements:\n",
    "\n",
    "\n",
    "\n",
    "s[0:4] \n",
    "\n",
    "start from the 1st element, stop at the 4th element:\n",
    "\n",
    "\n",
    "\n",
    "s[1:4] \n",
    "\n",
    "start from the 2nd element, stop at the 4th element:\n",
    "\n",
    "\n",
    "s[1:-1] \n",
    "\n",
    "start from the 1st element, stop at the 1st element next to the last:\n",
    "\n",
    "\n",
    "\n",
    "s[1:-1:2] \n",
    "\n",
    "start from the 1st element, stop at the 1st element next to the last:\n"
   ]
  },
  {
   "cell_type": "code",
   "execution_count": 64,
   "metadata": {},
   "outputs": [
    {
     "name": "stdout",
     "output_type": "stream",
     "text": [
      "CC\n"
     ]
    }
   ],
   "source": [
    "s = \"AGTCC\"\n",
    "print(s[3:])"
   ]
  },
  {
   "cell_type": "markdown",
   "metadata": {},
   "source": [
    "# Edit distance\n",
    "* Assume two sequences (strings).\n",
    "* Let <b>insert base</b>, <b>delete base</b>, <b>replace base</b> be edit distance operators.\n",
    "* We can transform s to t by applying those operators on t."
   ]
  },
  {
   "cell_type": "code",
   "execution_count": 96,
   "metadata": {},
   "outputs": [],
   "source": [
    "s = \"AGTCC\"\n",
    "t = \"AGTA\"\n",
    "\n",
    "# example 1: delete last element C from s\n",
    "s = s[:-1] # delete"
   ]
  },
  {
   "cell_type": "code",
   "execution_count": 97,
   "metadata": {},
   "outputs": [
    {
     "name": "stdout",
     "output_type": "stream",
     "text": [
      "AGTC AGTA\n"
     ]
    }
   ],
   "source": [
    "print(s,t)"
   ]
  },
  {
   "cell_type": "code",
   "execution_count": 99,
   "metadata": {},
   "outputs": [],
   "source": [
    "# replace last character of t, which is \"A\", with C.\n",
    "t = t[:3] + \"C\"\n",
    "#t[3] = \"C\" # error"
   ]
  },
  {
   "cell_type": "code",
   "execution_count": 100,
   "metadata": {},
   "outputs": [
    {
     "name": "stdout",
     "output_type": "stream",
     "text": [
      "AGTC AGTC\n"
     ]
    }
   ],
   "source": [
    "print(s,t)"
   ]
  },
  {
   "cell_type": "code",
   "execution_count": 69,
   "metadata": {},
   "outputs": [],
   "source": [
    "s = \"AGTCC\"\n",
    "t = \"AGTA\"\n",
    "\n",
    "# example 2: delete last element A from t, insert C in t, insert C in t\n",
    "t = t[:-1] # delete\n",
    "t = t + \"C\" # insert\n",
    "t = t + \"C\" # insert"
   ]
  },
  {
   "cell_type": "code",
   "execution_count": 70,
   "metadata": {},
   "outputs": [
    {
     "name": "stdout",
     "output_type": "stream",
     "text": [
      "AGTCC AGTCC\n"
     ]
    }
   ],
   "source": [
    "print(s, t)"
   ]
  },
  {
   "cell_type": "code",
   "execution_count": 101,
   "metadata": {},
   "outputs": [],
   "source": [
    "# example 3 revised: replace last element A with C in t, insert C in t\n",
    "#s = \"AGTCC\"\n",
    "#t = \"AGTA\"\n",
    "\n",
    "list_s = list(s) # convert string to list\n",
    "list_t = list(t) # convert string to list\n",
    "\n",
    "list_t[len(t)-1] = \"C\" # replace last element A with C in list_t\n",
    "list_t= list_t + [\"C\"] #insert C in list_t"
   ]
  },
  {
   "cell_type": "code",
   "execution_count": 73,
   "metadata": {},
   "outputs": [
    {
     "name": "stdout",
     "output_type": "stream",
     "text": [
      "['A', 'G', 'T', 'C', 'C', 'C']\n"
     ]
    }
   ],
   "source": [
    "print(list_t)"
   ]
  },
  {
   "cell_type": "markdown",
   "metadata": {},
   "source": [
    "**Convert to string**"
   ]
  },
  {
   "cell_type": "code",
   "execution_count": 102,
   "metadata": {},
   "outputs": [
    {
     "name": "stdout",
     "output_type": "stream",
     "text": [
      "AGTCC\n"
     ]
    }
   ],
   "source": [
    "t = \"\".join(list_t)\n",
    "print(t)"
   ]
  },
  {
   "cell_type": "markdown",
   "metadata": {},
   "source": [
    "# Edit Distance in a nutshell! (recursively)\n",
    "\n",
    "Consider two strings: s = \"TUC\" and t = \"ACTUA\". We will compute the edit distance between s and t. \n",
    "1. Assume that you know how to convert TUC to ACTU (and, thus, get TUC-->ACTU). Then, just add A to get ACTUA.\n",
    "2. Assume that you know how to convert TU to ACTUA (and, thus, get **TU**C-->**ACTUA**C). Then, just remove C to get ACTUA.\n",
    "3. Assume that you know how to convert TU to ACTU (and, thus, get **TU**C-->**ACTU**C). Then, just replace C with A to get ACTUA.\n",
    "\n",
    "You just broke your problem into three smaller (sub)problems!\n",
    "1. compute the edit distance between s = \"TUC\" and t = \"ACTU\" \n",
    "2. compute the edit distance between s = \"TU\" and t = \"ACTUA\" \n",
    "3. compute the edit distance between s = \"TU\" and t = \"ACTU\"\n",
    "\n",
    "Consider the 1st (sub)problem: s = \"TUC\" and t = \"ACTU\". We will compute the edit distance between s and t. \n",
    "1. Assume that you know how to convert TUC to ACT (and, thus, get TUC-->ACT). Then, just add U to get ACTU.\n",
    "2. Assume that you know how to convert TU to ACTU (and, thus, get **TU**C-->**ACTU**C). Then, just remove C to get ACTU.\n",
    "3. Assume that you know how to convert TU to ACT (and, thus, get **TU**C-->**ACT**C). Then, just replace C with U to get ACTU.\n",
    "\n",
    "Go on with the other 2 (sub)problems! For each one you will need to solve 3 new (subsub)problems, etc... Notice that the strings involved are getting shorter and shorter. At the end, you will reach the point where you will have to consider strings like:\n",
    "s = \"TUC\" and t = \"\" or s = \"\" and t = \"ACTUA\".\n",
    "* To convert \"TUC\" to \"\" you just need a series of delete operations. Assuming cost 1 for each operation: cost = length(\"TUC\").\n",
    "* To convert \"\" to \"ACTUA\" you just need a series of insert operations. Assuming cost 1 for each operation: cost = length(\"ACTUA\").\n"
   ]
  },
  {
   "cell_type": "markdown",
   "metadata": {},
   "source": [
    "This is an implementation of the edit-distance function"
   ]
  },
  {
   "cell_type": "code",
   "execution_count": 103,
   "metadata": {},
   "outputs": [],
   "source": [
    "def EditDistance(s, t):\n",
    "    if s == \"\":\n",
    "        return len(t)\n",
    "    if t == \"\":\n",
    "        return len(s)\n",
    "    if s[-1] == t[-1]:\n",
    "        cost = 0\n",
    "    else:\n",
    "        cost = 1\n",
    "       \n",
    "    res = min([EditDistance(s, t[:-1])+1, # Insert operation at the end\n",
    "               EditDistance(s[:-1], t)+1, # Delete operation at the end\n",
    "               EditDistance(s[:-1], t[:-1]) + cost]) # Replace operation at the end\n",
    "    return res"
   ]
  },
  {
   "cell_type": "code",
   "execution_count": 76,
   "metadata": {},
   "outputs": [
    {
     "name": "stdout",
     "output_type": "stream",
     "text": [
      "3\n",
      "3\n"
     ]
    }
   ],
   "source": [
    "print(EditDistance(\"TUC\", \"ACTUA\"))\n",
    "print(EditDistance(\"CATGACTG\",\"TACTG\"))"
   ]
  },
  {
   "cell_type": "code",
   "execution_count": 109,
   "metadata": {},
   "outputs": [],
   "source": [
    "import numpy as np  # numpy: powerfull array management python library!!\n",
    "def EditDistanceM(s, t):  \n",
    "    size_x = len(s) + 1\n",
    "    size_y = len(t) + 1\n",
    "   \n",
    "    # intialization phase: zero cells\n",
    "\n",
    "    matrix = np.zeros ((size_x, size_y))\n",
    "    \n",
    "    for x in range(size_x):\n",
    "        matrix[x, 0] = x\n",
    "        \n",
    "    for y in range(size_y):\n",
    "        matrix[0, y] = y\n",
    "    \n",
    "    print(matrix)\n",
    "    return (matrix[size_x - 1, size_y - 1])"
   ]
  },
  {
   "cell_type": "code",
   "execution_count": 110,
   "metadata": {},
   "outputs": [
    {
     "name": "stdout",
     "output_type": "stream",
     "text": [
      "[[0. 1. 2. 3. 4. 5.]\n",
      " [1. 0. 0. 0. 0. 0.]\n",
      " [2. 0. 0. 0. 0. 0.]\n",
      " [3. 0. 0. 0. 0. 0.]]\n",
      "0.0\n"
     ]
    }
   ],
   "source": [
    "print(EditDistanceM(\"TUC\", \"ACTUA\"))"
   ]
  },
  {
   "cell_type": "code",
   "execution_count": 127,
   "metadata": {},
   "outputs": [],
   "source": [
    "import numpy as np  # numpy: powerfull array management python library!!\n",
    "def EditDistanceM(s, t):  \n",
    "    size_x = len(s) + 1\n",
    "    size_y = len(t) + 1\n",
    "    \n",
    "    # intialization phase: zero cells\n",
    "    \n",
    "    matrix = np.zeros ((size_x, size_y))\n",
    "    \n",
    "    for x in range(size_x):\n",
    "        matrix[x, 0] = x\n",
    "    \n",
    "    for y in range(size_y):\n",
    "        matrix[0, y] = y\n",
    "    \n",
    "    for x in range(1, size_x):\n",
    "        for y in range(1, size_y):\n",
    "            if s[x-1] == t[y-1]:\n",
    "                matrix[x,y] = min(\n",
    "                    matrix[x-1, y] + 1, #left cell\n",
    "                    matrix[x-1, y-1], #upper left cell\n",
    "                    matrix[x, y-1] + 1 #top cell\n",
    "                )\n",
    "            else:\n",
    "                matrix[x,y] = min(\n",
    "                    matrix[x-1,y] + 1,\n",
    "                    matrix[x-1,y-1] + 1,\n",
    "                    matrix[x,y-1] + 1\n",
    "                )\n",
    "    #print(matrix)\n",
    "    return (matrix[size_x - 1, size_y - 1])"
   ]
  },
  {
   "cell_type": "code",
   "execution_count": 128,
   "metadata": {},
   "outputs": [
    {
     "name": "stdout",
     "output_type": "stream",
     "text": [
      "3.0\n",
      "3.0\n"
     ]
    }
   ],
   "source": [
    "print(EditDistanceM(\"TUC\", \"ACTUA\"))\n",
    "print(EditDistanceM(\"CATGACTG\",\"TACTG\"))\n"
   ]
  },
  {
   "cell_type": "code",
   "execution_count": 129,
   "metadata": {},
   "outputs": [
    {
     "name": "stdout",
     "output_type": "stream",
     "text": [
      "3.0\n",
      "[[0. 1. 2. 3. 4. 5.]\n",
      " [1. 1. 2. 2. 3. 4.]\n",
      " [2. 2. 2. 3. 2. 3.]\n",
      " [3. 3. 2. 3. 3. 3.]]\n"
     ]
    }
   ],
   "source": [
    "print(r[0])\n",
    "print(r[1])"
   ]
  },
  {
   "cell_type": "markdown",
   "metadata": {},
   "source": [
    "Change the code to also print the matrix table!"
   ]
  },
  {
   "cell_type": "markdown",
   "metadata": {},
   "source": [
    "## Plot - timers"
   ]
  },
  {
   "cell_type": "code",
   "execution_count": 130,
   "metadata": {},
   "outputs": [
    {
     "name": "stdout",
     "output_type": "stream",
     "text": [
      "16536.905282959\n",
      "16537.025893126\n",
      "0.12061016699954052\n"
     ]
    }
   ],
   "source": [
    "from matplotlib import pyplot as plt\n",
    "import numpy as np\n",
    "import timeit\n",
    "\n",
    "seq_db_file = open(\"testdna3.txt\")\n",
    "ref_db_file = open(\"testdna2ref.txt\")\n",
    "\n",
    "for line in ref_db_file: \n",
    "    ref = line\n",
    "\n",
    "score = np.zeros(5)\n",
    "i = 0    \n",
    "\n",
    "start = timeit.default_timer()\n",
    "for line in seq_db_file:\n",
    "    score[i] = EditDistanceM(line, ref)\n",
    "    i = i + 1\n",
    "end = timeit.default_timer()    \n",
    "\n",
    "print(start)\n",
    "print(end)\n",
    "print(end-start)\n",
    "    "
   ]
  },
  {
   "cell_type": "code",
   "execution_count": 85,
   "metadata": {},
   "outputs": [
    {
     "name": "stdout",
     "output_type": "stream",
     "text": [
      "[32.  1. 38. 40. 38.]\n"
     ]
    }
   ],
   "source": [
    "print(score)"
   ]
  },
  {
   "cell_type": "code",
   "execution_count": 131,
   "metadata": {},
   "outputs": [
    {
     "data": {
      "image/png": "[encoded data removed]",
      "text/plain": [
       "<Figure size 432x288 with 1 Axes>"
      ]
     },
     "metadata": {
      "needs_background": "light"
     },
     "output_type": "display_data"
    }
   ],
   "source": [
    "lines = [1, 2, 3, 4, 5]   \n",
    "\n",
    "plt.bar(lines, score)\n",
    "\n",
    "plt.xlabel(\"# of Line\")\n",
    "plt.ylabel(\"Edit Distance Score\")\n",
    "plt.axis([0,6,0,50]) # x: from 0 to 6, y: from 0 to 50\n",
    "plt.yticks([i for i in range(0, 50, 5)]) # start 0, up to 50, with step 5\n",
    "plt.title(\"Edit Distance for each pair of line-refline\")\n",
    "\n",
    "seq_db_file.close() \n",
    "ref_db_file.close()"
   ]
  },
  {
   "cell_type": "markdown",
   "metadata": {},
   "source": [
    "## Random string generator\n",
    "* random.randit(...): generate a random set of numbers in a range\n",
    "* write(...): write data to a file"
   ]
  },
  {
   "cell_type": "code",
   "execution_count": 132,
   "metadata": {},
   "outputs": [],
   "source": [
    "import random\n",
    "\n",
    "lineNum=5\n",
    "lineLength=80\n",
    "filename='output.txt'\n",
    "g=open(filename,'w') # open in order to write\n",
    "\n",
    "chars=['A','T','G','C']\n",
    "# 0 for A, 1 for T, 2 for G and 3 for C\n",
    "# generate a random number X from the set [0,1,2,3], \n",
    "# and get the character by using chars[3]\n",
    "\n",
    "for line in range (lineNum):\n",
    "    randomLine=''\n",
    "    for c in range(lineLength):\n",
    "        randomIndex=random.randint(0,len(chars)-1) # this is a random number\n",
    "        randomLetter=chars[randomIndex] # this is a random character\n",
    "        randomLine+=randomLetter\n",
    "    randomLine+='\\n'\n",
    "    g.write(randomLine)\n",
    "g.close()"
   ]
  },
  {
   "cell_type": "code",
   "execution_count": null,
   "metadata": {},
   "outputs": [],
   "source": []
  }
 ],
 "metadata": {
  "kernelspec": {
   "display_name": "Python 3",
   "language": "python",
   "name": "python3"
  },
  "language_info": {
   "codemirror_mode": {
    "name": "ipython",
    "version": 3
   },
   "file_extension": ".py",
   "mimetype": "text/x-python",
   "name": "python",
   "nbconvert_exporter": "python",
   "pygments_lexer": "ipython3",
   "version": "3.8.5"
  }
 },
 "nbformat": 4,
 "nbformat_minor": 4
}
