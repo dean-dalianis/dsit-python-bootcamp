{
 "cells": [
  {
   "cell_type": "markdown",
   "metadata": {},
   "source": [
    "Read file 'transcript_table.txt'\n",
    "- transcript_name: composed of the gene name plus a numeric identifier\n",
    "- transcript_biotype: for example protein_coding, retained_intron, nonsense_mediated_decay\n",
    "- transcript_length: the length of the transcript (without considering introns an poly A tail)\n",
    "- utr5_length: the length of the 5’ UTR region (without considering introns)\n",
    "- cds_length: the length of the CDS region (without considering introns)\n",
    "- utr3_length: the length of the 3’ UTR region (without considering introns)\n",
    "- exon_count: the number of exons of the transcript\n",
    "- canonical_flag: a boolean indicating if the isoform is canonical (T: true, F: false)"
   ]
  },
  {
   "cell_type": "code",
   "execution_count": 3,
   "metadata": {},
   "outputs": [],
   "source": [
    "import pandas as pd"
   ]
  },
  {
   "cell_type": "markdown",
   "metadata": {},
   "source": [
    "Reading from 'transcript_table.txt'"
   ]
  },
  {
   "cell_type": "code",
   "execution_count": 4,
   "metadata": {},
   "outputs": [],
   "source": [
    "df=pd.read_csv('transcript_table.txt',sep=',')\n"
   ]
  },
  {
   "cell_type": "code",
   "execution_count": 5,
   "metadata": {},
   "outputs": [
    {
     "data": {
      "text/html": [
       "<div>\n",
       "<style scoped>\n",
       "    .dataframe tbody tr th:only-of-type {\n",
       "        vertical-align: middle;\n",
       "    }\n",
       "\n",
       "    .dataframe tbody tr th {\n",
       "        vertical-align: top;\n",
       "    }\n",
       "\n",
       "    .dataframe thead th {\n",
       "        text-align: right;\n",
       "    }\n",
       "</style>\n",
       "<table border=\"1\" class=\"dataframe\">\n",
       "  <thead>\n",
       "    <tr style=\"text-align: right;\">\n",
       "      <th></th>\n",
       "      <th>transcript_name</th>\n",
       "      <th>transcript_biotype</th>\n",
       "      <th>transcript_length</th>\n",
       "      <th>utr5_length</th>\n",
       "      <th>cds_length</th>\n",
       "      <th>utr3_length</th>\n",
       "      <th>exon_count</th>\n",
       "      <th>canonical_flag</th>\n",
       "    </tr>\n",
       "  </thead>\n",
       "  <tbody>\n",
       "    <tr>\n",
       "      <th>0</th>\n",
       "      <td>ARF5-001</td>\n",
       "      <td>protein_coding</td>\n",
       "      <td>1103</td>\n",
       "      <td>154</td>\n",
       "      <td>543</td>\n",
       "      <td>406</td>\n",
       "      <td>6</td>\n",
       "      <td>T</td>\n",
       "    </tr>\n",
       "    <tr>\n",
       "      <th>1</th>\n",
       "      <td>M6PR-001</td>\n",
       "      <td>protein_coding</td>\n",
       "      <td>2756</td>\n",
       "      <td>469</td>\n",
       "      <td>834</td>\n",
       "      <td>1453</td>\n",
       "      <td>7</td>\n",
       "      <td>T</td>\n",
       "    </tr>\n",
       "    <tr>\n",
       "      <th>2</th>\n",
       "      <td>ESRRA-002</td>\n",
       "      <td>protein_coding</td>\n",
       "      <td>2215</td>\n",
       "      <td>171</td>\n",
       "      <td>1272</td>\n",
       "      <td>772</td>\n",
       "      <td>7</td>\n",
       "      <td>F</td>\n",
       "    </tr>\n",
       "    <tr>\n",
       "      <th>3</th>\n",
       "      <td>FKBP4-001</td>\n",
       "      <td>protein_coding</td>\n",
       "      <td>3732</td>\n",
       "      <td>187</td>\n",
       "      <td>1380</td>\n",
       "      <td>2165</td>\n",
       "      <td>10</td>\n",
       "      <td>T</td>\n",
       "    </tr>\n",
       "    <tr>\n",
       "      <th>4</th>\n",
       "      <td>CYP26B1-001</td>\n",
       "      <td>protein_coding</td>\n",
       "      <td>4732</td>\n",
       "      <td>204</td>\n",
       "      <td>1539</td>\n",
       "      <td>2989</td>\n",
       "      <td>6</td>\n",
       "      <td>T</td>\n",
       "    </tr>\n",
       "  </tbody>\n",
       "</table>\n",
       "</div>"
      ],
      "text/plain": [
       "  transcript_name transcript_biotype  transcript_length  utr5_length  \\\n",
       "0        ARF5-001     protein_coding               1103          154   \n",
       "1        M6PR-001     protein_coding               2756          469   \n",
       "2       ESRRA-002     protein_coding               2215          171   \n",
       "3       FKBP4-001     protein_coding               3732          187   \n",
       "4     CYP26B1-001     protein_coding               4732          204   \n",
       "\n",
       "   cds_length  utr3_length  exon_count canonical_flag  \n",
       "0         543          406           6              T  \n",
       "1         834         1453           7              T  \n",
       "2        1272          772           7              F  \n",
       "3        1380         2165          10              T  \n",
       "4        1539         2989           6              T  "
      ]
     },
     "execution_count": 5,
     "metadata": {},
     "output_type": "execute_result"
    }
   ],
   "source": [
    "# call a head() just to remember how df looks like... \n",
    "df.head()"
   ]
  },
  {
   "cell_type": "markdown",
   "metadata": {},
   "source": [
    "- Initially let's calculate the number of transcripts for human genome and some statistics"
   ]
  },
  {
   "cell_type": "code",
   "execution_count": 6,
   "metadata": {},
   "outputs": [
    {
     "name": "stdout",
     "output_type": "stream",
     "text": [
      "Number of transcripts in human genome:  189914\n"
     ]
    }
   ],
   "source": [
    "# number of transcripts\n",
    "print(\"Number of transcripts in human genome: \", df.shape[0])"
   ]
  },
  {
   "cell_type": "code",
   "execution_count": 7,
   "metadata": {},
   "outputs": [
    {
     "name": "stdout",
     "output_type": "stream",
     "text": [
      "Statistics for transcript length\n",
      "\tMinimum transcript length observed:  8\n"
     ]
    }
   ],
   "source": [
    "# statistics\n",
    "print(\"Statistics for transcript length\")\n",
    "print(\"\\tMinimum transcript length observed: \", df.transcript_length.min())"
   ]
  },
  {
   "cell_type": "code",
   "execution_count": 8,
   "metadata": {},
   "outputs": [
    {
     "name": "stdout",
     "output_type": "stream",
     "text": [
      "\tMaximum transcript length observed:  109224\n"
     ]
    }
   ],
   "source": [
    "print(\"\\tMaximum transcript length observed: \", df.transcript_length.max())"
   ]
  },
  {
   "cell_type": "code",
   "execution_count": 9,
   "metadata": {},
   "outputs": [
    {
     "name": "stdout",
     "output_type": "stream",
     "text": [
      "\tMean transcript length observed:  1506.8365786619206\n"
     ]
    }
   ],
   "source": [
    "print(\"\\tMean transcript length observed: \", df.transcript_length.mean())"
   ]
  },
  {
   "cell_type": "code",
   "execution_count": 10,
   "metadata": {},
   "outputs": [
    {
     "name": "stdout",
     "output_type": "stream",
     "text": [
      "\tMedian transcript length observed:  797.0\n"
     ]
    }
   ],
   "source": [
    "print(\"\\tMedian transcript length observed: \", df.transcript_length.median())"
   ]
  },
  {
   "cell_type": "markdown",
   "metadata": {},
   "source": [
    "We can retrieve rows of a DataFrame that satisfy a condition, as if we were using the row in an 'if' statement. This is shown in the example below:\n",
    "\n",
    "e.g. Get the rows that have a transcript_length greater than 2433\n",
    "\n",
    "`df[  df.transcript_length>2433      ]`\n",
    "\n",
    "**NOTE: the condition in the square brackets is written as it would in an 'if' statement**\n"
   ]
  },
  {
   "cell_type": "code",
   "execution_count": 13,
   "metadata": {},
   "outputs": [
    {
     "name": "stdout",
     "output_type": "stream",
     "text": [
      "Rows that have a transcript_length of 2433        transcript_name       transcript_biotype  transcript_length  \\\n",
      "1             M6PR-001           protein_coding               2756   \n",
      "3            FKBP4-001           protein_coding               3732   \n",
      "4          CYP26B1-001           protein_coding               4732   \n",
      "8           HS3ST1-001           protein_coding               8031   \n",
      "9           SEMA3F-001           protein_coding               3802   \n",
      "...                ...                      ...                ...   \n",
      "189902        TCF4-076           protein_coding               7938   \n",
      "189903       UBE3A-029           protein_coding               9131   \n",
      "189904    ARHGAP21-020  nonsense_mediated_decay               4034   \n",
      "189905     GRAMD1B-016           protein_coding               3849   \n",
      "189907      GABRA1-015           protein_coding               4088   \n",
      "\n",
      "        utr5_length  cds_length  utr3_length  exon_count canonical_flag  \n",
      "1               469         834         1453           7              T  \n",
      "3               187        1380         2165          10              T  \n",
      "4               204        1539         2989           6              T  \n",
      "8              1175         924         5932           2              T  \n",
      "9               484        2358          960          19              T  \n",
      "...             ...         ...          ...         ...            ...  \n",
      "189902           88        2013         5837          19              F  \n",
      "189903         1163        2559         5409          17              F  \n",
      "189904            0        1470         2564          15              F  \n",
      "189905          547        2085         1217          21              F  \n",
      "189907          153        1416         2519          11              F  \n",
      "\n",
      "[34392 rows x 8 columns]\n"
     ]
    }
   ],
   "source": [
    "print(\"Rows that have a transcript_length of 2433\", df[df.transcript_length>2433])"
   ]
  },
  {
   "cell_type": "markdown",
   "metadata": {},
   "source": [
    "- Calculating statistics of CDS length, excluding rows where CDS length is 0"
   ]
  },
  {
   "cell_type": "code",
   "execution_count": 14,
   "metadata": {},
   "outputs": [
    {
     "name": "stdout",
     "output_type": "stream",
     "text": [
      "Statistics for transcript length\n",
      "\tMinimum CDS length:  3\n"
     ]
    }
   ],
   "source": [
    "print(\"Statistics for transcript length\")\n",
    "print(\"\\tMinimum CDS length: \", df.cds_length[df.cds_length!=0].min())"
   ]
  },
  {
   "cell_type": "code",
   "execution_count": 15,
   "metadata": {},
   "outputs": [
    {
     "name": "stdout",
     "output_type": "stream",
     "text": [
      "\tMaximum CDS length:  107976\n"
     ]
    }
   ],
   "source": [
    "print(\"\\tMaximum CDS length: \", df.cds_length[df.cds_length!=0].max())\n"
   ]
  },
  {
   "cell_type": "code",
   "execution_count": 16,
   "metadata": {},
   "outputs": [
    {
     "name": "stdout",
     "output_type": "stream",
     "text": [
      "\tMean CDS length:  1120.8539358350656\n"
     ]
    }
   ],
   "source": [
    "print(\"\\tMean CDS length: \", df.cds_length[df.cds_length!=0].mean())"
   ]
  },
  {
   "cell_type": "code",
   "execution_count": 18,
   "metadata": {},
   "outputs": [
    {
     "name": "stdout",
     "output_type": "stream",
     "text": [
      "\tMedian CDS length:  678.0\n"
     ]
    }
   ],
   "source": [
    "print(\"\\tMedian CDS length: \", df.cds_length[df.cds_length!=0].median())"
   ]
  },
  {
   "cell_type": "code",
   "execution_count": null,
   "metadata": {},
   "outputs": [],
   "source": []
  },
  {
   "cell_type": "markdown",
   "metadata": {},
   "source": [
    "- Calculating the percentage of human transcripts with a CDS length that is a multiple of 3 in the total set of transcripts with non-zero length.\n",
    "- Recall that df.shape[0] gives the number of rows, and df.shape[1]) the number of columns in dataframe df"
   ]
  },
  {
   "cell_type": "code",
   "execution_count": 19,
   "metadata": {},
   "outputs": [],
   "source": [
    "# Number of transcripts where CDS length is not equal to 0\n",
    "# Note: .shape[0] returns num of rows!!!\n",
    "cds_number = df.cds_length[df.cds_length>0].shape[0]"
   ]
  },
  {
   "cell_type": "code",
   "execution_count": 20,
   "metadata": {},
   "outputs": [],
   "source": [
    "# Number of transcripts where CDS length is not equal to 0 and a multiple of 3\n",
    "cds_multiple_number = df.cds_length[df.cds_length>0][df.cds_length%3==0].shape[0]"
   ]
  },
  {
   "cell_type": "code",
   "execution_count": 21,
   "metadata": {},
   "outputs": [
    {
     "name": "stdout",
     "output_type": "stream",
     "text": [
      "79.69717751441246 %\n"
     ]
    }
   ],
   "source": [
    "print((cds_multiple_number/cds_number)*100, \"%\")"
   ]
  },
  {
   "cell_type": "markdown",
   "metadata": {},
   "source": [
    "- For each transcript_biotype, find the average transcript length"
   ]
  },
  {
   "cell_type": "code",
   "execution_count": 22,
   "metadata": {},
   "outputs": [
    {
     "name": "stdout",
     "output_type": "stream",
     "text": [
      "transcript_biotype\n",
      "3prime_overlapping_ncRNA              1841.700000\n",
      "IG_C_gene                             1122.176471\n",
      "IG_C_pseudogene                        555.111111\n",
      "IG_D_gene                               22.030303\n",
      "IG_J_gene                               66.555556\n",
      "IG_J_pseudogene                         55.000000\n",
      "IG_V_gene                              413.523077\n",
      "IG_V_pseudogene                        298.173410\n",
      "Mt_rRNA                               1256.500000\n",
      "Mt_tRNA                                 68.545455\n",
      "TEC                                   2242.108434\n",
      "TR_C_gene                             1196.200000\n",
      "TR_D_gene                               10.000000\n",
      "TR_J_gene                               58.915493\n",
      "TR_J_pseudogene                         59.250000\n",
      "TR_V_gene                              426.064516\n",
      "TR_V_pseudogene                        326.500000\n",
      "antisense                              915.031154\n",
      "bidirectional_promoter_lncRNA         1233.000000\n",
      "lincRNA                                956.528303\n",
      "miRNA                                   83.451989\n",
      "misc_RNA                               278.278351\n",
      "non_stop_decay                        1120.098765\n",
      "nonsense_mediated_decay               1533.668698\n",
      "polymorphic_pseudogene                1467.673913\n",
      "processed_pseudogene                   697.243413\n",
      "processed_transcript                   855.919923\n",
      "protein_coding                        2208.450488\n",
      "pseudogene                            1329.375000\n",
      "rRNA                                   113.195312\n",
      "retained_intron                       1249.230899\n",
      "ribozyme                               230.400000\n",
      "scRNA                                  200.000000\n",
      "scaRNA                                 177.687500\n",
      "sense_intronic                         835.539084\n",
      "sense_overlapping                     1253.020690\n",
      "snRNA                                  109.843940\n",
      "snoRNA                                 111.768675\n",
      "transcribed_processed_pseudogene       761.786385\n",
      "transcribed_unitary_pseudogene        1417.132075\n",
      "transcribed_unprocessed_pseudogene    1221.102564\n",
      "unitary_pseudogene                    1362.112676\n",
      "unprocessed_pseudogene                 829.379091\n",
      "vaultRNA                               127.000000\n",
      "Name: transcript_length, dtype: float64\n"
     ]
    }
   ],
   "source": [
    "#result = df.groupby('transcript_biotype').aggregate(pd.DataFrame.mean)['transcript_length']\n",
    "result = df.groupby('transcript_biotype')['transcript_length'].mean()\n",
    "print(result)"
   ]
  },
  {
   "cell_type": "code",
   "execution_count": 23,
   "metadata": {},
   "outputs": [
    {
     "data": {
      "text/plain": [
       "<AxesSubplot:ylabel='Frequency'>"
      ]
     },
     "execution_count": 23,
     "metadata": {},
     "output_type": "execute_result"
    },
    {
     "data": {
      "image/png": "[encoded data removed]",
      "text/plain": [
       "<Figure size 432x288 with 1 Axes>"
      ]
     },
     "metadata": {
      "needs_background": "light"
     },
     "output_type": "display_data"
    }
   ],
   "source": [
    "result.plot(kind='hist', bins=100)"
   ]
  },
  {
   "cell_type": "markdown",
   "metadata": {},
   "source": [
    "* But... check the type of result variable! It is a Series."
   ]
  },
  {
   "cell_type": "code",
   "execution_count": 27,
   "metadata": {},
   "outputs": [
    {
     "data": {
      "text/plain": [
       "pandas.core.series.Series"
      ]
     },
     "execution_count": 27,
     "metadata": {},
     "output_type": "execute_result"
    }
   ],
   "source": [
    "type(result)"
   ]
  },
  {
   "cell_type": "code",
   "execution_count": 28,
   "metadata": {},
   "outputs": [
    {
     "data": {
      "text/plain": [
       "Index(['3prime_overlapping_ncRNA', 'IG_C_gene', 'IG_C_pseudogene', 'IG_D_gene',\n",
       "       'IG_J_gene', 'IG_J_pseudogene', 'IG_V_gene', 'IG_V_pseudogene',\n",
       "       'Mt_rRNA', 'Mt_tRNA', 'TEC', 'TR_C_gene', 'TR_D_gene', 'TR_J_gene',\n",
       "       'TR_J_pseudogene', 'TR_V_gene', 'TR_V_pseudogene', 'antisense',\n",
       "       'bidirectional_promoter_lncRNA', 'lincRNA', 'miRNA', 'misc_RNA',\n",
       "       'non_stop_decay', 'nonsense_mediated_decay', 'polymorphic_pseudogene',\n",
       "       'processed_pseudogene', 'processed_transcript', 'protein_coding',\n",
       "       'pseudogene', 'rRNA', 'retained_intron', 'ribozyme', 'scRNA', 'scaRNA',\n",
       "       'sense_intronic', 'sense_overlapping', 'snRNA', 'snoRNA',\n",
       "       'transcribed_processed_pseudogene', 'transcribed_unitary_pseudogene',\n",
       "       'transcribed_unprocessed_pseudogene', 'unitary_pseudogene',\n",
       "       'unprocessed_pseudogene', 'vaultRNA'],\n",
       "      dtype='object', name='transcript_biotype')"
      ]
     },
     "execution_count": 28,
     "metadata": {},
     "output_type": "execute_result"
    }
   ],
   "source": [
    "result.index"
   ]
  },
  {
   "cell_type": "markdown",
   "metadata": {},
   "source": [
    "* Better to convert the panda series to a dataframe with two columns: Transcr. Biotype, AVG Transcr. length"
   ]
  },
  {
   "cell_type": "code",
   "execution_count": 29,
   "metadata": {},
   "outputs": [
    {
     "name": "stdout",
     "output_type": "stream",
     "text": [
      "                      Transcr. Biotype  AVG Transcr. length\n",
      "0             3prime_overlapping_ncRNA          1841.700000\n",
      "1                            IG_C_gene          1122.176471\n",
      "2                      IG_C_pseudogene           555.111111\n",
      "3                            IG_D_gene            22.030303\n",
      "4                            IG_J_gene            66.555556\n",
      "5                      IG_J_pseudogene            55.000000\n",
      "6                            IG_V_gene           413.523077\n",
      "7                      IG_V_pseudogene           298.173410\n",
      "8                              Mt_rRNA          1256.500000\n",
      "9                              Mt_tRNA            68.545455\n",
      "10                                 TEC          2242.108434\n",
      "11                           TR_C_gene          1196.200000\n",
      "12                           TR_D_gene            10.000000\n",
      "13                           TR_J_gene            58.915493\n",
      "14                     TR_J_pseudogene            59.250000\n",
      "15                           TR_V_gene           426.064516\n",
      "16                     TR_V_pseudogene           326.500000\n",
      "17                           antisense           915.031154\n",
      "18       bidirectional_promoter_lncRNA          1233.000000\n",
      "19                             lincRNA           956.528303\n",
      "20                               miRNA            83.451989\n",
      "21                            misc_RNA           278.278351\n",
      "22                      non_stop_decay          1120.098765\n",
      "23             nonsense_mediated_decay          1533.668698\n",
      "24              polymorphic_pseudogene          1467.673913\n",
      "25                processed_pseudogene           697.243413\n",
      "26                processed_transcript           855.919923\n",
      "27                      protein_coding          2208.450488\n",
      "28                          pseudogene          1329.375000\n",
      "29                                rRNA           113.195312\n",
      "30                     retained_intron          1249.230899\n",
      "31                            ribozyme           230.400000\n",
      "32                               scRNA           200.000000\n",
      "33                              scaRNA           177.687500\n",
      "34                      sense_intronic           835.539084\n",
      "35                   sense_overlapping          1253.020690\n",
      "36                               snRNA           109.843940\n",
      "37                              snoRNA           111.768675\n",
      "38    transcribed_processed_pseudogene           761.786385\n",
      "39      transcribed_unitary_pseudogene          1417.132075\n",
      "40  transcribed_unprocessed_pseudogene          1221.102564\n",
      "41                  unitary_pseudogene          1362.112676\n",
      "42              unprocessed_pseudogene           829.379091\n",
      "43                            vaultRNA           127.000000\n"
     ]
    }
   ],
   "source": [
    "result = result.reset_index()\n",
    "# or, another way is result = df.groupby('transcript_biotype')[['transcript_length']].mean() which directly returns a dataframe\n",
    "\n",
    "\n",
    "result.columns = ['Transcr. Biotype', 'AVG Transcr. length']\n",
    "print(result)"
   ]
  },
  {
   "cell_type": "markdown",
   "metadata": {},
   "source": [
    "- For each transcript_biotype, find the average transcript length, in increasing order"
   ]
  },
  {
   "cell_type": "code",
   "execution_count": 30,
   "metadata": {},
   "outputs": [
    {
     "name": "stdout",
     "output_type": "stream",
     "text": [
      "                      Transcr. Biotype  AVG Transcr. length\n",
      "12                           TR_D_gene            10.000000\n",
      "3                            IG_D_gene            22.030303\n",
      "5                      IG_J_pseudogene            55.000000\n",
      "13                           TR_J_gene            58.915493\n",
      "14                     TR_J_pseudogene            59.250000\n",
      "4                            IG_J_gene            66.555556\n",
      "9                              Mt_tRNA            68.545455\n",
      "20                               miRNA            83.451989\n",
      "36                               snRNA           109.843940\n",
      "37                              snoRNA           111.768675\n",
      "29                                rRNA           113.195312\n",
      "43                            vaultRNA           127.000000\n",
      "33                              scaRNA           177.687500\n",
      "32                               scRNA           200.000000\n",
      "31                            ribozyme           230.400000\n",
      "21                            misc_RNA           278.278351\n",
      "7                      IG_V_pseudogene           298.173410\n",
      "16                     TR_V_pseudogene           326.500000\n",
      "6                            IG_V_gene           413.523077\n",
      "15                           TR_V_gene           426.064516\n",
      "2                      IG_C_pseudogene           555.111111\n",
      "25                processed_pseudogene           697.243413\n",
      "38    transcribed_processed_pseudogene           761.786385\n",
      "42              unprocessed_pseudogene           829.379091\n",
      "34                      sense_intronic           835.539084\n",
      "26                processed_transcript           855.919923\n",
      "17                           antisense           915.031154\n",
      "19                             lincRNA           956.528303\n",
      "22                      non_stop_decay          1120.098765\n",
      "1                            IG_C_gene          1122.176471\n",
      "11                           TR_C_gene          1196.200000\n",
      "40  transcribed_unprocessed_pseudogene          1221.102564\n",
      "18       bidirectional_promoter_lncRNA          1233.000000\n",
      "30                     retained_intron          1249.230899\n",
      "35                   sense_overlapping          1253.020690\n",
      "8                              Mt_rRNA          1256.500000\n",
      "28                          pseudogene          1329.375000\n",
      "41                  unitary_pseudogene          1362.112676\n",
      "39      transcribed_unitary_pseudogene          1417.132075\n",
      "24              polymorphic_pseudogene          1467.673913\n",
      "23             nonsense_mediated_decay          1533.668698\n",
      "0             3prime_overlapping_ncRNA          1841.700000\n",
      "27                      protein_coding          2208.450488\n",
      "10                                 TEC          2242.108434\n"
     ]
    }
   ],
   "source": [
    "result = result.sort_values('AVG Transcr. length')\n",
    "print(result)"
   ]
  },
  {
   "cell_type": "markdown",
   "metadata": {},
   "source": [
    "- For protein_coding transcripts, find the average length of the 5’UTR, CDS and 3’ UTR"
   ]
  },
  {
   "cell_type": "code",
   "execution_count": 12,
   "metadata": {},
   "outputs": [
    {
     "name": "stdout",
     "output_type": "stream",
     "text": [
      "       transcript_name transcript_biotype  transcript_length  utr5_length  \\\n",
      "0             ARF5-001     protein_coding               1103          154   \n",
      "1             M6PR-001     protein_coding               2756          469   \n",
      "2            ESRRA-002     protein_coding               2215          171   \n",
      "3            FKBP4-001     protein_coding               3732          187   \n",
      "4          CYP26B1-001     protein_coding               4732          204   \n",
      "...                ...                ...                ...          ...   \n",
      "189902        TCF4-076     protein_coding               7938           88   \n",
      "189903       UBE3A-029     protein_coding               9131         1163   \n",
      "189905     GRAMD1B-016     protein_coding               3849          547   \n",
      "189907      GABRA1-015     protein_coding               4088          153   \n",
      "189908        CHML-003     protein_coding                705            0   \n",
      "\n",
      "        cds_length  utr3_length  exon_count canonical_flag  \n",
      "0              543          406           6              T  \n",
      "1              834         1453           7              T  \n",
      "2             1272          772           7              F  \n",
      "3             1380         2165          10              T  \n",
      "4             1539         2989           6              T  \n",
      "...            ...          ...         ...            ...  \n",
      "189902        2013         5837          19              F  \n",
      "189903        2559         5409          17              F  \n",
      "189905        2085         1217          21              F  \n",
      "189907        1416         2519          11              F  \n",
      "189908         444          261           2              F  \n",
      "\n",
      "[79203 rows x 8 columns]\n",
      "For transcript_biotype = 'protein_coding':\n",
      "\tAverage length of UTR5:  214.8861659280583\n",
      "\tAverage length of UTR3:  756.5741322929687\n",
      "\tAverage length of CDS:  1236.990189765539\n"
     ]
    }
   ],
   "source": [
    "filtered = df[df.transcript_biotype=='protein_coding']\n",
    "print(filtered)\n",
    "\n",
    "print(\"For transcript_biotype = 'protein_coding':\")\n",
    "print(\"\\tAverage length of UTR5: \", filtered.utr5_length.mean())\n",
    "print(\"\\tAverage length of UTR3: \", filtered.utr3_length.mean())\n",
    "print(\"\\tAverage length of CDS: \", filtered.cds_length.mean())"
   ]
  },
  {
   "cell_type": "code",
   "execution_count": null,
   "metadata": {},
   "outputs": [],
   "source": []
  },
  {
   "cell_type": "code",
   "execution_count": null,
   "metadata": {},
   "outputs": [],
   "source": []
  }
 ],
 "metadata": {
  "kernelspec": {
   "display_name": "Python 3",
   "language": "python",
   "name": "python3"
  },
  "language_info": {
   "codemirror_mode": {
    "name": "ipython",
    "version": 3
   },
   "file_extension": ".py",
   "mimetype": "text/x-python",
   "name": "python",
   "nbconvert_exporter": "python",
   "pygments_lexer": "ipython3",
   "version": "3.8.5"
  }
 },
 "nbformat": 4,
 "nbformat_minor": 4
}
