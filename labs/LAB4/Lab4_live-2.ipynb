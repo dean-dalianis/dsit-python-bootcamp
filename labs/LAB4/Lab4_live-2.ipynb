{
 "cells": [
  {
   "cell_type": "markdown",
   "metadata": {},
   "source": [
    "# Gene data cooking\n",
    "\n",
    "* gene_table.txt contains summary annotation on all human genes, based on the Ensembl annotation:\n",
    "* gene_name\n",
    "* gene_biotype (e.g., protein_coding, pseudogene, lincRNA, miRNA etc)\n",
    "* chromosome (on which the gene is located\n",
    "* strand (on which the gene is located)\n",
    "* transcript_count (the number of known isoforms of the gene)"
   ]
  },
  {
   "cell_type": "code",
   "execution_count": 2,
   "metadata": {},
   "outputs": [],
   "source": [
    "import pandas as pd"
   ]
  },
  {
   "cell_type": "markdown",
   "metadata": {},
   "source": [
    "# Reading from CSV files\n",
    "\n",
    "* Pandas provides the read_csv() function which can be used data from a CSV file"
   ]
  },
  {
   "cell_type": "code",
   "execution_count": 3,
   "metadata": {},
   "outputs": [],
   "source": [
    "# by read from file gene_table and delimit the fields using ','\n",
    "df=pd.read_csv('gene_table.txt', sep=',')"
   ]
  },
  {
   "cell_type": "markdown",
   "metadata": {},
   "source": [
    "# Accessing the DataFrame\n",
    "\n",
    "## Displaying the DataFame's top rows"
   ]
  },
  {
   "cell_type": "code",
   "execution_count": 4,
   "metadata": {},
   "outputs": [
    {
     "data": {
      "text/html": [
       "<div>\n",
       "<style scoped>\n",
       "    .dataframe tbody tr th:only-of-type {\n",
       "        vertical-align: middle;\n",
       "    }\n",
       "\n",
       "    .dataframe tbody tr th {\n",
       "        vertical-align: top;\n",
       "    }\n",
       "\n",
       "    .dataframe thead th {\n",
       "        text-align: right;\n",
       "    }\n",
       "</style>\n",
       "<table border=\"1\" class=\"dataframe\">\n",
       "  <thead>\n",
       "    <tr style=\"text-align: right;\">\n",
       "      <th></th>\n",
       "      <th>gene_name</th>\n",
       "      <th>gene_biotype</th>\n",
       "      <th>chromosome</th>\n",
       "      <th>strand</th>\n",
       "      <th>transcript_count</th>\n",
       "    </tr>\n",
       "  </thead>\n",
       "  <tbody>\n",
       "    <tr>\n",
       "      <th>0</th>\n",
       "      <td>TSPAN6</td>\n",
       "      <td>protein_coding</td>\n",
       "      <td>chrX</td>\n",
       "      <td>-</td>\n",
       "      <td>5</td>\n",
       "    </tr>\n",
       "    <tr>\n",
       "      <th>1</th>\n",
       "      <td>TNMD</td>\n",
       "      <td>protein_coding</td>\n",
       "      <td>chrX</td>\n",
       "      <td>+</td>\n",
       "      <td>2</td>\n",
       "    </tr>\n",
       "    <tr>\n",
       "      <th>2</th>\n",
       "      <td>DPM1</td>\n",
       "      <td>protein_coding</td>\n",
       "      <td>chr20</td>\n",
       "      <td>-</td>\n",
       "      <td>6</td>\n",
       "    </tr>\n",
       "    <tr>\n",
       "      <th>3</th>\n",
       "      <td>SCYL3</td>\n",
       "      <td>protein_coding</td>\n",
       "      <td>chr1</td>\n",
       "      <td>-</td>\n",
       "      <td>5</td>\n",
       "    </tr>\n",
       "    <tr>\n",
       "      <th>4</th>\n",
       "      <td>C1orf112</td>\n",
       "      <td>protein_coding</td>\n",
       "      <td>chr1</td>\n",
       "      <td>+</td>\n",
       "      <td>9</td>\n",
       "    </tr>\n",
       "  </tbody>\n",
       "</table>\n",
       "</div>"
      ],
      "text/plain": [
       "  gene_name    gene_biotype chromosome strand  transcript_count\n",
       "0    TSPAN6  protein_coding       chrX      -                 5\n",
       "1      TNMD  protein_coding       chrX      +                 2\n",
       "2      DPM1  protein_coding      chr20      -                 6\n",
       "3     SCYL3  protein_coding       chr1      -                 5\n",
       "4  C1orf112  protein_coding       chr1      +                 9"
      ]
     },
     "execution_count": 4,
     "metadata": {},
     "output_type": "execute_result"
    }
   ],
   "source": [
    "# head() method displays by default the top-5 rows of a dataframe\n",
    "df.head()"
   ]
  },
  {
   "cell_type": "code",
   "execution_count": 5,
   "metadata": {},
   "outputs": [
    {
     "name": "stdout",
     "output_type": "stream",
     "text": [
      "  gene_name    gene_biotype chromosome strand  transcript_count\n",
      "0    TSPAN6  protein_coding       chrX      -                 5\n",
      "1      TNMD  protein_coding       chrX      +                 2\n",
      "2      DPM1  protein_coding      chr20      -                 6\n",
      "3     SCYL3  protein_coding       chr1      -                 5\n",
      "4  C1orf112  protein_coding       chr1      +                 9\n",
      "5       FGR  protein_coding       chr1      -                 7\n",
      "6       CFH  protein_coding       chr1      +                 6\n",
      "7     FUCA2  protein_coding       chr6      -                 3\n",
      "8      GCLC  protein_coding       chr6      -                13\n",
      "9      NFYA  protein_coding       chr6      +                 2\n"
     ]
    }
   ],
   "source": [
    "# head() accepts also a number which configures the number of top rows of the dataframe to be displayed\n",
    "print(df.head(10))"
   ]
  },
  {
   "cell_type": "markdown",
   "metadata": {},
   "source": [
    "## Displaying the DataFrame's last rows"
   ]
  },
  {
   "cell_type": "code",
   "execution_count": 34,
   "metadata": {},
   "outputs": [
    {
     "data": {
      "text/html": [
       "<div>\n",
       "<style scoped>\n",
       "    .dataframe tbody tr th:only-of-type {\n",
       "        vertical-align: middle;\n",
       "    }\n",
       "\n",
       "    .dataframe tbody tr th {\n",
       "        vertical-align: top;\n",
       "    }\n",
       "\n",
       "    .dataframe thead th {\n",
       "        text-align: right;\n",
       "    }\n",
       "</style>\n",
       "<table border=\"1\" class=\"dataframe\">\n",
       "  <thead>\n",
       "    <tr style=\"text-align: right;\">\n",
       "      <th></th>\n",
       "      <th>gene_name</th>\n",
       "      <th>gene_biotype</th>\n",
       "      <th>chromosome</th>\n",
       "      <th>strand</th>\n",
       "      <th>transcript_count</th>\n",
       "    </tr>\n",
       "  </thead>\n",
       "  <tbody>\n",
       "    <tr>\n",
       "      <th>51322</th>\n",
       "      <td>MT-RNR1</td>\n",
       "      <td>Mt_rRNA</td>\n",
       "      <td>chrMT</td>\n",
       "      <td>+</td>\n",
       "      <td>1</td>\n",
       "    </tr>\n",
       "    <tr>\n",
       "      <th>51323</th>\n",
       "      <td>CRYM-AS1</td>\n",
       "      <td>bidirectional_promoter_lncRNA</td>\n",
       "      <td>chr16</td>\n",
       "      <td>+</td>\n",
       "      <td>3</td>\n",
       "    </tr>\n",
       "    <tr>\n",
       "      <th>51324</th>\n",
       "      <td>RP11-100E13.1</td>\n",
       "      <td>bidirectional_promoter_lncRNA</td>\n",
       "      <td>chr1</td>\n",
       "      <td>-</td>\n",
       "      <td>1</td>\n",
       "    </tr>\n",
       "    <tr>\n",
       "      <th>51325</th>\n",
       "      <td>VTRNA2-1</td>\n",
       "      <td>vaultRNA</td>\n",
       "      <td>chr5</td>\n",
       "      <td>-</td>\n",
       "      <td>1</td>\n",
       "    </tr>\n",
       "    <tr>\n",
       "      <th>51326</th>\n",
       "      <td>BCYRN1</td>\n",
       "      <td>scRNA</td>\n",
       "      <td>chr2</td>\n",
       "      <td>+</td>\n",
       "      <td>1</td>\n",
       "    </tr>\n",
       "  </tbody>\n",
       "</table>\n",
       "</div>"
      ],
      "text/plain": [
       "           gene_name                   gene_biotype chromosome strand  \\\n",
       "51322        MT-RNR1                        Mt_rRNA      chrMT      +   \n",
       "51323       CRYM-AS1  bidirectional_promoter_lncRNA      chr16      +   \n",
       "51324  RP11-100E13.1  bidirectional_promoter_lncRNA       chr1      -   \n",
       "51325       VTRNA2-1                       vaultRNA       chr5      -   \n",
       "51326         BCYRN1                          scRNA       chr2      +   \n",
       "\n",
       "       transcript_count  \n",
       "51322                 1  \n",
       "51323                 3  \n",
       "51324                 1  \n",
       "51325                 1  \n",
       "51326                 1  "
      ]
     },
     "execution_count": 34,
     "metadata": {},
     "output_type": "execute_result"
    }
   ],
   "source": [
    "# similarly tail() displays the last 5 rows of a dataframe\n",
    "df.tail()"
   ]
  },
  {
   "cell_type": "code",
   "execution_count": 35,
   "metadata": {},
   "outputs": [
    {
     "data": {
      "text/html": [
       "<div>\n",
       "<style scoped>\n",
       "    .dataframe tbody tr th:only-of-type {\n",
       "        vertical-align: middle;\n",
       "    }\n",
       "\n",
       "    .dataframe tbody tr th {\n",
       "        vertical-align: top;\n",
       "    }\n",
       "\n",
       "    .dataframe thead th {\n",
       "        text-align: right;\n",
       "    }\n",
       "</style>\n",
       "<table border=\"1\" class=\"dataframe\">\n",
       "  <thead>\n",
       "    <tr style=\"text-align: right;\">\n",
       "      <th></th>\n",
       "      <th>gene_name</th>\n",
       "      <th>gene_biotype</th>\n",
       "      <th>chromosome</th>\n",
       "      <th>strand</th>\n",
       "      <th>transcript_count</th>\n",
       "    </tr>\n",
       "  </thead>\n",
       "  <tbody>\n",
       "    <tr>\n",
       "      <th>51324</th>\n",
       "      <td>RP11-100E13.1</td>\n",
       "      <td>bidirectional_promoter_lncRNA</td>\n",
       "      <td>chr1</td>\n",
       "      <td>-</td>\n",
       "      <td>1</td>\n",
       "    </tr>\n",
       "    <tr>\n",
       "      <th>51325</th>\n",
       "      <td>VTRNA2-1</td>\n",
       "      <td>vaultRNA</td>\n",
       "      <td>chr5</td>\n",
       "      <td>-</td>\n",
       "      <td>1</td>\n",
       "    </tr>\n",
       "    <tr>\n",
       "      <th>51326</th>\n",
       "      <td>BCYRN1</td>\n",
       "      <td>scRNA</td>\n",
       "      <td>chr2</td>\n",
       "      <td>+</td>\n",
       "      <td>1</td>\n",
       "    </tr>\n",
       "  </tbody>\n",
       "</table>\n",
       "</div>"
      ],
      "text/plain": [
       "           gene_name                   gene_biotype chromosome strand  \\\n",
       "51324  RP11-100E13.1  bidirectional_promoter_lncRNA       chr1      -   \n",
       "51325       VTRNA2-1                       vaultRNA       chr5      -   \n",
       "51326         BCYRN1                          scRNA       chr2      +   \n",
       "\n",
       "       transcript_count  \n",
       "51324                 1  \n",
       "51325                 1  \n",
       "51326                 1  "
      ]
     },
     "execution_count": 35,
     "metadata": {},
     "output_type": "execute_result"
    }
   ],
   "source": [
    "# or a different amount if an argument is specified\n",
    "df.tail(3)"
   ]
  },
  {
   "cell_type": "markdown",
   "metadata": {},
   "source": [
    "## Retrieving the DataFrame's dimensions"
   ]
  },
  {
   "cell_type": "code",
   "execution_count": 7,
   "metadata": {},
   "outputs": [
    {
     "name": "stdout",
     "output_type": "stream",
     "text": [
      "DataFrame dimensions:  (51327, 5)\n",
      "DataFrame number of rows:  51327\n",
      "DataFrame number of columns:  5\n"
     ]
    }
   ],
   "source": [
    "print(\"DataFrame dimensions: \", df.shape)\n",
    "\n",
    "# the number of rows\n",
    "print(\"DataFrame number of rows: \", df.shape[0])\n",
    "\n",
    "# the number of columns\n",
    "print(\"DataFrame number of columns: \", df.shape[1])"
   ]
  },
  {
   "cell_type": "markdown",
   "metadata": {},
   "source": [
    "## Selecting DataFrame partitions\n",
    "\n",
    "### Selecting DataFrame rows\n",
    "\n",
    "- single rows"
   ]
  },
  {
   "cell_type": "code",
   "execution_count": 6,
   "metadata": {},
   "outputs": [
    {
     "data": {
      "text/html": [
       "<div>\n",
       "<style scoped>\n",
       "    .dataframe tbody tr th:only-of-type {\n",
       "        vertical-align: middle;\n",
       "    }\n",
       "\n",
       "    .dataframe tbody tr th {\n",
       "        vertical-align: top;\n",
       "    }\n",
       "\n",
       "    .dataframe thead th {\n",
       "        text-align: right;\n",
       "    }\n",
       "</style>\n",
       "<table border=\"1\" class=\"dataframe\">\n",
       "  <thead>\n",
       "    <tr style=\"text-align: right;\">\n",
       "      <th></th>\n",
       "      <th>gene_name</th>\n",
       "      <th>gene_biotype</th>\n",
       "      <th>chromosome</th>\n",
       "      <th>strand</th>\n",
       "      <th>transcript_count</th>\n",
       "    </tr>\n",
       "  </thead>\n",
       "  <tbody>\n",
       "    <tr>\n",
       "      <td>0</td>\n",
       "      <td>TSPAN6</td>\n",
       "      <td>protein_coding</td>\n",
       "      <td>chrX</td>\n",
       "      <td>-</td>\n",
       "      <td>5</td>\n",
       "    </tr>\n",
       "    <tr>\n",
       "      <td>1</td>\n",
       "      <td>TNMD</td>\n",
       "      <td>protein_coding</td>\n",
       "      <td>chrX</td>\n",
       "      <td>+</td>\n",
       "      <td>2</td>\n",
       "    </tr>\n",
       "    <tr>\n",
       "      <td>2</td>\n",
       "      <td>DPM1</td>\n",
       "      <td>protein_coding</td>\n",
       "      <td>chr20</td>\n",
       "      <td>-</td>\n",
       "      <td>6</td>\n",
       "    </tr>\n",
       "    <tr>\n",
       "      <td>3</td>\n",
       "      <td>SCYL3</td>\n",
       "      <td>protein_coding</td>\n",
       "      <td>chr1</td>\n",
       "      <td>-</td>\n",
       "      <td>5</td>\n",
       "    </tr>\n",
       "    <tr>\n",
       "      <td>4</td>\n",
       "      <td>C1orf112</td>\n",
       "      <td>protein_coding</td>\n",
       "      <td>chr1</td>\n",
       "      <td>+</td>\n",
       "      <td>9</td>\n",
       "    </tr>\n",
       "  </tbody>\n",
       "</table>\n",
       "</div>"
      ],
      "text/plain": [
       "  gene_name    gene_biotype chromosome strand  transcript_count\n",
       "0    TSPAN6  protein_coding       chrX      -                 5\n",
       "1      TNMD  protein_coding       chrX      +                 2\n",
       "2      DPM1  protein_coding      chr20      -                 6\n",
       "3     SCYL3  protein_coding       chr1      -                 5\n",
       "4  C1orf112  protein_coding       chr1      +                 9"
      ]
     },
     "execution_count": 6,
     "metadata": {},
     "output_type": "execute_result"
    }
   ],
   "source": [
    "df.head()"
   ]
  },
  {
   "cell_type": "markdown",
   "metadata": {},
   "source": [
    "* locate rows: loc[] when using row label/index, iloc[] when using index"
   ]
  },
  {
   "cell_type": "code",
   "execution_count": 36,
   "metadata": {
    "scrolled": true
   },
   "outputs": [
    {
     "name": "stdout",
     "output_type": "stream",
     "text": [
      "Row with label 11 of DataFrame:\n",
      "gene_name                   NIPAL3\n",
      "gene_biotype        protein_coding\n",
      "chromosome                    chr1\n",
      "strand                           +\n",
      "transcript_count                 7\n",
      "Name: 11, dtype: object\n"
     ]
    }
   ],
   "source": [
    "# retrieving DataFrame row by row index\n",
    "print(\"Row with label 11 of DataFrame:\")\n",
    "print(df.loc[11])"
   ]
  },
  {
   "cell_type": "code",
   "execution_count": 37,
   "metadata": {},
   "outputs": [
    {
     "name": "stdout",
     "output_type": "stream",
     "text": [
      "gene_name                    LAS1L\n",
      "gene_biotype        protein_coding\n",
      "chromosome                    chrX\n",
      "strand                           -\n",
      "transcript_count                 5\n",
      "Name: 12, dtype: object\n"
     ]
    }
   ],
   "source": [
    "# retrieving DataFrame row by index\n",
    "#print(\"13th row:\")\n",
    "print(df.iloc[12])"
   ]
  },
  {
   "cell_type": "markdown",
   "metadata": {},
   "source": [
    "- multiple rows by slicing"
   ]
  },
  {
   "cell_type": "code",
   "execution_count": 38,
   "metadata": {},
   "outputs": [
    {
     "name": "stdout",
     "output_type": "stream",
     "text": [
      "Displaying rows between label 8 and 11\n",
      "\n",
      "   gene_name    gene_biotype chromosome strand  transcript_count\n",
      "8       GCLC  protein_coding       chr6      -                13\n",
      "9       NFYA  protein_coding       chr6      +                 2\n",
      "10     STPG1  protein_coding       chr1      -                12\n",
      "11    NIPAL3  protein_coding       chr1      +                 7\n"
     ]
    }
   ],
   "source": [
    "# using a slice in 'loc', returns the part of the DataFrame, between the rows given in the slice\n",
    "print(\"Displaying rows between label 8 and 11\")\n",
    "print()\n",
    "print(df.loc[8:11])"
   ]
  },
  {
   "cell_type": "code",
   "execution_count": 39,
   "metadata": {},
   "outputs": [
    {
     "name": "stdout",
     "output_type": "stream",
     "text": [
      "Displaying rows whose index>=8  and index<11:\n",
      "\n",
      "   gene_name    gene_biotype chromosome strand  transcript_count\n",
      "8       GCLC  protein_coding       chr6      -                13\n",
      "9       NFYA  protein_coding       chr6      +                 2\n",
      "10     STPG1  protein_coding       chr1      -                12\n"
     ]
    }
   ],
   "source": [
    "# using a slice in iloc, returns the part of the DataFrame, indexed by the numbers in the slice\n",
    "# (same idea as in Python lists)\n",
    "print(\"Displaying rows whose index>=8  and index<11:\")\n",
    "print()\n",
    "print(df.iloc[8:11])"
   ]
  },
  {
   "cell_type": "markdown",
   "metadata": {},
   "source": [
    "### Selecting DataFrame columns\n",
    "\n",
    "- single column (returns a Series)"
   ]
  },
  {
   "cell_type": "code",
   "execution_count": 42,
   "metadata": {},
   "outputs": [
    {
     "name": "stdout",
     "output_type": "stream",
     "text": [
      "0               TSPAN6\n",
      "1                 TNMD\n",
      "2                 DPM1\n",
      "3                SCYL3\n",
      "4             C1orf112\n",
      "             ...      \n",
      "51322          MT-RNR1\n",
      "51323         CRYM-AS1\n",
      "51324    RP11-100E13.1\n",
      "51325         VTRNA2-1\n",
      "51326           BCYRN1\n",
      "Name: gene_name, Length: 51327, dtype: object\n"
     ]
    }
   ],
   "source": [
    "# retrieving gene_name as a key value\n",
    "print(df['gene_name'])"
   ]
  },
  {
   "cell_type": "code",
   "execution_count": 43,
   "metadata": {},
   "outputs": [
    {
     "name": "stdout",
     "output_type": "stream",
     "text": [
      "No column was found\n"
     ]
    }
   ],
   "source": [
    "# get method can also be used to make sure no error is raised when the given column does not exist\n",
    "print(df.get('gene-name', 'No column was found'))"
   ]
  },
  {
   "cell_type": "markdown",
   "metadata": {},
   "source": [
    "- selecting multiple columns (returns a new DataFrame)"
   ]
  },
  {
   "cell_type": "code",
   "execution_count": 15,
   "metadata": {},
   "outputs": [
    {
     "name": "stdout",
     "output_type": "stream",
     "text": [
      "           gene_name strand  transcript_count\n",
      "0             TSPAN6      -                 5\n",
      "1               TNMD      +                 2\n",
      "2               DPM1      -                 6\n",
      "3              SCYL3      -                 5\n",
      "4           C1orf112      +                 9\n",
      "...              ...    ...               ...\n",
      "51322        MT-RNR1      +                 1\n",
      "51323       CRYM-AS1      +                 3\n",
      "51324  RP11-100E13.1      -                 1\n",
      "51325       VTRNA2-1      -                 1\n",
      "51326         BCYRN1      +                 1\n",
      "\n",
      "[51327 rows x 3 columns]\n"
     ]
    }
   ],
   "source": [
    "# retrieving multiple columns of a DataFrame\n",
    "print(df[['gene_name', 'strand','transcript_count']])"
   ]
  },
  {
   "cell_type": "markdown",
   "metadata": {},
   "source": [
    "## Iterating through a DataFrame's rows\n",
    "* The iterrows() method generates an iterator object of the DataFrame, allowing us to iterate each row in the DataFrame.\n",
    "* Each iteration produces an index object and a row object (a Pandas Series object)."
   ]
  },
  {
   "cell_type": "code",
   "execution_count": 44,
   "metadata": {},
   "outputs": [
    {
     "name": "stdout",
     "output_type": "stream",
     "text": [
      "Row label:  0\n",
      "Row data:  gene_name                   TSPAN6\n",
      "gene_biotype        protein_coding\n",
      "chromosome                    chrX\n",
      "strand                           -\n",
      "transcript_count                 5\n",
      "Name: 0, dtype: object\n",
      "---------\n",
      "Row label:  1\n",
      "Row data:  gene_name                     TNMD\n",
      "gene_biotype        protein_coding\n",
      "chromosome                    chrX\n",
      "strand                           +\n",
      "transcript_count                 2\n",
      "Name: 1, dtype: object\n",
      "---------\n",
      "Row label:  2\n",
      "Row data:  gene_name                     DPM1\n",
      "gene_biotype        protein_coding\n",
      "chromosome                   chr20\n",
      "strand                           -\n",
      "transcript_count                 6\n",
      "Name: 2, dtype: object\n",
      "---------\n"
     ]
    }
   ],
   "source": [
    "#get first 3 rows of the dataframe\n",
    "tiny_df = df.iloc[0:3] # 0, 1, 2\n",
    "#iterate over each row\n",
    "# iterrows returns an index and a panda series\n",
    "for row_label, row_data in tiny_df.iterrows():\n",
    "    # row_label: label of each row\n",
    "    # row_data: data of each row (a Series)\n",
    "    print(\"Row label: \", row_label)\n",
    "    print(\"Row data: \", row_data)\n",
    "    print(\"---------\")\n",
    "    #print(\"Row data: \", row_data['chromosome'])\n",
    "    "
   ]
  },
  {
   "cell_type": "markdown",
   "metadata": {},
   "source": [
    "## Retrieving statistics\n",
    "\n",
    "- by using statistical methods provided by pandas"
   ]
  },
  {
   "cell_type": "code",
   "execution_count": 18,
   "metadata": {},
   "outputs": [
    {
     "name": "stdout",
     "output_type": "stream",
     "text": [
      "0        5\n",
      "1        2\n",
      "2        6\n",
      "3        5\n",
      "4        9\n",
      "        ..\n",
      "51322    1\n",
      "51323    3\n",
      "51324    1\n",
      "51325    1\n",
      "51326    1\n",
      "Name: transcript_count, Length: 51327, dtype: int64\n"
     ]
    }
   ],
   "source": [
    "# for numerical columns there may be a need to retrieve basic statistics\n",
    "transcript_column=df.transcript_count # df['transcript_count']\n",
    "print(transcript_column)"
   ]
  },
  {
   "cell_type": "code",
   "execution_count": 45,
   "metadata": {},
   "outputs": [
    {
     "name": "stdout",
     "output_type": "stream",
     "text": [
      "The maximum transcript_count observed:  170\n"
     ]
    }
   ],
   "source": [
    "# let's retrieve the statistics for the transcript_count column\n",
    "print(\"The maximum transcript_count observed: \", transcript_column.max())"
   ]
  },
  {
   "cell_type": "code",
   "execution_count": 46,
   "metadata": {},
   "outputs": [
    {
     "name": "stdout",
     "output_type": "stream",
     "text": [
      "The minimum transcript_count observed:  1\n"
     ]
    }
   ],
   "source": [
    "print(\"The minimum transcript_count observed: \", transcript_column.min())"
   ]
  },
  {
   "cell_type": "code",
   "execution_count": 47,
   "metadata": {},
   "outputs": [
    {
     "name": "stdout",
     "output_type": "stream",
     "text": [
      "The average transcript_count observed:  3.700469538449549\n"
     ]
    }
   ],
   "source": [
    "print(\"The average transcript_count observed: \", transcript_column.mean())"
   ]
  },
  {
   "cell_type": "code",
   "execution_count": 22,
   "metadata": {},
   "outputs": [
    {
     "name": "stdout",
     "output_type": "stream",
     "text": [
      "The median of all transcript counts:  1.0\n"
     ]
    }
   ],
   "source": [
    "# the median is the middle element of a sorted sequence of elements\n",
    "# e.g. 1,1,3,4,103,2014,98531 -> median: 4\n",
    "print(\"The median of all transcript counts: \", transcript_column.median())"
   ]
  },
  {
   "cell_type": "markdown",
   "metadata": {},
   "source": [
    "- by using the describe() method"
   ]
  },
  {
   "cell_type": "code",
   "execution_count": 23,
   "metadata": {},
   "outputs": [
    {
     "data": {
      "text/plain": [
       "count    51327.000000\n",
       "mean         3.700470\n",
       "std          5.336323\n",
       "min          1.000000\n",
       "25%          1.000000\n",
       "50%          1.000000\n",
       "75%          4.000000\n",
       "max        170.000000\n",
       "Name: transcript_count, dtype: float64"
      ]
     },
     "execution_count": 23,
     "metadata": {},
     "output_type": "execute_result"
    }
   ],
   "source": [
    "# pandas also provides the describe() method for statistics in numerical columns\n",
    "transcript_column.describe()"
   ]
  },
  {
   "cell_type": "markdown",
   "metadata": {},
   "source": [
    "#### Plotting a histogram on a numerical column"
   ]
  },
  {
   "cell_type": "code",
   "execution_count": 48,
   "metadata": {},
   "outputs": [
    {
     "data": {
      "text/plain": [
       "<AxesSubplot:ylabel='Frequency'>"
      ]
     },
     "execution_count": 48,
     "metadata": {},
     "output_type": "execute_result"
    },
    {
     "data": {
      "image/png": "[encoded data removed]",
      "text/plain": [
       "<Figure size 432x288 with 1 Axes>"
      ]
     },
     "metadata": {
      "needs_background": "light"
     },
     "output_type": "display_data"
    }
   ],
   "source": [
    "transcript_column.plot(kind=\"hist\",bins=100)\n",
    "# bins: refers to the number of bars that appear (configures the histogram resolution)"
   ]
  },
  {
   "cell_type": "markdown",
   "metadata": {},
   "source": [
    "# Sorting DataFrame rows\n",
    "\n",
    "Sorted by values of one (or more) columns\n",
    "\n",
    "Sorting returns a new sorted DataFrame\n",
    "\n",
    "## Sorting order\n",
    "\n",
    "- ascending"
   ]
  },
  {
   "cell_type": "code",
   "execution_count": 51,
   "metadata": {
    "scrolled": true
   },
   "outputs": [
    {
     "data": {
      "text/html": [
       "<div>\n",
       "<style scoped>\n",
       "    .dataframe tbody tr th:only-of-type {\n",
       "        vertical-align: middle;\n",
       "    }\n",
       "\n",
       "    .dataframe tbody tr th {\n",
       "        vertical-align: top;\n",
       "    }\n",
       "\n",
       "    .dataframe thead th {\n",
       "        text-align: right;\n",
       "    }\n",
       "</style>\n",
       "<table border=\"1\" class=\"dataframe\">\n",
       "  <thead>\n",
       "    <tr style=\"text-align: right;\">\n",
       "      <th></th>\n",
       "      <th>gene_name</th>\n",
       "      <th>gene_biotype</th>\n",
       "      <th>chromosome</th>\n",
       "      <th>strand</th>\n",
       "      <th>transcript_count</th>\n",
       "    </tr>\n",
       "  </thead>\n",
       "  <tbody>\n",
       "    <tr>\n",
       "      <th>47550</th>\n",
       "      <td>PCBP1-AS1</td>\n",
       "      <td>processed_transcript</td>\n",
       "      <td>chr2</td>\n",
       "      <td>-</td>\n",
       "      <td>170</td>\n",
       "    </tr>\n",
       "    <tr>\n",
       "      <th>32044</th>\n",
       "      <td>LINC00969</td>\n",
       "      <td>lincRNA</td>\n",
       "      <td>chr3</td>\n",
       "      <td>+</td>\n",
       "      <td>142</td>\n",
       "    </tr>\n",
       "    <tr>\n",
       "      <th>30080</th>\n",
       "      <td>TEX41</td>\n",
       "      <td>lincRNA</td>\n",
       "      <td>chr2</td>\n",
       "      <td>+</td>\n",
       "      <td>103</td>\n",
       "    </tr>\n",
       "    <tr>\n",
       "      <th>16363</th>\n",
       "      <td>TCF4</td>\n",
       "      <td>protein_coding</td>\n",
       "      <td>chr18</td>\n",
       "      <td>-</td>\n",
       "      <td>90</td>\n",
       "    </tr>\n",
       "    <tr>\n",
       "      <th>11524</th>\n",
       "      <td>NDRG2</td>\n",
       "      <td>protein_coding</td>\n",
       "      <td>chr14</td>\n",
       "      <td>-</td>\n",
       "      <td>79</td>\n",
       "    </tr>\n",
       "    <tr>\n",
       "      <th>...</th>\n",
       "      <td>...</td>\n",
       "      <td>...</td>\n",
       "      <td>...</td>\n",
       "      <td>...</td>\n",
       "      <td>...</td>\n",
       "    </tr>\n",
       "    <tr>\n",
       "      <th>27712</th>\n",
       "      <td>RP11-986E7.2</td>\n",
       "      <td>processed_pseudogene</td>\n",
       "      <td>chr14</td>\n",
       "      <td>-</td>\n",
       "      <td>1</td>\n",
       "    </tr>\n",
       "    <tr>\n",
       "      <th>27711</th>\n",
       "      <td>RP11-305B6.1</td>\n",
       "      <td>processed_pseudogene</td>\n",
       "      <td>chr14</td>\n",
       "      <td>-</td>\n",
       "      <td>1</td>\n",
       "    </tr>\n",
       "    <tr>\n",
       "      <th>27710</th>\n",
       "      <td>RP11-108M12.2</td>\n",
       "      <td>processed_pseudogene</td>\n",
       "      <td>chr14</td>\n",
       "      <td>-</td>\n",
       "      <td>1</td>\n",
       "    </tr>\n",
       "    <tr>\n",
       "      <th>27709</th>\n",
       "      <td>RP11-545M17.2</td>\n",
       "      <td>processed_pseudogene</td>\n",
       "      <td>chr14</td>\n",
       "      <td>+</td>\n",
       "      <td>1</td>\n",
       "    </tr>\n",
       "    <tr>\n",
       "      <th>51326</th>\n",
       "      <td>BCYRN1</td>\n",
       "      <td>scRNA</td>\n",
       "      <td>chr2</td>\n",
       "      <td>+</td>\n",
       "      <td>1</td>\n",
       "    </tr>\n",
       "  </tbody>\n",
       "</table>\n",
       "<p>51327 rows × 5 columns</p>\n",
       "</div>"
      ],
      "text/plain": [
       "           gene_name          gene_biotype chromosome strand  transcript_count\n",
       "47550      PCBP1-AS1  processed_transcript       chr2      -               170\n",
       "32044      LINC00969               lincRNA       chr3      +               142\n",
       "30080          TEX41               lincRNA       chr2      +               103\n",
       "16363           TCF4        protein_coding      chr18      -                90\n",
       "11524          NDRG2        protein_coding      chr14      -                79\n",
       "...              ...                   ...        ...    ...               ...\n",
       "27712   RP11-986E7.2  processed_pseudogene      chr14      -                 1\n",
       "27711   RP11-305B6.1  processed_pseudogene      chr14      -                 1\n",
       "27710  RP11-108M12.2  processed_pseudogene      chr14      -                 1\n",
       "27709  RP11-545M17.2  processed_pseudogene      chr14      +                 1\n",
       "51326         BCYRN1                 scRNA       chr2      +                 1\n",
       "\n",
       "[51327 rows x 5 columns]"
      ]
     },
     "execution_count": 51,
     "metadata": {},
     "output_type": "execute_result"
    }
   ],
   "source": [
    "# sorting DataFrame, by alphabetical order of gene_name\n",
    "df.sort_values('transcript_count', ascending=False)\n",
    "#df.sort_values('transcript_count', ascending=False).head(10)"
   ]
  },
  {
   "cell_type": "markdown",
   "metadata": {},
   "source": [
    "- descending"
   ]
  },
  {
   "cell_type": "code",
   "execution_count": 52,
   "metadata": {
    "scrolled": true
   },
   "outputs": [
    {
     "data": {
      "text/html": [
       "<div>\n",
       "<style scoped>\n",
       "    .dataframe tbody tr th:only-of-type {\n",
       "        vertical-align: middle;\n",
       "    }\n",
       "\n",
       "    .dataframe tbody tr th {\n",
       "        vertical-align: top;\n",
       "    }\n",
       "\n",
       "    .dataframe thead th {\n",
       "        text-align: right;\n",
       "    }\n",
       "</style>\n",
       "<table border=\"1\" class=\"dataframe\">\n",
       "  <thead>\n",
       "    <tr style=\"text-align: right;\">\n",
       "      <th></th>\n",
       "      <th>gene_name</th>\n",
       "      <th>gene_biotype</th>\n",
       "      <th>chromosome</th>\n",
       "      <th>strand</th>\n",
       "      <th>transcript_count</th>\n",
       "    </tr>\n",
       "  </thead>\n",
       "  <tbody>\n",
       "    <tr>\n",
       "      <th>47550</th>\n",
       "      <td>PCBP1-AS1</td>\n",
       "      <td>processed_transcript</td>\n",
       "      <td>chr2</td>\n",
       "      <td>-</td>\n",
       "      <td>170</td>\n",
       "    </tr>\n",
       "    <tr>\n",
       "      <th>32044</th>\n",
       "      <td>LINC00969</td>\n",
       "      <td>lincRNA</td>\n",
       "      <td>chr3</td>\n",
       "      <td>+</td>\n",
       "      <td>142</td>\n",
       "    </tr>\n",
       "    <tr>\n",
       "      <th>30080</th>\n",
       "      <td>TEX41</td>\n",
       "      <td>lincRNA</td>\n",
       "      <td>chr2</td>\n",
       "      <td>+</td>\n",
       "      <td>103</td>\n",
       "    </tr>\n",
       "    <tr>\n",
       "      <th>16363</th>\n",
       "      <td>TCF4</td>\n",
       "      <td>protein_coding</td>\n",
       "      <td>chr18</td>\n",
       "      <td>-</td>\n",
       "      <td>90</td>\n",
       "    </tr>\n",
       "    <tr>\n",
       "      <th>11524</th>\n",
       "      <td>NDRG2</td>\n",
       "      <td>protein_coding</td>\n",
       "      <td>chr14</td>\n",
       "      <td>-</td>\n",
       "      <td>79</td>\n",
       "    </tr>\n",
       "    <tr>\n",
       "      <th>17421</th>\n",
       "      <td>ADGRG1</td>\n",
       "      <td>protein_coding</td>\n",
       "      <td>chr16</td>\n",
       "      <td>+</td>\n",
       "      <td>77</td>\n",
       "    </tr>\n",
       "    <tr>\n",
       "      <th>14712</th>\n",
       "      <td>CACNB4</td>\n",
       "      <td>protein_coding</td>\n",
       "      <td>chr2</td>\n",
       "      <td>-</td>\n",
       "      <td>74</td>\n",
       "    </tr>\n",
       "    <tr>\n",
       "      <th>47657</th>\n",
       "      <td>SATB1-AS1</td>\n",
       "      <td>processed_transcript</td>\n",
       "      <td>chr3</td>\n",
       "      <td>+</td>\n",
       "      <td>73</td>\n",
       "    </tr>\n",
       "    <tr>\n",
       "      <th>37157</th>\n",
       "      <td>AC012594.1</td>\n",
       "      <td>antisense</td>\n",
       "      <td>chr2</td>\n",
       "      <td>-</td>\n",
       "      <td>73</td>\n",
       "    </tr>\n",
       "    <tr>\n",
       "      <th>37845</th>\n",
       "      <td>TTN-AS1</td>\n",
       "      <td>antisense</td>\n",
       "      <td>chr2</td>\n",
       "      <td>+</td>\n",
       "      <td>71</td>\n",
       "    </tr>\n",
       "  </tbody>\n",
       "</table>\n",
       "</div>"
      ],
      "text/plain": [
       "        gene_name          gene_biotype chromosome strand  transcript_count\n",
       "47550   PCBP1-AS1  processed_transcript       chr2      -               170\n",
       "32044   LINC00969               lincRNA       chr3      +               142\n",
       "30080       TEX41               lincRNA       chr2      +               103\n",
       "16363        TCF4        protein_coding      chr18      -                90\n",
       "11524       NDRG2        protein_coding      chr14      -                79\n",
       "17421      ADGRG1        protein_coding      chr16      +                77\n",
       "14712      CACNB4        protein_coding       chr2      -                74\n",
       "47657   SATB1-AS1  processed_transcript       chr3      +                73\n",
       "37157  AC012594.1             antisense       chr2      -                73\n",
       "37845     TTN-AS1             antisense       chr2      +                71"
      ]
     },
     "execution_count": 52,
     "metadata": {},
     "output_type": "execute_result"
    }
   ],
   "source": [
    "# sorting DataFrame, by the number of transcripts of each gene, in descending order\n",
    "df.sort_values('transcript_count', ascending=False).head(10)"
   ]
  },
  {
   "cell_type": "markdown",
   "metadata": {},
   "source": [
    "## Grouping examples\n",
    "\n",
    "* For each biotype, find the average number of transcripts associated to genes belonging to the biotype"
   ]
  },
  {
   "cell_type": "code",
   "execution_count": 30,
   "metadata": {},
   "outputs": [
    {
     "data": {
      "text/html": [
       "<div>\n",
       "<style scoped>\n",
       "    .dataframe tbody tr th:only-of-type {\n",
       "        vertical-align: middle;\n",
       "    }\n",
       "\n",
       "    .dataframe tbody tr th {\n",
       "        vertical-align: top;\n",
       "    }\n",
       "\n",
       "    .dataframe thead th {\n",
       "        text-align: right;\n",
       "    }\n",
       "</style>\n",
       "<table border=\"1\" class=\"dataframe\">\n",
       "  <thead>\n",
       "    <tr style=\"text-align: right;\">\n",
       "      <th></th>\n",
       "      <th>gene_name</th>\n",
       "      <th>gene_biotype</th>\n",
       "      <th>chromosome</th>\n",
       "      <th>strand</th>\n",
       "      <th>transcript_count</th>\n",
       "    </tr>\n",
       "  </thead>\n",
       "  <tbody>\n",
       "    <tr>\n",
       "      <th>0</th>\n",
       "      <td>TSPAN6</td>\n",
       "      <td>protein_coding</td>\n",
       "      <td>chrX</td>\n",
       "      <td>-</td>\n",
       "      <td>5</td>\n",
       "    </tr>\n",
       "    <tr>\n",
       "      <th>1</th>\n",
       "      <td>TNMD</td>\n",
       "      <td>protein_coding</td>\n",
       "      <td>chrX</td>\n",
       "      <td>+</td>\n",
       "      <td>2</td>\n",
       "    </tr>\n",
       "    <tr>\n",
       "      <th>2</th>\n",
       "      <td>DPM1</td>\n",
       "      <td>protein_coding</td>\n",
       "      <td>chr20</td>\n",
       "      <td>-</td>\n",
       "      <td>6</td>\n",
       "    </tr>\n",
       "    <tr>\n",
       "      <th>3</th>\n",
       "      <td>SCYL3</td>\n",
       "      <td>protein_coding</td>\n",
       "      <td>chr1</td>\n",
       "      <td>-</td>\n",
       "      <td>5</td>\n",
       "    </tr>\n",
       "    <tr>\n",
       "      <th>4</th>\n",
       "      <td>C1orf112</td>\n",
       "      <td>protein_coding</td>\n",
       "      <td>chr1</td>\n",
       "      <td>+</td>\n",
       "      <td>9</td>\n",
       "    </tr>\n",
       "    <tr>\n",
       "      <th>5</th>\n",
       "      <td>FGR</td>\n",
       "      <td>protein_coding</td>\n",
       "      <td>chr1</td>\n",
       "      <td>-</td>\n",
       "      <td>7</td>\n",
       "    </tr>\n",
       "    <tr>\n",
       "      <th>6</th>\n",
       "      <td>CFH</td>\n",
       "      <td>protein_coding</td>\n",
       "      <td>chr1</td>\n",
       "      <td>+</td>\n",
       "      <td>6</td>\n",
       "    </tr>\n",
       "    <tr>\n",
       "      <th>7</th>\n",
       "      <td>FUCA2</td>\n",
       "      <td>protein_coding</td>\n",
       "      <td>chr6</td>\n",
       "      <td>-</td>\n",
       "      <td>3</td>\n",
       "    </tr>\n",
       "    <tr>\n",
       "      <th>8</th>\n",
       "      <td>GCLC</td>\n",
       "      <td>protein_coding</td>\n",
       "      <td>chr6</td>\n",
       "      <td>-</td>\n",
       "      <td>13</td>\n",
       "    </tr>\n",
       "    <tr>\n",
       "      <th>9</th>\n",
       "      <td>NFYA</td>\n",
       "      <td>protein_coding</td>\n",
       "      <td>chr6</td>\n",
       "      <td>+</td>\n",
       "      <td>2</td>\n",
       "    </tr>\n",
       "  </tbody>\n",
       "</table>\n",
       "</div>"
      ],
      "text/plain": [
       "  gene_name    gene_biotype chromosome strand  transcript_count\n",
       "0    TSPAN6  protein_coding       chrX      -                 5\n",
       "1      TNMD  protein_coding       chrX      +                 2\n",
       "2      DPM1  protein_coding      chr20      -                 6\n",
       "3     SCYL3  protein_coding       chr1      -                 5\n",
       "4  C1orf112  protein_coding       chr1      +                 9\n",
       "5       FGR  protein_coding       chr1      -                 7\n",
       "6       CFH  protein_coding       chr1      +                 6\n",
       "7     FUCA2  protein_coding       chr6      -                 3\n",
       "8      GCLC  protein_coding       chr6      -                13\n",
       "9      NFYA  protein_coding       chr6      +                 2"
      ]
     },
     "execution_count": 30,
     "metadata": {},
     "output_type": "execute_result"
    }
   ],
   "source": [
    "# call a head() just to remember how df looks like... \n",
    "df.head(10)"
   ]
  },
  {
   "cell_type": "code",
   "execution_count": 53,
   "metadata": {},
   "outputs": [
    {
     "name": "stdout",
     "output_type": "stream",
     "text": [
      "gene_biotype\n",
      "3prime_overlapping_ncRNA              1.153846\n",
      "IG_C_gene                             1.285714\n",
      "IG_C_pseudogene                       1.000000\n",
      "IG_D_gene                             1.000000\n",
      "IG_J_gene                             1.000000\n",
      "IG_J_pseudogene                       1.000000\n",
      "IG_V_gene                             1.053846\n",
      "IG_V_pseudogene                       1.000000\n",
      "Mt_rRNA                               1.000000\n",
      "Mt_tRNA                               1.000000\n",
      "TEC                                   1.166667\n",
      "TR_C_gene                             1.800000\n",
      "TR_D_gene                             1.000000\n",
      "TR_J_gene                             1.000000\n",
      "TR_J_pseudogene                       1.000000\n",
      "TR_V_gene                             1.010753\n",
      "TR_V_pseudogene                       1.000000\n",
      "antisense                             1.871659\n",
      "bidirectional_promoter_lncRNA         2.000000\n",
      "lincRNA                               1.690283\n",
      "miRNA                                 1.000000\n",
      "misc_RNA                              1.000000\n",
      "polymorphic_pseudogene                3.206897\n",
      "processed_pseudogene                  1.000304\n",
      "processed_transcript                  5.735556\n",
      "protein_coding                        7.439154\n",
      "pseudogene                            1.000000\n",
      "rRNA                                  1.000000\n",
      "ribozyme                              1.000000\n",
      "scRNA                                 1.000000\n",
      "scaRNA                                1.000000\n",
      "sense_intronic                        1.087464\n",
      "sense_overlapping                     1.609195\n",
      "snRNA                                 1.000000\n",
      "snoRNA                                1.027228\n",
      "transcribed_processed_pseudogene      2.100939\n",
      "transcribed_unitary_pseudogene        5.056604\n",
      "transcribed_unprocessed_pseudogene    3.337368\n",
      "unitary_pseudogene                    1.921986\n",
      "unprocessed_pseudogene                1.001364\n",
      "vaultRNA                              1.000000\n",
      "Name: transcript_count, dtype: float64\n"
     ]
    }
   ],
   "source": [
    "# Constructing the command:\n",
    "#\n",
    "# Dataframe: \n",
    "#           df\n",
    "#\n",
    "# Groub by gene_biotype: \n",
    "#           df.groupby('gene_biotype')\n",
    "#\n",
    "\n",
    "result = df.groupby('gene_biotype')['transcript_count'].mean()\n",
    "print(result)"
   ]
  },
  {
   "cell_type": "code",
   "execution_count": 54,
   "metadata": {},
   "outputs": [
    {
     "data": {
      "text/plain": [
       "<AxesSubplot:ylabel='Frequency'>"
      ]
     },
     "execution_count": 54,
     "metadata": {},
     "output_type": "execute_result"
    },
    {
     "data": {
      "image/png": "[encoded data removed]",
      "text/plain": [
       "<Figure size 432x288 with 1 Axes>"
      ]
     },
     "metadata": {
      "needs_background": "light"
     },
     "output_type": "display_data"
    }
   ],
   "source": [
    "result.plot(kind=\"hist\",bins=50,color=\"Crimson\")"
   ]
  },
  {
   "cell_type": "code",
   "execution_count": null,
   "metadata": {},
   "outputs": [],
   "source": []
  },
  {
   "cell_type": "code",
   "execution_count": null,
   "metadata": {},
   "outputs": [],
   "source": []
  },
  {
   "cell_type": "code",
   "execution_count": null,
   "metadata": {},
   "outputs": [],
   "source": []
  }
 ],
 "metadata": {
  "kernelspec": {
   "display_name": "Python 3",
   "language": "python",
   "name": "python3"
  },
  "language_info": {
   "codemirror_mode": {
    "name": "ipython",
    "version": 3
   },
   "file_extension": ".py",
   "mimetype": "text/x-python",
   "name": "python",
   "nbconvert_exporter": "python",
   "pygments_lexer": "ipython3",
   "version": "3.8.5"
  }
 },
 "nbformat": 4,
 "nbformat_minor": 4
}
