{
 "cells": [
  {
   "cell_type": "code",
   "execution_count": 2,
   "metadata": {},
   "outputs": [
    {
     "data": {
      "text/html": [
       "<div>\n",
       "<style scoped>\n",
       "    .dataframe tbody tr th:only-of-type {\n",
       "        vertical-align: middle;\n",
       "    }\n",
       "\n",
       "    .dataframe tbody tr th {\n",
       "        vertical-align: top;\n",
       "    }\n",
       "\n",
       "    .dataframe thead th {\n",
       "        text-align: right;\n",
       "    }\n",
       "</style>\n",
       "<table border=\"1\" class=\"dataframe\">\n",
       "  <thead>\n",
       "    <tr style=\"text-align: right;\">\n",
       "      <th></th>\n",
       "      <th>location</th>\n",
       "      <th>type</th>\n",
       "      <th>area</th>\n",
       "      <th>constructionyear</th>\n",
       "      <th>sellingyear</th>\n",
       "      <th>price</th>\n",
       "    </tr>\n",
       "  </thead>\n",
       "  <tbody>\n",
       "    <tr>\n",
       "      <th>0</th>\n",
       "      <td>Zografou</td>\n",
       "      <td>Storehouse</td>\n",
       "      <td>NaN</td>\n",
       "      <td>1974</td>\n",
       "      <td>2018</td>\n",
       "      <td>500</td>\n",
       "    </tr>\n",
       "    <tr>\n",
       "      <th>1</th>\n",
       "      <td>Zografou</td>\n",
       "      <td>Storehouse</td>\n",
       "      <td>3.0</td>\n",
       "      <td>2016</td>\n",
       "      <td>2018</td>\n",
       "      <td>469</td>\n",
       "    </tr>\n",
       "    <tr>\n",
       "      <th>2</th>\n",
       "      <td>Zografou</td>\n",
       "      <td>Storehouse</td>\n",
       "      <td>4.0</td>\n",
       "      <td>1968</td>\n",
       "      <td>2018</td>\n",
       "      <td>500</td>\n",
       "    </tr>\n",
       "    <tr>\n",
       "      <th>3</th>\n",
       "      <td>Zografou</td>\n",
       "      <td>Storehouse</td>\n",
       "      <td>NaN</td>\n",
       "      <td>1974</td>\n",
       "      <td>2018</td>\n",
       "      <td>500</td>\n",
       "    </tr>\n",
       "    <tr>\n",
       "      <th>4</th>\n",
       "      <td>Zografou</td>\n",
       "      <td>Storehouse</td>\n",
       "      <td>39.0</td>\n",
       "      <td>1970</td>\n",
       "      <td>2018</td>\n",
       "      <td>5500</td>\n",
       "    </tr>\n",
       "  </tbody>\n",
       "</table>\n",
       "</div>"
      ],
      "text/plain": [
       "   location        type  area  constructionyear  sellingyear  price\n",
       "0  Zografou  Storehouse   NaN              1974         2018    500\n",
       "1  Zografou  Storehouse   3.0              2016         2018    469\n",
       "2  Zografou  Storehouse   4.0              1968         2018    500\n",
       "3  Zografou  Storehouse   NaN              1974         2018    500\n",
       "4  Zografou  Storehouse  39.0              1970         2018   5500"
      ]
     },
     "execution_count": 2,
     "metadata": {},
     "output_type": "execute_result"
    }
   ],
   "source": [
    "import numpy as np\n",
    "import pandas as pd\n",
    "import matplotlib.pyplot as plt\n",
    "\n",
    "data = pd.read_csv(\"houseprices.csv\", sep=',')\n",
    "\n",
    "# print the first lines of data\n",
    "data.head()"
   ]
  },
  {
   "cell_type": "code",
   "execution_count": 2,
   "metadata": {},
   "outputs": [
    {
     "data": {
      "text/html": [
       "<div>\n",
       "<style scoped>\n",
       "    .dataframe tbody tr th:only-of-type {\n",
       "        vertical-align: middle;\n",
       "    }\n",
       "\n",
       "    .dataframe tbody tr th {\n",
       "        vertical-align: top;\n",
       "    }\n",
       "\n",
       "    .dataframe thead th {\n",
       "        text-align: right;\n",
       "    }\n",
       "</style>\n",
       "<table border=\"1\" class=\"dataframe\">\n",
       "  <thead>\n",
       "    <tr style=\"text-align: right;\">\n",
       "      <th></th>\n",
       "      <th>area</th>\n",
       "      <th>constructionyear</th>\n",
       "      <th>sellingyear</th>\n",
       "      <th>price</th>\n",
       "    </tr>\n",
       "  </thead>\n",
       "  <tbody>\n",
       "    <tr>\n",
       "      <th>count</th>\n",
       "      <td>184.000000</td>\n",
       "      <td>189.000000</td>\n",
       "      <td>189.000000</td>\n",
       "      <td>189.000000</td>\n",
       "    </tr>\n",
       "    <tr>\n",
       "      <th>mean</th>\n",
       "      <td>59.483696</td>\n",
       "      <td>1975.862434</td>\n",
       "      <td>2017.232804</td>\n",
       "      <td>31046.317460</td>\n",
       "    </tr>\n",
       "    <tr>\n",
       "      <th>std</th>\n",
       "      <td>28.129866</td>\n",
       "      <td>12.692019</td>\n",
       "      <td>0.423741</td>\n",
       "      <td>40442.377241</td>\n",
       "    </tr>\n",
       "    <tr>\n",
       "      <th>min</th>\n",
       "      <td>3.000000</td>\n",
       "      <td>1952.000000</td>\n",
       "      <td>2017.000000</td>\n",
       "      <td>0.000000</td>\n",
       "    </tr>\n",
       "    <tr>\n",
       "      <th>25%</th>\n",
       "      <td>44.000000</td>\n",
       "      <td>1968.000000</td>\n",
       "      <td>2017.000000</td>\n",
       "      <td>10000.000000</td>\n",
       "    </tr>\n",
       "    <tr>\n",
       "      <th>50%</th>\n",
       "      <td>54.000000</td>\n",
       "      <td>1972.000000</td>\n",
       "      <td>2017.000000</td>\n",
       "      <td>20000.000000</td>\n",
       "    </tr>\n",
       "    <tr>\n",
       "      <th>75%</th>\n",
       "      <td>76.250000</td>\n",
       "      <td>1979.000000</td>\n",
       "      <td>2017.000000</td>\n",
       "      <td>40000.000000</td>\n",
       "    </tr>\n",
       "    <tr>\n",
       "      <th>max</th>\n",
       "      <td>222.000000</td>\n",
       "      <td>2016.000000</td>\n",
       "      <td>2018.000000</td>\n",
       "      <td>342590.000000</td>\n",
       "    </tr>\n",
       "  </tbody>\n",
       "</table>\n",
       "</div>"
      ],
      "text/plain": [
       "             area  constructionyear  sellingyear          price\n",
       "count  184.000000        189.000000   189.000000     189.000000\n",
       "mean    59.483696       1975.862434  2017.232804   31046.317460\n",
       "std     28.129866         12.692019     0.423741   40442.377241\n",
       "min      3.000000       1952.000000  2017.000000       0.000000\n",
       "25%     44.000000       1968.000000  2017.000000   10000.000000\n",
       "50%     54.000000       1972.000000  2017.000000   20000.000000\n",
       "75%     76.250000       1979.000000  2017.000000   40000.000000\n",
       "max    222.000000       2016.000000  2018.000000  342590.000000"
      ]
     },
     "execution_count": 2,
     "metadata": {},
     "output_type": "execute_result"
    }
   ],
   "source": [
    "\n",
    "# describe gives an overview of data characteristics and stat. values.\n",
    "data.describe()"
   ]
  },
  {
   "cell_type": "code",
   "execution_count": 6,
   "metadata": {},
   "outputs": [
    {
     "data": {
      "text/plain": [
       "5"
      ]
     },
     "execution_count": 6,
     "metadata": {},
     "output_type": "execute_result"
    }
   ],
   "source": [
    "# count how many rows have null in price field\n",
    "\n",
    "data['area'].isnull().sum()\n",
    "#data['constructionyear'].isnull().sum()\n",
    "#data['price'].isnull().sum()"
   ]
  },
  {
   "cell_type": "code",
   "execution_count": 7,
   "metadata": {},
   "outputs": [
    {
     "data": {
      "text/html": [
       "<div>\n",
       "<style scoped>\n",
       "    .dataframe tbody tr th:only-of-type {\n",
       "        vertical-align: middle;\n",
       "    }\n",
       "\n",
       "    .dataframe tbody tr th {\n",
       "        vertical-align: top;\n",
       "    }\n",
       "\n",
       "    .dataframe thead th {\n",
       "        text-align: right;\n",
       "    }\n",
       "</style>\n",
       "<table border=\"1\" class=\"dataframe\">\n",
       "  <thead>\n",
       "    <tr style=\"text-align: right;\">\n",
       "      <th></th>\n",
       "      <th>location</th>\n",
       "      <th>type</th>\n",
       "      <th>area</th>\n",
       "      <th>constructionyear</th>\n",
       "      <th>sellingyear</th>\n",
       "      <th>price</th>\n",
       "    </tr>\n",
       "  </thead>\n",
       "  <tbody>\n",
       "    <tr>\n",
       "      <th>1</th>\n",
       "      <td>Zografou</td>\n",
       "      <td>Storehouse</td>\n",
       "      <td>3.0</td>\n",
       "      <td>2016</td>\n",
       "      <td>2018</td>\n",
       "      <td>469</td>\n",
       "    </tr>\n",
       "    <tr>\n",
       "      <th>2</th>\n",
       "      <td>Zografou</td>\n",
       "      <td>Storehouse</td>\n",
       "      <td>4.0</td>\n",
       "      <td>1968</td>\n",
       "      <td>2018</td>\n",
       "      <td>500</td>\n",
       "    </tr>\n",
       "    <tr>\n",
       "      <th>4</th>\n",
       "      <td>Zografou</td>\n",
       "      <td>Storehouse</td>\n",
       "      <td>39.0</td>\n",
       "      <td>1970</td>\n",
       "      <td>2018</td>\n",
       "      <td>5500</td>\n",
       "    </tr>\n",
       "    <tr>\n",
       "      <th>6</th>\n",
       "      <td>Zografou</td>\n",
       "      <td>Storehouse</td>\n",
       "      <td>124.0</td>\n",
       "      <td>1973</td>\n",
       "      <td>2018</td>\n",
       "      <td>19530</td>\n",
       "    </tr>\n",
       "    <tr>\n",
       "      <th>7</th>\n",
       "      <td>Zografou</td>\n",
       "      <td>Storehouse</td>\n",
       "      <td>86.0</td>\n",
       "      <td>1966</td>\n",
       "      <td>2018</td>\n",
       "      <td>8000</td>\n",
       "    </tr>\n",
       "    <tr>\n",
       "      <th>...</th>\n",
       "      <td>...</td>\n",
       "      <td>...</td>\n",
       "      <td>...</td>\n",
       "      <td>...</td>\n",
       "      <td>...</td>\n",
       "      <td>...</td>\n",
       "    </tr>\n",
       "    <tr>\n",
       "      <th>184</th>\n",
       "      <td>Zografou</td>\n",
       "      <td>House</td>\n",
       "      <td>52.0</td>\n",
       "      <td>1968</td>\n",
       "      <td>2017</td>\n",
       "      <td>25000</td>\n",
       "    </tr>\n",
       "    <tr>\n",
       "      <th>185</th>\n",
       "      <td>Zografou</td>\n",
       "      <td>House</td>\n",
       "      <td>71.0</td>\n",
       "      <td>1969</td>\n",
       "      <td>2017</td>\n",
       "      <td>10000</td>\n",
       "    </tr>\n",
       "    <tr>\n",
       "      <th>186</th>\n",
       "      <td>Zografou</td>\n",
       "      <td>House</td>\n",
       "      <td>44.0</td>\n",
       "      <td>1972</td>\n",
       "      <td>2017</td>\n",
       "      <td>3500</td>\n",
       "    </tr>\n",
       "    <tr>\n",
       "      <th>187</th>\n",
       "      <td>Zografou</td>\n",
       "      <td>House</td>\n",
       "      <td>96.0</td>\n",
       "      <td>1967</td>\n",
       "      <td>2017</td>\n",
       "      <td>50000</td>\n",
       "    </tr>\n",
       "    <tr>\n",
       "      <th>188</th>\n",
       "      <td>Zografou</td>\n",
       "      <td>House</td>\n",
       "      <td>34.0</td>\n",
       "      <td>1972</td>\n",
       "      <td>2017</td>\n",
       "      <td>20000</td>\n",
       "    </tr>\n",
       "  </tbody>\n",
       "</table>\n",
       "<p>184 rows × 6 columns</p>\n",
       "</div>"
      ],
      "text/plain": [
       "     location        type   area  constructionyear  sellingyear  price\n",
       "1    Zografou  Storehouse    3.0              2016         2018    469\n",
       "2    Zografou  Storehouse    4.0              1968         2018    500\n",
       "4    Zografou  Storehouse   39.0              1970         2018   5500\n",
       "6    Zografou  Storehouse  124.0              1973         2018  19530\n",
       "7    Zografou  Storehouse   86.0              1966         2018   8000\n",
       "..        ...         ...    ...               ...          ...    ...\n",
       "184  Zografou       House   52.0              1968         2017  25000\n",
       "185  Zografou       House   71.0              1969         2017  10000\n",
       "186  Zografou       House   44.0              1972         2017   3500\n",
       "187  Zografou       House   96.0              1967         2017  50000\n",
       "188  Zografou       House   34.0              1972         2017  20000\n",
       "\n",
       "[184 rows x 6 columns]"
      ]
     },
     "execution_count": 7,
     "metadata": {},
     "output_type": "execute_result"
    }
   ],
   "source": [
    "# drop all rows with null values\n",
    "\n",
    "data.dropna()"
   ]
  },
  {
   "cell_type": "code",
   "execution_count": 10,
   "metadata": {},
   "outputs": [
    {
     "name": "stdout",
     "output_type": "stream",
     "text": [
      "     location        type   area  constructionyear  sellingyear  price\n",
      "1    Zografou  Storehouse    3.0              2016         2018    469\n",
      "2    Zografou  Storehouse    4.0              1968         2018    500\n",
      "4    Zografou  Storehouse   39.0              1970         2018   5500\n",
      "6    Zografou  Storehouse  124.0              1973         2018  19530\n",
      "7    Zografou  Storehouse   86.0              1966         2018   8000\n",
      "..        ...         ...    ...               ...          ...    ...\n",
      "184  Zografou       House   52.0              1968         2017  25000\n",
      "185  Zografou       House   71.0              1969         2017  10000\n",
      "186  Zografou       House   44.0              1972         2017   3500\n",
      "187  Zografou       House   96.0              1967         2017  50000\n",
      "188  Zografou       House   34.0              1972         2017  20000\n",
      "\n",
      "[184 rows x 6 columns]\n"
     ]
    }
   ],
   "source": [
    "data = data.dropna()\n",
    "print(data)"
   ]
  },
  {
   "cell_type": "code",
   "execution_count": 11,
   "metadata": {},
   "outputs": [
    {
     "data": {
      "text/html": [
       "<div>\n",
       "<style scoped>\n",
       "    .dataframe tbody tr th:only-of-type {\n",
       "        vertical-align: middle;\n",
       "    }\n",
       "\n",
       "    .dataframe tbody tr th {\n",
       "        vertical-align: top;\n",
       "    }\n",
       "\n",
       "    .dataframe thead th {\n",
       "        text-align: right;\n",
       "    }\n",
       "</style>\n",
       "<table border=\"1\" class=\"dataframe\">\n",
       "  <thead>\n",
       "    <tr style=\"text-align: right;\">\n",
       "      <th></th>\n",
       "      <th>location</th>\n",
       "      <th>type</th>\n",
       "      <th>area</th>\n",
       "      <th>constructionyear</th>\n",
       "      <th>sellingyear</th>\n",
       "      <th>price</th>\n",
       "    </tr>\n",
       "  </thead>\n",
       "  <tbody>\n",
       "    <tr>\n",
       "      <th>1</th>\n",
       "      <td>Zografou</td>\n",
       "      <td>Storehouse</td>\n",
       "      <td>3.0</td>\n",
       "      <td>2016</td>\n",
       "      <td>2018</td>\n",
       "      <td>469</td>\n",
       "    </tr>\n",
       "    <tr>\n",
       "      <th>2</th>\n",
       "      <td>Zografou</td>\n",
       "      <td>Storehouse</td>\n",
       "      <td>4.0</td>\n",
       "      <td>1968</td>\n",
       "      <td>2018</td>\n",
       "      <td>500</td>\n",
       "    </tr>\n",
       "    <tr>\n",
       "      <th>4</th>\n",
       "      <td>Zografou</td>\n",
       "      <td>Storehouse</td>\n",
       "      <td>39.0</td>\n",
       "      <td>1970</td>\n",
       "      <td>2018</td>\n",
       "      <td>5500</td>\n",
       "    </tr>\n",
       "    <tr>\n",
       "      <th>6</th>\n",
       "      <td>Zografou</td>\n",
       "      <td>Storehouse</td>\n",
       "      <td>124.0</td>\n",
       "      <td>1973</td>\n",
       "      <td>2018</td>\n",
       "      <td>19530</td>\n",
       "    </tr>\n",
       "    <tr>\n",
       "      <th>7</th>\n",
       "      <td>Zografou</td>\n",
       "      <td>Storehouse</td>\n",
       "      <td>86.0</td>\n",
       "      <td>1966</td>\n",
       "      <td>2018</td>\n",
       "      <td>8000</td>\n",
       "    </tr>\n",
       "  </tbody>\n",
       "</table>\n",
       "</div>"
      ],
      "text/plain": [
       "   location        type   area  constructionyear  sellingyear  price\n",
       "1  Zografou  Storehouse    3.0              2016         2018    469\n",
       "2  Zografou  Storehouse    4.0              1968         2018    500\n",
       "4  Zografou  Storehouse   39.0              1970         2018   5500\n",
       "6  Zografou  Storehouse  124.0              1973         2018  19530\n",
       "7  Zografou  Storehouse   86.0              1966         2018   8000"
      ]
     },
     "execution_count": 11,
     "metadata": {},
     "output_type": "execute_result"
    }
   ],
   "source": [
    "data.head()"
   ]
  },
  {
   "cell_type": "code",
   "execution_count": 12,
   "metadata": {},
   "outputs": [
    {
     "data": {
      "text/html": [
       "<div>\n",
       "<style scoped>\n",
       "    .dataframe tbody tr th:only-of-type {\n",
       "        vertical-align: middle;\n",
       "    }\n",
       "\n",
       "    .dataframe tbody tr th {\n",
       "        vertical-align: top;\n",
       "    }\n",
       "\n",
       "    .dataframe thead th {\n",
       "        text-align: right;\n",
       "    }\n",
       "</style>\n",
       "<table border=\"1\" class=\"dataframe\">\n",
       "  <thead>\n",
       "    <tr style=\"text-align: right;\">\n",
       "      <th></th>\n",
       "      <th>area</th>\n",
       "      <th>constructionyear</th>\n",
       "      <th>sellingyear</th>\n",
       "      <th>price</th>\n",
       "    </tr>\n",
       "  </thead>\n",
       "  <tbody>\n",
       "    <tr>\n",
       "      <th>area</th>\n",
       "      <td>1.000000</td>\n",
       "      <td>0.176868</td>\n",
       "      <td>0.048214</td>\n",
       "      <td>0.618170</td>\n",
       "    </tr>\n",
       "    <tr>\n",
       "      <th>constructionyear</th>\n",
       "      <td>0.176868</td>\n",
       "      <td>1.000000</td>\n",
       "      <td>0.054133</td>\n",
       "      <td>0.340533</td>\n",
       "    </tr>\n",
       "    <tr>\n",
       "      <th>sellingyear</th>\n",
       "      <td>0.048214</td>\n",
       "      <td>0.054133</td>\n",
       "      <td>1.000000</td>\n",
       "      <td>0.043343</td>\n",
       "    </tr>\n",
       "    <tr>\n",
       "      <th>price</th>\n",
       "      <td>0.618170</td>\n",
       "      <td>0.340533</td>\n",
       "      <td>0.043343</td>\n",
       "      <td>1.000000</td>\n",
       "    </tr>\n",
       "  </tbody>\n",
       "</table>\n",
       "</div>"
      ],
      "text/plain": [
       "                      area  constructionyear  sellingyear     price\n",
       "area              1.000000          0.176868     0.048214  0.618170\n",
       "constructionyear  0.176868          1.000000     0.054133  0.340533\n",
       "sellingyear       0.048214          0.054133     1.000000  0.043343\n",
       "price             0.618170          0.340533     0.043343  1.000000"
      ]
     },
     "execution_count": 12,
     "metadata": {},
     "output_type": "execute_result"
    }
   ],
   "source": [
    "# display the correlation matrix for all columns (a.k.a features) of data\n",
    "\n",
    "data.corr()"
   ]
  },
  {
   "cell_type": "code",
   "execution_count": 8,
   "metadata": {},
   "outputs": [
    {
     "data": {
      "text/plain": [
       "Text(0.5, 1.0, 'Construction Year vs Price')"
      ]
     },
     "execution_count": 8,
     "metadata": {},
     "output_type": "execute_result"
    },
    {
     "data": {
      "image/png": "[encoded data removed]",
      "text/plain": [
       "<Figure size 432x288 with 1 Axes>"
      ]
     },
     "metadata": {
      "needs_background": "light"
     },
     "output_type": "display_data"
    }
   ],
   "source": [
    "import numpy as np\n",
    "import pandas as pd\n",
    "import matplotlib.pyplot as plt\n",
    "\n",
    "%matplotlib inline\n",
    "\n",
    "# print some scatter plots\n",
    "\n",
    "#plt.scatter(data.constructionyear,data.price)\n",
    "plt.scatter(data['constructionyear'],data['price'])\n",
    "plt.xlabel(\"Construction Year\")\n",
    "plt.ylabel(\"Price\")\n",
    "plt.title(\"Construction Year vs Price\")"
   ]
  },
  {
   "cell_type": "code",
   "execution_count": 9,
   "metadata": {},
   "outputs": [
    {
     "data": {
      "text/plain": [
       "Text(0.5, 1.0, 'Area vs Price')"
      ]
     },
     "execution_count": 9,
     "metadata": {},
     "output_type": "execute_result"
    },
    {
     "data": {
      "image/png": "[encoded data removed]",
      "text/plain": [
       "<Figure size 432x288 with 1 Axes>"
      ]
     },
     "metadata": {
      "needs_background": "light"
     },
     "output_type": "display_data"
    }
   ],
   "source": [
    "plt.scatter(data.area,data.price) # identical to plt.scatter(data['area'],data['price'])\n",
    "plt.xlabel(\"Area\")\n",
    "plt.ylabel('Price')\n",
    "plt.title(\"Area vs Price\")"
   ]
  },
  {
   "cell_type": "code",
   "execution_count": null,
   "metadata": {},
   "outputs": [],
   "source": []
  },
  {
   "cell_type": "code",
   "execution_count": null,
   "metadata": {},
   "outputs": [],
   "source": []
  },
  {
   "cell_type": "code",
   "execution_count": null,
   "metadata": {},
   "outputs": [],
   "source": []
  }
 ],
 "metadata": {
  "kernelspec": {
   "display_name": "Python 3",
   "language": "python",
   "name": "python3"
  },
  "language_info": {
   "codemirror_mode": {
    "name": "ipython",
    "version": 3
   },
   "file_extension": ".py",
   "mimetype": "text/x-python",
   "name": "python",
   "nbconvert_exporter": "python",
   "pygments_lexer": "ipython3",
   "version": "3.8.5"
  }
 },
 "nbformat": 4,
 "nbformat_minor": 4
}
