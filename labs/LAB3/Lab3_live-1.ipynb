{
 "cells": [
  {
   "cell_type": "markdown",
   "metadata": {},
   "source": [
    "# Dynamic programming and edit distance\n",
    "* Just to remind you: we have two implementations of the edit-distance function: (1) recursive, (2) dynamic programming matrix"
   ]
  },
  {
   "cell_type": "code",
   "execution_count": 4,
   "metadata": {},
   "outputs": [],
   "source": [
    "def EditDistance(s, t):\n",
    "    if s == \"\":\n",
    "        return len(t)\n",
    "    if t == \"\":\n",
    "        return len(s)\n",
    "    if s[-1] == t[-1]:\n",
    "        cost = 0\n",
    "    else:\n",
    "        cost = 1\n",
    "       \n",
    "    res = min([EditDistance(s, t[:-1])+1, # Delete\n",
    "               EditDistance(s[:-1], t)+1, # Insert\n",
    "               EditDistance(s[:-1], t[:-1]) + cost]) # Replace\n",
    "    return res"
   ]
  },
  {
   "cell_type": "code",
   "execution_count": 5,
   "metadata": {},
   "outputs": [],
   "source": [
    "import numpy as np\n",
    "\n",
    "def EditDistanceM(s, t):  \n",
    "    size_x = len(s) + 1\n",
    "    size_y = len(t) + 1\n",
    "    matrix = np.zeros ((size_x, size_y))\n",
    "    \n",
    "\n",
    "    for x in range(size_x):\n",
    "        matrix[x, 0] = x\n",
    "    for y in range(size_y):\n",
    "        matrix[0, y] = y\n",
    "\n",
    "        \n",
    "    for x in range(1, size_x):\n",
    "        for y in range(1, size_y):\n",
    "            if s[x-1] == t[y-1]:\n",
    "                matrix[x,y] = min(\n",
    "                    matrix[x-1, y] + 1,\n",
    "                    matrix[x-1, y-1],\n",
    "                    matrix[x, y-1] + 1\n",
    "                )\n",
    "            else:\n",
    "                matrix[x,y] = min(\n",
    "                    matrix[x-1,y] + 1,\n",
    "                    matrix[x-1,y-1] + 1,\n",
    "                    matrix[x,y-1] + 1\n",
    "                )\n",
    "    \n",
    "    # Comment out the print message!! print (matrix)\n",
    "    # Return the tuple (distance, matrix) instead of returning just the distance.\n",
    "    # Remember: we can return multiple values from fucntions using tuples!\n",
    "    return (matrix[size_x - 1, size_y - 1], matrix)"
   ]
  },
  {
   "cell_type": "code",
   "execution_count": 6,
   "metadata": {},
   "outputs": [
    {
     "name": "stdout",
     "output_type": "stream",
     "text": [
      "Distance=  3.0\n",
      "Matrix=\n",
      " [[0. 1. 2. 3. 4. 5.]\n",
      " [1. 1. 2. 2. 3. 4.]\n",
      " [2. 2. 2. 3. 2. 3.]\n",
      " [3. 3. 2. 3. 3. 3.]]\n"
     ]
    }
   ],
   "source": [
    "results = EditDistanceM(\"TUC\", \"ACTUA\")\n",
    "print(\"Distance= \", results[0])\n",
    "print(\"Matrix=\\n\", results[1])"
   ]
  },
  {
   "cell_type": "markdown",
   "metadata": {},
   "source": [
    "# From costs to operations in EditDistanceM\n",
    "* What are the numbers in the cells of a dynamic programming matrix?\n",
    "* Show the type of operations (insert, delete, replace) instead of showing the cost.\n",
    "\n",
    "How?\n",
    "* Suppose you are at cell c, at position [x,y] (x row, y column), and the cell corresponds to similar bases.\n",
    " * Get the content of cell above c (position [x-1,y]) plus 1, the content of cell on the upper left of c (position [x-1, y-1]), \n",
    "and the content of cell on the left of c (position [x, y-1]) + 1\n",
    " * ...and find the min: matrix[x,y] = min(values)\n",
    "\n",
    "* Suppose you are at cell c, at position [x,y] (x row, y column), and the cell corresponds to different bases.\n",
    " * Get the content of cell above c (position [x-1,y]) plus 1, the content of cell on the upper left of c (position [x-1, y-1]) <b>plus one</b>, \n",
    "and the content of cell on the left of c (position [x, y-1]) + 1\n",
    " * ...and find the min: matrix[x,y] = min(values)\n",
    "\n",
    "* Consider a values list: values.index(4): returns the position of 4 (counting from 0!!!) in values list. E.g., if values is [3,2,4,1,0], then values.index(4) returns 2.\n",
    "\n",
    "* Consider a values list with 3 elements: the 1st (position 0) corresponds to a deletion operation, the 2nd (position 1) corresponds to a replace operation,\n",
    "and the 3rd (position 2) corresponds to an insert operation. \n",
    "* matrix_tr[x,y] = values.index(min(values)): we assign to the matrix_tr cell 0 or 1 or 2, depending on the result of min(values)! \n",
    "\n",
    "\n",
    "\n",
    "\n"
   ]
  },
  {
   "cell_type": "code",
   "execution_count": 5,
   "metadata": {},
   "outputs": [],
   "source": [
    "import numpy as np\n",
    "\n",
    "def EditDistanceM_tr(s, t):  \n",
    "    size_x = len(s) + 1\n",
    "    size_y = len(t) + 1\n",
    "    matrix = np.zeros ((size_x, size_y))\n",
    "    matrix_tr = np.zeros ((size_x, size_y)) # <======= CHANGE (Init traceback matrix)\n",
    "    \n",
    "    for x in range(size_x):\n",
    "        matrix[x, 0] = x\n",
    "        matrix_tr[x,0] = 0 # all cells of the first column correspond to deletions (0) of the first string to get empty string\n",
    "    for y in range(size_y):\n",
    "        matrix[0, y] = y\n",
    "        matrix_tr[0,y] = 2 # all cells of first line correspond to insertions (2) in an empty string\n",
    "\n",
    "    matrix_tr[0,0] = 0 # reset the \"root\" cell\n",
    "    \n",
    "    for x in range(1, size_x):\n",
    "        for y in range(1, size_y):\n",
    "            if s[x-1] == t[y-1]:\n",
    "                values = [matrix[x-1, y]+1, matrix[x-1, y-1], matrix[x, y-1]+1]\n",
    "                matrix[x,y] = min(values)\n",
    "                matrix_tr[x,y] = values.index(min(values)) # <============= CHANGE (0=del, 1=match, 2=ins)\n",
    "            else:\n",
    "                values = [matrix[x-1,y]+1, matrix[x-1,y-1]+1, matrix[x,y-1]+1]\n",
    "                matrix[x,y] = min(values)\n",
    "                matrix_tr[x,y] = values.index(min(values)) # <============= CHANGE (0=del, 1=mismatch, 2=ins)\n",
    "    return (matrix[size_x - 1, size_y - 1], matrix, matrix_tr)"
   ]
  },
  {
   "cell_type": "code",
   "execution_count": 6,
   "metadata": {},
   "outputs": [
    {
     "name": "stdout",
     "output_type": "stream",
     "text": [
      "Distance=  3.0\n",
      "Matrix=\n",
      " [[0. 1. 2. 3. 4. 5.]\n",
      " [1. 1. 2. 2. 3. 4.]\n",
      " [2. 2. 2. 3. 2. 3.]\n",
      " [3. 3. 2. 3. 3. 3.]]\n",
      "Matrix_tr=\n",
      " [[0. 2. 2. 2. 2. 2.]\n",
      " [0. 1. 1. 1. 2. 2.]\n",
      " [0. 0. 1. 0. 1. 2.]\n",
      " [0. 0. 1. 1. 0. 1.]]\n"
     ]
    }
   ],
   "source": [
    "results = EditDistanceM_tr(\"TUC\",\"ACTUA\")\n",
    "print(\"Distance= \", results[0])\n",
    "print(\"Matrix=\\n\", results[1])\n",
    "print(\"Matrix_tr=\\n\", results[2])"
   ]
  },
  {
   "cell_type": "code",
   "execution_count": null,
   "metadata": {},
   "outputs": [],
   "source": []
  }
 ],
 "metadata": {
  "kernelspec": {
   "display_name": "Python 3",
   "language": "python",
   "name": "python3"
  },
  "language_info": {
   "codemirror_mode": {
    "name": "ipython",
    "version": 3
   },
   "file_extension": ".py",
   "mimetype": "text/x-python",
   "name": "python",
   "nbconvert_exporter": "python",
   "pygments_lexer": "ipython3",
   "version": "3.8.5"
  }
 },
 "nbformat": 4,
 "nbformat_minor": 4
}
