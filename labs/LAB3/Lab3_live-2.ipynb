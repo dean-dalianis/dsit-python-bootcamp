{
 "cells": [
  {
   "cell_type": "markdown",
   "metadata": {},
   "source": [
    "## Read documents and print their contents\n",
    "* read a set of documents with filename of the form doc<number>.txt"
   ]
  },
  {
   "cell_type": "code",
   "execution_count": 25,
   "metadata": {},
   "outputs": [
    {
     "name": "stdout",
     "output_type": "stream",
     "text": [
      "background: a group of mirnas can regulate a biological process by targeting genes involved in the process. the unbiased mirna functional enrichment analysis is the most precise in silico approach to predict the biological processes that may be regulated by a given mirna group. however, it is computationally intensive and significantly more expensive than its alternatives.\n",
      "results: we introduce bufet, a new approach to significantly reduce the time required for the execution of the unbiased mirna functional enrichment analysis. it derives its strength from the utilization of efficient bitset-based methods and parallel computation techniques.\n",
      "conclusions: bufet outperforms the state-of-the-art implementation, in regard to computational efficiency, in all scenarios (both single- and multi-core), being, in some cases, more than one order of magnitude faster.\n",
      "\n",
      "diana-tarbase v8 (http://www.microrna.gr/tarbase) is a reference database devoted to the indexing of experimentally supported microrna (mirna) targets. its eighth version is the first database indexing >1 million entries, corresponding to ∼670 000 unique mirna-target pairs. the interactions are supported by >33 experimental methodologies, applied to ∼600 cell types/tissues under ∼451 experimental conditions. it integrates information on cell-type specific mirna–gene regulation, while hundreds of thousands of mirna-binding locations are reported. tarbase is coming of age, with more than a decade of continuous support in the non-coding rna field. a new module has been implemented that enables the browsing of interactions through different filtering combinations. it permits easy retrieval of positive and negative mirna targets per species, methodology, cell type and tissue. an incorporated ranking system is utilized for the display of interactions based on the robustness of their supporting methodologies. statistics, pie-charts and interactive bar-plots depicting the database content are available through a dedicated result page. an intuitive interface is introduced, providing a user-friendly application with flexible options to different queries.\n",
      "\n",
      "the functional characterization of mirnas is still an open challenge. here, we present diana-mirpath v3.0 (http://www.microrna.gr/mirpathv3) an online software suite dedicated to the assessment of mirna regulatory roles and the identification of controlled pathways. the new mirpath web server renders possible the functional annotation of one or more mirnas using standard (hypergeometric distributions), unbiased empirical distributions and/or meta-analysis statistics. diana-mirpath v3.0 database and functionality have been significantly extended to support all analyses for kegg molecular pathways, as well as multiple slices of gene ontology (go) in seven species (homo sapiens, mus musculus, rattus norvegicus, drosophila melanogaster, caenorhabditis elegans, gallus gallus and danio rerio). importantly, more than 600 000 experimentally supported mirna targets from diana-tarbase v7.0 have been incorporated into the new schema. users of diana-mirpath v3.0 can harness this wealth of information and substitute or combine the available in silico predicted targets from diana-microt-cds and/or targetscan v6.2 with high quality experimentally supported interactions. a unique feature of diana-mirpath v3.0 is its redesigned reverse search module, which enables users to identify and visualize mirnas significantly controlling selected pathways or belonging to specific go categories based on in silico or experimental data. diana-mirpath v3.0 is freely available to all users without any login requirement.\n",
      "\n",
      "can't motivation: many studies have investigated the differential expression of micrornas (mirnas) in disease states and between different treatments, tissues and developmental stages. given a list of perturbed mirnas, it is common to predict the shared pathways on which they act. the standard test for functional enrichment typically yields dozens of significantly enriched functional categories, many of which appear frequently in the analysis of apparently unrelated diseases and conditions.\n",
      "results: we show that the most commonly used functional enrichment test is inappropriate for the analysis of sets of genes targeted by mirnas. the hypergeometric distribution used by the standard method consistently results in significant p-values for functional enrichment for targets of randomly selected mirnas, reflecting an underlying bias in the predicted gene targets of mirnas as a whole. we developed an algorithm to measure enrichment using an empirical sampling approach, and applied this in a reanalysis of the gene ontology classes of targets of mirna lists from 44 published studies. the vast majority of the mirna target sets were not significantly enriched in any functional category after correction for bias. we therefore argue against continued use of the standard functional enrichment method for mirna targets.\n",
      "\n"
     ]
    }
   ],
   "source": [
    "#for all files\n",
    "for i in range(4):\n",
    "    \n",
    "    filename = \"doc\" + str(i) + \".txt\"\n",
    "    doc = open(filename, \"r\", encoding='UTF-8')\n",
    "    \n",
    "    text_string = doc.read()\n",
    "\n",
    "    text_string = text_string.lower()   \n",
    "    # or: text_string = doc.read().lower() \n",
    "    doc.close()\n",
    "    \n",
    "    print(text_string + '\\n')"
   ]
  },
  {
   "cell_type": "markdown",
   "metadata": {},
   "source": [
    "## Read documents and identify words\n",
    "* Regular expressions: https://docs.python.org/3/library/re.html\n",
    "* https://www.w3schools.com/python/python_regex.asp"
   ]
  },
  {
   "cell_type": "code",
   "execution_count": 27,
   "metadata": {},
   "outputs": [],
   "source": [
    "import re\n",
    "\n",
    "def word_break(text_br):\n",
    "    words = re.findall(r\"\\b[a-z\\'\\-]{5,20}\\b\", text_br) \n",
    "    return words"
   ]
  },
  {
   "cell_type": "code",
   "execution_count": 32,
   "metadata": {},
   "outputs": [
    {
     "name": "stdout",
     "output_type": "stream",
     "text": [
      "['regular', 'expression']\n"
     ]
    }
   ],
   "source": [
    "w = word_break(\"this is a regular expression test\")\n",
    "print(w)"
   ]
  },
  {
   "cell_type": "code",
   "execution_count": 33,
   "metadata": {},
   "outputs": [
    {
     "name": "stdout",
     "output_type": "stream",
     "text": [
      "['background', 'group', 'mirnas', 'regulate', 'biological', 'process', 'targeting', 'genes', 'involved', 'process', 'unbiased', 'mirna', 'functional', 'enrichment', 'analysis', 'precise', 'silico', 'approach', 'predict', 'biological', 'processes', 'regulated', 'given', 'mirna', 'group', 'however', 'computationally', 'intensive', 'significantly', 'expensive', 'alternatives', 'results', 'introduce', 'bufet', 'approach', 'significantly', 'reduce', 'required', 'execution', 'unbiased', 'mirna', 'functional', 'enrichment', 'analysis', 'derives', 'strength', 'utilization', 'efficient', 'bitset-based', 'methods', 'parallel', 'computation', 'techniques', 'conclusions', 'bufet', 'outperforms', 'state-of-the-art', 'implementation', 'regard', 'computational', 'efficiency', 'scenarios', 'single', 'multi-core', 'being', 'cases', 'order', 'magnitude', 'faster']\n",
      "\n",
      "['diana-tarbase', 'microrna', 'tarbase', 'reference', 'database', 'devoted', 'indexing', 'experimentally', 'supported', 'microrna', 'mirna', 'targets', 'eighth', 'version', 'first', 'database', 'indexing', 'million', 'entries', 'corresponding', 'unique', 'mirna-target', 'pairs', 'interactions', 'supported', 'experimental', 'methodologies', 'applied', 'types', 'tissues', 'under', 'experimental', 'conditions', 'integrates', 'information', 'cell-type', 'specific', 'mirna', 'regulation', 'while', 'hundreds', 'thousands', 'mirna-binding', 'locations', 'reported', 'tarbase', 'coming', 'decade', 'continuous', 'support', 'non-coding', 'field', 'module', 'implemented', 'enables', 'browsing', 'interactions', 'through', 'different', 'filtering', 'combinations', 'permits', 'retrieval', 'positive', 'negative', 'mirna', 'targets', 'species', 'methodology', 'tissue', 'incorporated', 'ranking', 'system', 'utilized', 'display', 'interactions', 'based', 'robustness', 'their', 'supporting', 'methodologies', 'statistics', 'pie-charts', 'interactive', 'bar-plots', 'depicting', 'database', 'content', 'available', 'through', 'dedicated', 'result', 'intuitive', 'interface', 'introduced', 'providing', 'user-friendly', 'application', 'flexible', 'options', 'different', 'queries']\n",
      "\n",
      "['functional', 'characterization', 'mirnas', 'still', 'challenge', 'present', 'diana-mirpath', 'microrna', 'online', 'software', 'suite', 'dedicated', 'assessment', 'mirna', 'regulatory', 'roles', 'identification', 'controlled', 'pathways', 'mirpath', 'server', 'renders', 'possible', 'functional', 'annotation', 'mirnas', 'using', 'standard', 'hypergeometric', 'distributions', 'unbiased', 'empirical', 'distributions', 'meta-analysis', 'statistics', 'diana-mirpath', 'database', 'functionality', 'significantly', 'extended', 'support', 'analyses', 'molecular', 'pathways', 'multiple', 'slices', 'ontology', 'seven', 'species', 'sapiens', 'musculus', 'rattus', 'norvegicus', 'drosophila', 'melanogaster', 'caenorhabditis', 'elegans', 'gallus', 'gallus', 'danio', 'rerio', 'importantly', 'experimentally', 'supported', 'mirna', 'targets', 'diana-tarbase', 'incorporated', 'schema', 'users', 'diana-mirpath', 'harness', 'wealth', 'information', 'substitute', 'combine', 'available', 'silico', 'predicted', 'targets', 'diana-microt-cds', 'targetscan', 'quality', 'experimentally', 'supported', 'interactions', 'unique', 'feature', 'diana-mirpath', 'redesigned', 'reverse', 'search', 'module', 'which', 'enables', 'users', 'identify', 'visualize', 'mirnas', 'significantly', 'controlling', 'selected', 'pathways', 'belonging', 'specific', 'categories', 'based', 'silico', 'experimental', 'diana-mirpath', 'freely', 'available', 'users', 'without', 'login', 'requirement']\n",
      "\n",
      "[\"can't\", 'motivation', 'studies', 'investigated', 'differential', 'expression', 'micrornas', 'mirnas', 'disease', 'states', 'between', 'different', 'treatments', 'tissues', 'developmental', 'stages', 'given', 'perturbed', 'mirnas', 'common', 'predict', 'shared', 'pathways', 'which', 'standard', 'functional', 'enrichment', 'typically', 'yields', 'dozens', 'significantly', 'enriched', 'functional', 'categories', 'which', 'appear', 'frequently', 'analysis', 'apparently', 'unrelated', 'diseases', 'conditions', 'results', 'commonly', 'functional', 'enrichment', 'inappropriate', 'analysis', 'genes', 'targeted', 'mirnas', 'hypergeometric', 'distribution', 'standard', 'method', 'consistently', 'results', 'significant', 'p-values', 'functional', 'enrichment', 'targets', 'randomly', 'selected', 'mirnas', 'reflecting', 'underlying', 'predicted', 'targets', 'mirnas', 'whole', 'developed', 'algorithm', 'measure', 'enrichment', 'using', 'empirical', 'sampling', 'approach', 'applied', 'reanalysis', 'ontology', 'classes', 'targets', 'mirna', 'lists', 'published', 'studies', 'majority', 'mirna', 'target', 'significantly', 'enriched', 'functional', 'category', 'after', 'correction', 'therefore', 'argue', 'against', 'continued', 'standard', 'functional', 'enrichment', 'method', 'mirna', 'targets']\n",
      "\n"
     ]
    }
   ],
   "source": [
    "for i in range(4):\n",
    "    filename = \"doc\" + str(i) + \".txt\"\n",
    "    \n",
    "    #doc = open(filename, \"r\")\n",
    "    doc = open(filename,\"r\", encoding='utf-8')\n",
    "    text_string = doc.read().lower()\n",
    "    doc.close()\n",
    "\n",
    "    match_word = word_break(text_string)\n",
    "    \n",
    "    print(match_word)\n",
    "    print()\n",
    "\n"
   ]
  },
  {
   "cell_type": "markdown",
   "metadata": {},
   "source": [
    "## Calculate the number of appearances (total_word_freq) of each word in all documents "
   ]
  },
  {
   "cell_type": "code",
   "execution_count": 34,
   "metadata": {},
   "outputs": [
    {
     "name": "stdout",
     "output_type": "stream",
     "text": [
      "{'background': 1, 'group': 2, 'mirnas': 9, 'regulate': 1, 'biological': 2, 'process': 2, 'targeting': 1, 'genes': 2, 'involved': 1, 'unbiased': 3, 'mirna': 11, 'functional': 10, 'enrichment': 7, 'analysis': 4, 'precise': 1, 'silico': 3, 'approach': 3, 'predict': 2, 'processes': 1, 'regulated': 1, 'given': 2, 'however': 1, 'computationally': 1, 'intensive': 1, 'significantly': 6, 'expensive': 1, 'alternatives': 1, 'results': 3, 'introduce': 1, 'bufet': 2, 'reduce': 1, 'required': 1, 'execution': 1, 'derives': 1, 'strength': 1, 'utilization': 1, 'efficient': 1, 'bitset-based': 1, 'methods': 1, 'parallel': 1, 'computation': 1, 'techniques': 1, 'conclusions': 1, 'outperforms': 1, 'state-of-the-art': 1, 'implementation': 1, 'regard': 1, 'computational': 1, 'efficiency': 1, 'scenarios': 1, 'single': 1, 'multi-core': 1, 'being': 1, 'cases': 1, 'order': 1, 'magnitude': 1, 'faster': 1, 'diana-tarbase': 2, 'microrna': 3, 'tarbase': 2, 'reference': 1, 'database': 4, 'devoted': 1, 'indexing': 2, 'experimentally': 3, 'supported': 4, 'targets': 8, 'eighth': 1, 'version': 1, 'first': 1, 'million': 1, 'entries': 1, 'corresponding': 1, 'unique': 2, 'mirna-target': 1, 'pairs': 1, 'interactions': 4, 'experimental': 3, 'methodologies': 2, 'applied': 2, 'types': 1, 'tissues': 2, 'under': 1, 'conditions': 2, 'integrates': 1, 'information': 2, 'cell-type': 1, 'specific': 2, 'regulation': 1, 'while': 1, 'hundreds': 1, 'thousands': 1, 'mirna-binding': 1, 'locations': 1, 'reported': 1, 'coming': 1, 'decade': 1, 'continuous': 1, 'support': 2, 'non-coding': 1, 'field': 1, 'module': 2, 'implemented': 1, 'enables': 2, 'browsing': 1, 'through': 2, 'different': 3, 'filtering': 1, 'combinations': 1, 'permits': 1, 'retrieval': 1, 'positive': 1, 'negative': 1, 'species': 2, 'methodology': 1, 'tissue': 1, 'incorporated': 2, 'ranking': 1, 'system': 1, 'utilized': 1, 'display': 1, 'based': 2, 'robustness': 1, 'their': 1, 'supporting': 1, 'statistics': 2, 'pie-charts': 1, 'interactive': 1, 'bar-plots': 1, 'depicting': 1, 'content': 1, 'available': 3, 'dedicated': 2, 'result': 1, 'intuitive': 1, 'interface': 1, 'introduced': 1, 'providing': 1, 'user-friendly': 1, 'application': 1, 'flexible': 1, 'options': 1, 'queries': 1, 'characterization': 1, 'still': 1, 'challenge': 1, 'present': 1, 'diana-mirpath': 5, 'online': 1, 'software': 1, 'suite': 1, 'assessment': 1, 'regulatory': 1, 'roles': 1, 'identification': 1, 'controlled': 1, 'pathways': 4, 'mirpath': 1, 'server': 1, 'renders': 1, 'possible': 1, 'annotation': 1, 'using': 2, 'standard': 4, 'hypergeometric': 2, 'distributions': 2, 'empirical': 2, 'meta-analysis': 1, 'functionality': 1, 'extended': 1, 'analyses': 1, 'molecular': 1, 'multiple': 1, 'slices': 1, 'ontology': 2, 'seven': 1, 'sapiens': 1, 'musculus': 1, 'rattus': 1, 'norvegicus': 1, 'drosophila': 1, 'melanogaster': 1, 'caenorhabditis': 1, 'elegans': 1, 'gallus': 2, 'danio': 1, 'rerio': 1, 'importantly': 1, 'schema': 1, 'users': 3, 'harness': 1, 'wealth': 1, 'substitute': 1, 'combine': 1, 'predicted': 2, 'diana-microt-cds': 1, 'targetscan': 1, 'quality': 1, 'feature': 1, 'redesigned': 1, 'reverse': 1, 'search': 1, 'which': 3, 'identify': 1, 'visualize': 1, 'controlling': 1, 'selected': 2, 'belonging': 1, 'categories': 2, 'freely': 1, 'without': 1, 'login': 1, 'requirement': 1, \"can't\": 1, 'motivation': 1, 'studies': 2, 'investigated': 1, 'differential': 1, 'expression': 1, 'micrornas': 1, 'disease': 1, 'states': 1, 'between': 1, 'treatments': 1, 'developmental': 1, 'stages': 1, 'perturbed': 1, 'common': 1, 'shared': 1, 'typically': 1, 'yields': 1, 'dozens': 1, 'enriched': 2, 'appear': 1, 'frequently': 1, 'apparently': 1, 'unrelated': 1, 'diseases': 1, 'commonly': 1, 'inappropriate': 1, 'targeted': 1, 'distribution': 1, 'method': 2, 'consistently': 1, 'significant': 1, 'p-values': 1, 'randomly': 1, 'reflecting': 1, 'underlying': 1, 'whole': 1, 'developed': 1, 'algorithm': 1, 'measure': 1, 'sampling': 1, 'reanalysis': 1, 'classes': 1, 'lists': 1, 'published': 1, 'majority': 1, 'target': 1, 'category': 1, 'after': 1, 'correction': 1, 'therefore': 1, 'argue': 1, 'against': 1, 'continued': 1}\n"
     ]
    }
   ],
   "source": [
    "# the dictionary!\n",
    "total_word_freq={}\n",
    "\n",
    "for i in range(4):\n",
    "    filename = \"doc\" + str(i) + \".txt\"\n",
    "    doc = open(filename, \"r\")\n",
    "    text_string = doc.read().lower()\n",
    "    \n",
    "    # get all the words! match_word is a list containing all the words\n",
    "    match_word=word_break(text_string)\n",
    "    \n",
    "    #for each word...\n",
    "    for word in match_word:\n",
    "        #check if counter exists\n",
    "        if word not in total_word_freq:\n",
    "           total_word_freq[word]=1\n",
    "        else:\n",
    "           total_word_freq[word] = total_word_freq[word] + 1\n",
    "print(total_word_freq)"
   ]
  },
  {
   "cell_type": "markdown",
   "metadata": {},
   "source": [
    "## For each word, calculate the frequency of occurence for each document."
   ]
  },
  {
   "cell_type": "code",
   "execution_count": 35,
   "metadata": {},
   "outputs": [
    {
     "name": "stdout",
     "output_type": "stream",
     "text": [
      "{'background': [(0, 1)], 'group': [(0, 2)], 'mirnas': [(0, 1), (2, 3), (3, 5)], 'regulate': [(0, 1)], 'biological': [(0, 2)], 'process': [(0, 2)], 'targeting': [(0, 1)], 'genes': [(0, 1), (3, 1)], 'involved': [(0, 1)], 'unbiased': [(0, 2), (2, 1)], 'mirna': [(0, 3), (1, 3), (2, 2), (3, 3)], 'functional': [(0, 2), (2, 2), (3, 6)], 'enrichment': [(0, 2), (3, 5)], 'analysis': [(0, 2), (3, 2)], 'precise': [(0, 1)], 'silico': [(0, 1), (2, 2)], 'approach': [(0, 2), (3, 1)], 'predict': [(0, 1), (3, 1)], 'processes': [(0, 1)], 'regulated': [(0, 1)], 'given': [(0, 1), (3, 1)], 'however': [(0, 1)], 'computationally': [(0, 1)], 'intensive': [(0, 1)], 'significantly': [(0, 2), (2, 2), (3, 2)], 'expensive': [(0, 1)], 'alternatives': [(0, 1)], 'results': [(0, 1), (3, 2)], 'introduce': [(0, 1)], 'bufet': [(0, 2)], 'reduce': [(0, 1)], 'required': [(0, 1)], 'execution': [(0, 1)], 'derives': [(0, 1)], 'strength': [(0, 1)], 'utilization': [(0, 1)], 'efficient': [(0, 1)], 'bitset-based': [(0, 1)], 'methods': [(0, 1)], 'parallel': [(0, 1)], 'computation': [(0, 1)], 'techniques': [(0, 1)], 'conclusions': [(0, 1)], 'outperforms': [(0, 1)], 'state-of-the-art': [(0, 1)], 'implementation': [(0, 1)], 'regard': [(0, 1)], 'computational': [(0, 1)], 'efficiency': [(0, 1)], 'scenarios': [(0, 1)], 'single': [(0, 1)], 'multi-core': [(0, 1)], 'being': [(0, 1)], 'cases': [(0, 1)], 'order': [(0, 1)], 'magnitude': [(0, 1)], 'faster': [(0, 1)], 'diana-tarbase': [(1, 1), (2, 1)], 'microrna': [(1, 2), (2, 1)], 'tarbase': [(1, 2)], 'reference': [(1, 1)], 'database': [(1, 3), (2, 1)], 'devoted': [(1, 1)], 'indexing': [(1, 2)], 'experimentally': [(1, 1), (2, 2)], 'supported': [(1, 2), (2, 2)], 'targets': [(1, 2), (2, 2), (3, 4)], 'eighth': [(1, 1)], 'version': [(1, 1)], 'first': [(1, 1)], 'million': [(1, 1)], 'entries': [(1, 1)], 'corresponding': [(1, 1)], 'unique': [(1, 1), (2, 1)], 'mirna-target': [(1, 1)], 'pairs': [(1, 1)], 'interactions': [(1, 3), (2, 1)], 'experimental': [(1, 2), (2, 1)], 'methodologies': [(1, 2)], 'applied': [(1, 1), (3, 1)], 'types': [(1, 1)], 'tissues': [(1, 1), (3, 1)], 'under': [(1, 1)], 'conditions': [(1, 1), (3, 1)], 'integrates': [(1, 1)], 'information': [(1, 1), (2, 1)], 'cell-type': [(1, 1)], 'specific': [(1, 1), (2, 1)], 'regulation': [(1, 1)], 'while': [(1, 1)], 'hundreds': [(1, 1)], 'thousands': [(1, 1)], 'mirna-binding': [(1, 1)], 'locations': [(1, 1)], 'reported': [(1, 1)], 'coming': [(1, 1)], 'decade': [(1, 1)], 'continuous': [(1, 1)], 'support': [(1, 1), (2, 1)], 'non-coding': [(1, 1)], 'field': [(1, 1)], 'module': [(1, 1), (2, 1)], 'implemented': [(1, 1)], 'enables': [(1, 1), (2, 1)], 'browsing': [(1, 1)], 'through': [(1, 2)], 'different': [(1, 2), (3, 1)], 'filtering': [(1, 1)], 'combinations': [(1, 1)], 'permits': [(1, 1)], 'retrieval': [(1, 1)], 'positive': [(1, 1)], 'negative': [(1, 1)], 'species': [(1, 1), (2, 1)], 'methodology': [(1, 1)], 'tissue': [(1, 1)], 'incorporated': [(1, 1), (2, 1)], 'ranking': [(1, 1)], 'system': [(1, 1)], 'utilized': [(1, 1)], 'display': [(1, 1)], 'based': [(1, 1), (2, 1)], 'robustness': [(1, 1)], 'their': [(1, 1)], 'supporting': [(1, 1)], 'statistics': [(1, 1), (2, 1)], 'pie-charts': [(1, 1)], 'interactive': [(1, 1)], 'bar-plots': [(1, 1)], 'depicting': [(1, 1)], 'content': [(1, 1)], 'available': [(1, 1), (2, 2)], 'dedicated': [(1, 1), (2, 1)], 'result': [(1, 1)], 'intuitive': [(1, 1)], 'interface': [(1, 1)], 'introduced': [(1, 1)], 'providing': [(1, 1)], 'user-friendly': [(1, 1)], 'application': [(1, 1)], 'flexible': [(1, 1)], 'options': [(1, 1)], 'queries': [(1, 1)], 'characterization': [(2, 1)], 'still': [(2, 1)], 'challenge': [(2, 1)], 'present': [(2, 1)], 'diana-mirpath': [(2, 5)], 'online': [(2, 1)], 'software': [(2, 1)], 'suite': [(2, 1)], 'assessment': [(2, 1)], 'regulatory': [(2, 1)], 'roles': [(2, 1)], 'identification': [(2, 1)], 'controlled': [(2, 1)], 'pathways': [(2, 3), (3, 1)], 'mirpath': [(2, 1)], 'server': [(2, 1)], 'renders': [(2, 1)], 'possible': [(2, 1)], 'annotation': [(2, 1)], 'using': [(2, 1), (3, 1)], 'standard': [(2, 1), (3, 3)], 'hypergeometric': [(2, 1), (3, 1)], 'distributions': [(2, 2)], 'empirical': [(2, 1), (3, 1)], 'meta-analysis': [(2, 1)], 'functionality': [(2, 1)], 'extended': [(2, 1)], 'analyses': [(2, 1)], 'molecular': [(2, 1)], 'multiple': [(2, 1)], 'slices': [(2, 1)], 'ontology': [(2, 1), (3, 1)], 'seven': [(2, 1)], 'sapiens': [(2, 1)], 'musculus': [(2, 1)], 'rattus': [(2, 1)], 'norvegicus': [(2, 1)], 'drosophila': [(2, 1)], 'melanogaster': [(2, 1)], 'caenorhabditis': [(2, 1)], 'elegans': [(2, 1)], 'gallus': [(2, 2)], 'danio': [(2, 1)], 'rerio': [(2, 1)], 'importantly': [(2, 1)], 'schema': [(2, 1)], 'users': [(2, 3)], 'harness': [(2, 1)], 'wealth': [(2, 1)], 'substitute': [(2, 1)], 'combine': [(2, 1)], 'predicted': [(2, 1), (3, 1)], 'diana-microt-cds': [(2, 1)], 'targetscan': [(2, 1)], 'quality': [(2, 1)], 'feature': [(2, 1)], 'redesigned': [(2, 1)], 'reverse': [(2, 1)], 'search': [(2, 1)], 'which': [(2, 1), (3, 2)], 'identify': [(2, 1)], 'visualize': [(2, 1)], 'controlling': [(2, 1)], 'selected': [(2, 1), (3, 1)], 'belonging': [(2, 1)], 'categories': [(2, 1), (3, 1)], 'freely': [(2, 1)], 'without': [(2, 1)], 'login': [(2, 1)], 'requirement': [(2, 1)], \"can't\": [(3, 1)], 'motivation': [(3, 1)], 'studies': [(3, 2)], 'investigated': [(3, 1)], 'differential': [(3, 1)], 'expression': [(3, 1)], 'micrornas': [(3, 1)], 'disease': [(3, 1)], 'states': [(3, 1)], 'between': [(3, 1)], 'treatments': [(3, 1)], 'developmental': [(3, 1)], 'stages': [(3, 1)], 'perturbed': [(3, 1)], 'common': [(3, 1)], 'shared': [(3, 1)], 'typically': [(3, 1)], 'yields': [(3, 1)], 'dozens': [(3, 1)], 'enriched': [(3, 2)], 'appear': [(3, 1)], 'frequently': [(3, 1)], 'apparently': [(3, 1)], 'unrelated': [(3, 1)], 'diseases': [(3, 1)], 'commonly': [(3, 1)], 'inappropriate': [(3, 1)], 'targeted': [(3, 1)], 'distribution': [(3, 1)], 'method': [(3, 2)], 'consistently': [(3, 1)], 'significant': [(3, 1)], 'p-values': [(3, 1)], 'randomly': [(3, 1)], 'reflecting': [(3, 1)], 'underlying': [(3, 1)], 'whole': [(3, 1)], 'developed': [(3, 1)], 'algorithm': [(3, 1)], 'measure': [(3, 1)], 'sampling': [(3, 1)], 'reanalysis': [(3, 1)], 'classes': [(3, 1)], 'lists': [(3, 1)], 'published': [(3, 1)], 'majority': [(3, 1)], 'target': [(3, 1)], 'category': [(3, 1)], 'after': [(3, 1)], 'correction': [(3, 1)], 'therefore': [(3, 1)], 'argue': [(3, 1)], 'against': [(3, 1)], 'continued': [(3, 1)]}\n"
     ]
    }
   ],
   "source": [
    "# the dictionary\n",
    "# Key: word, value: [(document1,frequency1),(document2,frequency2),...]\n",
    "word_freq={}\n",
    "\n",
    "for i in range(4):\n",
    "    filename = \"doc\" + str(i) + \".txt\"\n",
    "    #doc = open(filename, \"r\")\n",
    "    doc = open(filename,\"r\", encoding='utf-8')\n",
    "    text_string = doc.read().lower()\n",
    "    doc.close()\n",
    "    \n",
    "    # dictionary containing the frequencies of each word in this specific file\n",
    "    # Key: word, value: frequency of the word in the current document\n",
    "    file_word_freq={}\n",
    "    \n",
    "    # get all words from file i\n",
    "    match_word=word_break(text_string)\n",
    "    \n",
    "    \n",
    "    #for each word\n",
    "    for word in match_word:\n",
    "        # check if word exist in dictionary\n",
    "        if word not in file_word_freq:\n",
    "            file_word_freq[word]=1\n",
    "        else:\n",
    "            file_word_freq[word]+=1\n",
    "    \n",
    "    # For each word of the current document, add the respective document and frequency \n",
    "    # to the global dictionary\n",
    "    for word in file_word_freq:\n",
    "        if word not in word_freq:\n",
    "            word_freq[word]=[(i,file_word_freq[word])]\n",
    "        else:\n",
    "            word_freq[word].append((i,file_word_freq[word]))\n",
    "\n",
    "print(word_freq)"
   ]
  },
  {
   "cell_type": "code",
   "execution_count": null,
   "metadata": {},
   "outputs": [],
   "source": []
  }
 ],
 "metadata": {
  "kernelspec": {
   "display_name": "Python 3",
   "language": "python",
   "name": "python3"
  },
  "language_info": {
   "codemirror_mode": {
    "name": "ipython",
    "version": 3
   },
   "file_extension": ".py",
   "mimetype": "text/x-python",
   "name": "python",
   "nbconvert_exporter": "python",
   "pygments_lexer": "ipython3",
   "version": "3.8.5"
  }
 },
 "nbformat": 4,
 "nbformat_minor": 4
}
