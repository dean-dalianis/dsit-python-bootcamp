{
 "cells": [
  {
   "cell_type": "markdown",
   "metadata": {},
   "source": [
    "# Data structures: pandas et al\n",
    "* <b>Series</b> is an one-dimensional <b>labeled array</b> for any data type (integers, strings, floating point numbers, Python objects, etc.). The <b>labels</b> are referred to as the <b>index</b>\n",
    "* Create panda series: pd.Series(data, index=...)"
   ]
  },
  {
   "cell_type": "code",
   "execution_count": 50,
   "metadata": {},
   "outputs": [
    {
     "name": "stdout",
     "output_type": "stream",
     "text": [
      "0      41\n",
      "1    2000\n",
      "2       4\n",
      "3       2\n",
      "4       4\n",
      "dtype: int64\n"
     ]
    }
   ],
   "source": [
    "import numpy as np\n",
    "import pandas as pd\n",
    "\n",
    "# a series: a one-dimensional labeled array\n",
    "#s1 = pd.Series([41,2000,4,2,4], index=['age', 'salary', 'id', 'kids', 'rank'])\n",
    "s1 = pd.Series([41,2000,4,2,4])\n",
    "\n",
    "print(s1)"
   ]
  },
  {
   "cell_type": "code",
   "execution_count": 51,
   "metadata": {},
   "outputs": [
    {
     "name": "stdout",
     "output_type": "stream",
     "text": [
      "a    1.071121\n",
      "b   -0.449092\n",
      "c    0.869174\n",
      "d   -0.395594\n",
      "e    0.937118\n",
      "dtype: float64\n"
     ]
    }
   ],
   "source": [
    "# generate a series of 5 random numbers\n",
    "s2 = pd.Series(np.random.randn(5), index=['a', 'b', 'c', 'd', 'e'])\n",
    "\n",
    "#print(s1)\n",
    "#print(\"\\n\\n\")\n",
    "print(s2)"
   ]
  },
  {
   "cell_type": "markdown",
   "metadata": {},
   "source": [
    "* You can create series from dictionaries!"
   ]
  },
  {
   "cell_type": "code",
   "execution_count": 52,
   "metadata": {},
   "outputs": [
    {
     "name": "stdout",
     "output_type": "stream",
     "text": [
      "area        42\n",
      "year      2018\n",
      "price    30000\n",
      "dtype: int64\n"
     ]
    }
   ],
   "source": [
    "d = {'area': 42, 'year': 2018, 'price': 30000}\n",
    "s = pd.Series(d)\n",
    "\n",
    "print(s)"
   ]
  },
  {
   "cell_type": "markdown",
   "metadata": {},
   "source": [
    "* You can create series from dictionaries, but adding index-labels"
   ]
  },
  {
   "cell_type": "code",
   "execution_count": 53,
   "metadata": {},
   "outputs": [
    {
     "name": "stdout",
     "output_type": "stream",
     "text": [
      "area           42.0\n",
      "price       30000.0\n",
      "year         2018.0\n",
      "location        NaN\n",
      "dtype: float64\n"
     ]
    }
   ],
   "source": [
    "d = {'area': 42, 'year': 2018, 'price': 30000}\n",
    "s = pd.Series(d, index=['area', 'price','year', 'location'])\n",
    "\n",
    "print(s)"
   ]
  },
  {
   "cell_type": "code",
   "execution_count": 54,
   "metadata": {},
   "outputs": [
    {
     "name": "stdout",
     "output_type": "stream",
     "text": [
      "a    0.108722\n",
      "b    1.063488\n",
      "c    1.417473\n",
      "d   -1.399666\n",
      "e   -0.194452\n",
      "dtype: float64\n"
     ]
    }
   ],
   "source": [
    "# lets re-initiate s\n",
    "s = pd.Series(np.random.randn(5), index=['a', 'b', 'c', 'd', 'e'])\n",
    "print(s)"
   ]
  },
  {
   "cell_type": "markdown",
   "metadata": {},
   "source": [
    "* Access elements with []"
   ]
  },
  {
   "cell_type": "code",
   "execution_count": 58,
   "metadata": {},
   "outputs": [
    {
     "data": {
      "text/plain": [
       "0.10872173157889538"
      ]
     },
     "execution_count": 58,
     "metadata": {},
     "output_type": "execute_result"
    }
   ],
   "source": [
    "# first element of s\n",
    "s[0]"
   ]
  },
  {
   "cell_type": "code",
   "execution_count": 60,
   "metadata": {},
   "outputs": [
    {
     "data": {
      "text/plain": [
       "a    0.108722\n",
       "dtype: float64"
      ]
     },
     "execution_count": 60,
     "metadata": {},
     "output_type": "execute_result"
    }
   ],
   "source": [
    "s[[0]]"
   ]
  },
  {
   "cell_type": "code",
   "execution_count": 61,
   "metadata": {},
   "outputs": [
    {
     "data": {
      "text/plain": [
       "a    0.108722\n",
       "b    1.063488\n",
       "dtype: float64"
      ]
     },
     "execution_count": 61,
     "metadata": {},
     "output_type": "execute_result"
    }
   ],
   "source": [
    "s[[0,1]]"
   ]
  },
  {
   "cell_type": "code",
   "execution_count": 63,
   "metadata": {},
   "outputs": [
    {
     "data": {
      "text/plain": [
       "a    0.108722\n",
       "b    1.063488\n",
       "c    1.417473\n",
       "dtype: float64"
      ]
     },
     "execution_count": 63,
     "metadata": {},
     "output_type": "execute_result"
    }
   ],
   "source": [
    "# first, second and third elements of s\n",
    "s[[0,1,2]]"
   ]
  },
  {
   "cell_type": "markdown",
   "metadata": {},
   "source": [
    "* Use series as dictionaries, using index as key"
   ]
  },
  {
   "cell_type": "code",
   "execution_count": 66,
   "metadata": {},
   "outputs": [
    {
     "name": "stdout",
     "output_type": "stream",
     "text": [
      "a    0.995515\n",
      "b   -0.527247\n",
      "c    0.004500\n",
      "d   -1.544350\n",
      "e   -0.839267\n",
      "dtype: float64\n"
     ]
    }
   ],
   "source": [
    "# lets re-initiate s\n",
    "s = pd.Series(np.random.randn(5), index=['a', 'b', 'c', 'd', 'e'])\n",
    "print(s)"
   ]
  },
  {
   "cell_type": "code",
   "execution_count": 67,
   "metadata": {},
   "outputs": [
    {
     "name": "stdout",
     "output_type": "stream",
     "text": [
      "0.004499900855410445\n"
     ]
    }
   ],
   "source": [
    "#you can use series are dictionaries using index as key\n",
    "# value of key 'c'\n",
    "print(s['c'])"
   ]
  },
  {
   "cell_type": "code",
   "execution_count": 68,
   "metadata": {},
   "outputs": [
    {
     "name": "stdout",
     "output_type": "stream",
     "text": [
      "a    10.000000\n",
      "b    -0.527247\n",
      "c     0.004500\n",
      "d    -1.544350\n",
      "e    -0.839267\n",
      "dtype: float64\n"
     ]
    }
   ],
   "source": [
    "# assign the value 10 for key 'a'\n",
    "s['a']=10\n",
    "\n",
    "print(s)"
   ]
  },
  {
   "cell_type": "markdown",
   "metadata": {},
   "source": [
    "* Perform batch operations"
   ]
  },
  {
   "cell_type": "code",
   "execution_count": 69,
   "metadata": {},
   "outputs": [
    {
     "name": "stdout",
     "output_type": "stream",
     "text": [
      "a    20.000000\n",
      "b    -1.054495\n",
      "c     0.009000\n",
      "d    -3.088701\n",
      "e    -1.678534\n",
      "dtype: float64\n"
     ]
    }
   ],
   "source": [
    "# multiply all elements by 2\n",
    "s = s*2\n",
    "print(s)"
   ]
  },
  {
   "cell_type": "markdown",
   "metadata": {},
   "source": [
    "# Dataframe\n",
    "* A dataframe is a 2-dimensional labeled data structure with columns of potentially different types. Think of it as a dict of Series. DataFrame accepts many different kinds of input:\n",
    "lists, dicts, series, other dataframes, etc..\n",
    "* Create panda dataframes: pd.Dataframe(...)\n",
    "* check the indexes!!!"
   ]
  },
  {
   "cell_type": "code",
   "execution_count": 70,
   "metadata": {},
   "outputs": [
    {
     "name": "stdout",
     "output_type": "stream",
     "text": [
      "   one  two\n",
      "a  1.0  6.0\n",
      "b  2.0  4.0\n",
      "c  3.0  5.0\n"
     ]
    }
   ],
   "source": [
    "# a dictionary of series\n",
    "d = {'one': pd.Series([1., 2., 3.], index=['a', 'b', 'c']), 'two': pd.Series([6., 4., 5.], index=['a', 'b', 'c'])}\n",
    "\n",
    "# create a dataframe from a dictionary of series\n",
    "df = pd.DataFrame(d)\n",
    "print(df)\n",
    "\n"
   ]
  },
  {
   "cell_type": "code",
   "execution_count": 71,
   "metadata": {},
   "outputs": [
    {
     "name": "stdout",
     "output_type": "stream",
     "text": [
      "   one  two\n",
      "a  1.0  6.0\n",
      "b  2.0  4.0\n",
      "c  3.0  5.0\n",
      "d  NaN  4.0\n"
     ]
    }
   ],
   "source": [
    "# a dictionary of series\n",
    "d = {'one': pd.Series([1., 2., 3.], index=['a', 'b', 'c']), \n",
    "     'two': pd.Series([6., 4., 5., 4.], index=['a', 'b', 'c', 'd'])}\n",
    "\n",
    "# create a dataframe from a dictionary of series\n",
    "df = pd.DataFrame(d)\n",
    "print(df)\n",
    "\n"
   ]
  },
  {
   "cell_type": "code",
   "execution_count": 75,
   "metadata": {},
   "outputs": [
    {
     "name": "stdout",
     "output_type": "stream",
     "text": [
      "   one  two\n",
      "a  1.0  6.0\n",
      "b  2.0  4.0\n",
      "c  3.0  5.0\n",
      "g  NaN  4.0\n"
     ]
    }
   ],
   "source": [
    "# a dictionary of series\n",
    "d = {'one': pd.Series([1., 2., 3.], index=['a', 'b', 'c']), \n",
    "     'two': pd.Series([6., 4., 5., 4.], index=['d', 'e', 'f', 'g'])}\n",
    "\n",
    "# create a dataframe from a dictionary of series\n",
    "df = pd.DataFrame(d)\n",
    "print(df)\n"
   ]
  },
  {
   "cell_type": "markdown",
   "metadata": {},
   "source": [
    "* Return index"
   ]
  },
  {
   "cell_type": "code",
   "execution_count": 30,
   "metadata": {},
   "outputs": [
    {
     "data": {
      "text/plain": [
       "Index(['a', 'b', 'c', 'd'], dtype='object')"
      ]
     },
     "execution_count": 30,
     "metadata": {},
     "output_type": "execute_result"
    }
   ],
   "source": [
    "# return df's indexes\n",
    "\n",
    "# no need to print! In notebooks you just type the variable to see the result.\n",
    "\n",
    "df.index\n",
    "\n",
    "#i = df.index\n",
    "#print(i)"
   ]
  },
  {
   "cell_type": "markdown",
   "metadata": {},
   "source": [
    "* Return column names"
   ]
  },
  {
   "cell_type": "code",
   "execution_count": 84,
   "metadata": {},
   "outputs": [
    {
     "data": {
      "text/plain": [
       "Index(['one', 'two'], dtype='object')"
      ]
     },
     "execution_count": 84,
     "metadata": {},
     "output_type": "execute_result"
    }
   ],
   "source": [
    "# return df's columns\n",
    "df.columns\n"
   ]
  },
  {
   "cell_type": "markdown",
   "metadata": {},
   "source": [
    "* Create a dataframe from a dictionary of lists"
   ]
  },
  {
   "cell_type": "code",
   "execution_count": 85,
   "metadata": {},
   "outputs": [
    {
     "name": "stdout",
     "output_type": "stream",
     "text": [
      "   one  two\n",
      "0  1.0  4.0\n",
      "1  2.0  3.0\n",
      "2  3.0  2.0\n",
      "3  4.0  1.0\n"
     ]
    }
   ],
   "source": [
    "# the dictionary\n",
    "d = {'one': [1., 2., 3., 4.], 'two': [4., 3., 2., 1.]}\n",
    "\n",
    "df = pd.DataFrame(d)\n",
    "print(df)\n"
   ]
  },
  {
   "cell_type": "markdown",
   "metadata": {},
   "source": [
    "* Create a dataframe from a list of dictionaries. Note the automatic fill with NaN values."
   ]
  },
  {
   "cell_type": "code",
   "execution_count": 86,
   "metadata": {},
   "outputs": [
    {
     "data": {
      "text/html": [
       "<div>\n",
       "<style scoped>\n",
       "    .dataframe tbody tr th:only-of-type {\n",
       "        vertical-align: middle;\n",
       "    }\n",
       "\n",
       "    .dataframe tbody tr th {\n",
       "        vertical-align: top;\n",
       "    }\n",
       "\n",
       "    .dataframe thead th {\n",
       "        text-align: right;\n",
       "    }\n",
       "</style>\n",
       "<table border=\"1\" class=\"dataframe\">\n",
       "  <thead>\n",
       "    <tr style=\"text-align: right;\">\n",
       "      <th></th>\n",
       "      <th>a</th>\n",
       "      <th>b</th>\n",
       "      <th>c</th>\n",
       "    </tr>\n",
       "  </thead>\n",
       "  <tbody>\n",
       "    <tr>\n",
       "      <td>0</td>\n",
       "      <td>1</td>\n",
       "      <td>2</td>\n",
       "      <td>NaN</td>\n",
       "    </tr>\n",
       "    <tr>\n",
       "      <td>1</td>\n",
       "      <td>5</td>\n",
       "      <td>10</td>\n",
       "      <td>20.0</td>\n",
       "    </tr>\n",
       "  </tbody>\n",
       "</table>\n",
       "</div>"
      ],
      "text/plain": [
       "   a   b     c\n",
       "0  1   2   NaN\n",
       "1  5  10  20.0"
      ]
     },
     "execution_count": 86,
     "metadata": {},
     "output_type": "execute_result"
    }
   ],
   "source": [
    "# a list of dictionaries\n",
    "d = [{'a': 1, 'b': 2}, {'a': 5, 'b': 10, 'c': 20}]\n",
    "\n",
    "pd.DataFrame(d)\n",
    "\n"
   ]
  },
  {
   "cell_type": "markdown",
   "metadata": {},
   "source": [
    "* Create a dataframe from a dict of series."
   ]
  },
  {
   "cell_type": "code",
   "execution_count": 31,
   "metadata": {},
   "outputs": [
    {
     "name": "stdout",
     "output_type": "stream",
     "text": [
      "   one  two\n",
      "0  1.0  4.0\n",
      "1  2.0  3.0\n",
      "2  3.0  2.0\n",
      "3  4.0  1.0\n"
     ]
    }
   ],
   "source": [
    "# the dictionary\n",
    "d = {'one': pd.Series([1., 2., 3., 4.]), 'two': pd.Series([4., 3., 2., 1.])}\n",
    "\n",
    "df = pd.DataFrame(d)\n",
    "print(df)\n"
   ]
  },
  {
   "cell_type": "code",
   "execution_count": 32,
   "metadata": {},
   "outputs": [
    {
     "name": "stdout",
     "output_type": "stream",
     "text": [
      "   one  two\n",
      "a  1.0  4.0\n",
      "b  2.0  3.0\n",
      "c  3.0  2.0\n",
      "d  4.0  1.0\n"
     ]
    }
   ],
   "source": [
    "# the dictionary, but adding index in series. Note that you have 2 indexes!!!!\n",
    "d = {'one': pd.Series([1., 2., 3., 4.], index=['a', 'b', 'c', 'd']), 'two': pd.Series([4., 3., 2., 1.], index=['a', 'b', 'c', 'd'])}\n",
    "\n",
    "df = pd.DataFrame(d)\n",
    "print(df)"
   ]
  },
  {
   "cell_type": "markdown",
   "metadata": {},
   "source": [
    "* access columns using keys (slices)"
   ]
  },
  {
   "cell_type": "code",
   "execution_count": 88,
   "metadata": {},
   "outputs": [
    {
     "name": "stdout",
     "output_type": "stream",
     "text": [
      "a    4.0\n",
      "b    3.0\n",
      "c    2.0\n",
      "d    1.0\n",
      "Name: two, dtype: float64\n"
     ]
    }
   ],
   "source": [
    "print(df['two'])\n"
   ]
  },
  {
   "cell_type": "markdown",
   "metadata": {},
   "source": [
    "## Read from csv (the power of panda/dataframes)"
   ]
  },
  {
   "cell_type": "code",
   "execution_count": 36,
   "metadata": {},
   "outputs": [
    {
     "name": "stdout",
     "output_type": "stream",
     "text": [
      "     location        type  area  constructionyear  sellingyear  price\n",
      "0    Zografou  Storehouse   NaN              1974         2018    500\n",
      "1    Zografou  Storehouse   3.0              2016         2018    469\n",
      "2    Zografou  Storehouse   4.0              1968         2018    500\n",
      "3    Zografou  Storehouse   NaN              1974         2018    500\n",
      "4    Zografou  Storehouse  39.0              1970         2018   5500\n",
      "..        ...         ...   ...               ...          ...    ...\n",
      "184  Zografou       House  52.0              1968         2017  25000\n",
      "185  Zografou       House  71.0              1969         2017  10000\n",
      "186  Zografou       House  44.0              1972         2017   3500\n",
      "187  Zografou       House  96.0              1967         2017  50000\n",
      "188  Zografou       House  34.0              1972         2017  20000\n",
      "\n",
      "[189 rows x 6 columns]\n"
     ]
    }
   ],
   "source": [
    "import pandas as pd\n",
    "\n",
    "data = pd.read_csv(\"houseprices.csv\", sep=',')\n",
    "print(data)\n"
   ]
  },
  {
   "cell_type": "markdown",
   "metadata": {},
   "source": [
    "## First view of data"
   ]
  },
  {
   "cell_type": "code",
   "execution_count": 37,
   "metadata": {},
   "outputs": [
    {
     "data": {
      "text/html": [
       "<div>\n",
       "<style scoped>\n",
       "    .dataframe tbody tr th:only-of-type {\n",
       "        vertical-align: middle;\n",
       "    }\n",
       "\n",
       "    .dataframe tbody tr th {\n",
       "        vertical-align: top;\n",
       "    }\n",
       "\n",
       "    .dataframe thead th {\n",
       "        text-align: right;\n",
       "    }\n",
       "</style>\n",
       "<table border=\"1\" class=\"dataframe\">\n",
       "  <thead>\n",
       "    <tr style=\"text-align: right;\">\n",
       "      <th></th>\n",
       "      <th>location</th>\n",
       "      <th>type</th>\n",
       "      <th>area</th>\n",
       "      <th>constructionyear</th>\n",
       "      <th>sellingyear</th>\n",
       "      <th>price</th>\n",
       "    </tr>\n",
       "  </thead>\n",
       "  <tbody>\n",
       "    <tr>\n",
       "      <th>0</th>\n",
       "      <td>Zografou</td>\n",
       "      <td>Storehouse</td>\n",
       "      <td>NaN</td>\n",
       "      <td>1974</td>\n",
       "      <td>2018</td>\n",
       "      <td>500</td>\n",
       "    </tr>\n",
       "    <tr>\n",
       "      <th>1</th>\n",
       "      <td>Zografou</td>\n",
       "      <td>Storehouse</td>\n",
       "      <td>3.0</td>\n",
       "      <td>2016</td>\n",
       "      <td>2018</td>\n",
       "      <td>469</td>\n",
       "    </tr>\n",
       "    <tr>\n",
       "      <th>2</th>\n",
       "      <td>Zografou</td>\n",
       "      <td>Storehouse</td>\n",
       "      <td>4.0</td>\n",
       "      <td>1968</td>\n",
       "      <td>2018</td>\n",
       "      <td>500</td>\n",
       "    </tr>\n",
       "    <tr>\n",
       "      <th>3</th>\n",
       "      <td>Zografou</td>\n",
       "      <td>Storehouse</td>\n",
       "      <td>NaN</td>\n",
       "      <td>1974</td>\n",
       "      <td>2018</td>\n",
       "      <td>500</td>\n",
       "    </tr>\n",
       "    <tr>\n",
       "      <th>4</th>\n",
       "      <td>Zografou</td>\n",
       "      <td>Storehouse</td>\n",
       "      <td>39.0</td>\n",
       "      <td>1970</td>\n",
       "      <td>2018</td>\n",
       "      <td>5500</td>\n",
       "    </tr>\n",
       "  </tbody>\n",
       "</table>\n",
       "</div>"
      ],
      "text/plain": [
       "   location        type  area  constructionyear  sellingyear  price\n",
       "0  Zografou  Storehouse   NaN              1974         2018    500\n",
       "1  Zografou  Storehouse   3.0              2016         2018    469\n",
       "2  Zografou  Storehouse   4.0              1968         2018    500\n",
       "3  Zografou  Storehouse   NaN              1974         2018    500\n",
       "4  Zografou  Storehouse  39.0              1970         2018   5500"
      ]
     },
     "execution_count": 37,
     "metadata": {},
     "output_type": "execute_result"
    }
   ],
   "source": [
    "data.head()"
   ]
  },
  {
   "cell_type": "markdown",
   "metadata": {},
   "source": [
    "## Which columns?"
   ]
  },
  {
   "cell_type": "code",
   "execution_count": 38,
   "metadata": {},
   "outputs": [
    {
     "data": {
      "text/plain": [
       "array(['location', 'type', 'area', 'constructionyear', 'sellingyear',\n",
       "       'price'], dtype=object)"
      ]
     },
     "execution_count": 38,
     "metadata": {},
     "output_type": "execute_result"
    }
   ],
   "source": [
    "data.columns.values"
   ]
  },
  {
   "cell_type": "markdown",
   "metadata": {},
   "source": [
    "## Describe column content"
   ]
  },
  {
   "cell_type": "code",
   "execution_count": 39,
   "metadata": {},
   "outputs": [
    {
     "data": {
      "text/html": [
       "<div>\n",
       "<style scoped>\n",
       "    .dataframe tbody tr th:only-of-type {\n",
       "        vertical-align: middle;\n",
       "    }\n",
       "\n",
       "    .dataframe tbody tr th {\n",
       "        vertical-align: top;\n",
       "    }\n",
       "\n",
       "    .dataframe thead th {\n",
       "        text-align: right;\n",
       "    }\n",
       "</style>\n",
       "<table border=\"1\" class=\"dataframe\">\n",
       "  <thead>\n",
       "    <tr style=\"text-align: right;\">\n",
       "      <th></th>\n",
       "      <th>area</th>\n",
       "      <th>constructionyear</th>\n",
       "      <th>sellingyear</th>\n",
       "      <th>price</th>\n",
       "    </tr>\n",
       "  </thead>\n",
       "  <tbody>\n",
       "    <tr>\n",
       "      <th>count</th>\n",
       "      <td>184.000000</td>\n",
       "      <td>189.000000</td>\n",
       "      <td>189.000000</td>\n",
       "      <td>189.000000</td>\n",
       "    </tr>\n",
       "    <tr>\n",
       "      <th>mean</th>\n",
       "      <td>59.483696</td>\n",
       "      <td>1975.862434</td>\n",
       "      <td>2017.232804</td>\n",
       "      <td>31046.317460</td>\n",
       "    </tr>\n",
       "    <tr>\n",
       "      <th>std</th>\n",
       "      <td>28.129866</td>\n",
       "      <td>12.692019</td>\n",
       "      <td>0.423741</td>\n",
       "      <td>40442.377241</td>\n",
       "    </tr>\n",
       "    <tr>\n",
       "      <th>min</th>\n",
       "      <td>3.000000</td>\n",
       "      <td>1952.000000</td>\n",
       "      <td>2017.000000</td>\n",
       "      <td>0.000000</td>\n",
       "    </tr>\n",
       "    <tr>\n",
       "      <th>25%</th>\n",
       "      <td>44.000000</td>\n",
       "      <td>1968.000000</td>\n",
       "      <td>2017.000000</td>\n",
       "      <td>10000.000000</td>\n",
       "    </tr>\n",
       "    <tr>\n",
       "      <th>50%</th>\n",
       "      <td>54.000000</td>\n",
       "      <td>1972.000000</td>\n",
       "      <td>2017.000000</td>\n",
       "      <td>20000.000000</td>\n",
       "    </tr>\n",
       "    <tr>\n",
       "      <th>75%</th>\n",
       "      <td>76.250000</td>\n",
       "      <td>1979.000000</td>\n",
       "      <td>2017.000000</td>\n",
       "      <td>40000.000000</td>\n",
       "    </tr>\n",
       "    <tr>\n",
       "      <th>max</th>\n",
       "      <td>222.000000</td>\n",
       "      <td>2016.000000</td>\n",
       "      <td>2018.000000</td>\n",
       "      <td>342590.000000</td>\n",
       "    </tr>\n",
       "  </tbody>\n",
       "</table>\n",
       "</div>"
      ],
      "text/plain": [
       "             area  constructionyear  sellingyear          price\n",
       "count  184.000000        189.000000   189.000000     189.000000\n",
       "mean    59.483696       1975.862434  2017.232804   31046.317460\n",
       "std     28.129866         12.692019     0.423741   40442.377241\n",
       "min      3.000000       1952.000000  2017.000000       0.000000\n",
       "25%     44.000000       1968.000000  2017.000000   10000.000000\n",
       "50%     54.000000       1972.000000  2017.000000   20000.000000\n",
       "75%     76.250000       1979.000000  2017.000000   40000.000000\n",
       "max    222.000000       2016.000000  2018.000000  342590.000000"
      ]
     },
     "execution_count": 39,
     "metadata": {},
     "output_type": "execute_result"
    }
   ],
   "source": [
    "data.describe()"
   ]
  },
  {
   "cell_type": "markdown",
   "metadata": {},
   "source": [
    "## Slices"
   ]
  },
  {
   "cell_type": "markdown",
   "metadata": {},
   "source": [
    "* Get a specific column, e.g., area"
   ]
  },
  {
   "cell_type": "code",
   "execution_count": 40,
   "metadata": {},
   "outputs": [
    {
     "data": {
      "text/plain": [
       "0        500\n",
       "1        469\n",
       "2        500\n",
       "3        500\n",
       "4       5500\n",
       "       ...  \n",
       "184    25000\n",
       "185    10000\n",
       "186     3500\n",
       "187    50000\n",
       "188    20000\n",
       "Name: price, Length: 189, dtype: int64"
      ]
     },
     "execution_count": 40,
     "metadata": {},
     "output_type": "execute_result"
    }
   ],
   "source": [
    "data['price']"
   ]
  },
  {
   "cell_type": "markdown",
   "metadata": {},
   "source": [
    "* Get more columns, e.g., area, price and sellingyear!"
   ]
  },
  {
   "cell_type": "code",
   "execution_count": 41,
   "metadata": {},
   "outputs": [
    {
     "data": {
      "text/html": [
       "<div>\n",
       "<style scoped>\n",
       "    .dataframe tbody tr th:only-of-type {\n",
       "        vertical-align: middle;\n",
       "    }\n",
       "\n",
       "    .dataframe tbody tr th {\n",
       "        vertical-align: top;\n",
       "    }\n",
       "\n",
       "    .dataframe thead th {\n",
       "        text-align: right;\n",
       "    }\n",
       "</style>\n",
       "<table border=\"1\" class=\"dataframe\">\n",
       "  <thead>\n",
       "    <tr style=\"text-align: right;\">\n",
       "      <th></th>\n",
       "      <th>area</th>\n",
       "      <th>price</th>\n",
       "      <th>sellingyear</th>\n",
       "    </tr>\n",
       "  </thead>\n",
       "  <tbody>\n",
       "    <tr>\n",
       "      <th>0</th>\n",
       "      <td>NaN</td>\n",
       "      <td>500</td>\n",
       "      <td>2018</td>\n",
       "    </tr>\n",
       "    <tr>\n",
       "      <th>1</th>\n",
       "      <td>3.0</td>\n",
       "      <td>469</td>\n",
       "      <td>2018</td>\n",
       "    </tr>\n",
       "    <tr>\n",
       "      <th>2</th>\n",
       "      <td>4.0</td>\n",
       "      <td>500</td>\n",
       "      <td>2018</td>\n",
       "    </tr>\n",
       "    <tr>\n",
       "      <th>3</th>\n",
       "      <td>NaN</td>\n",
       "      <td>500</td>\n",
       "      <td>2018</td>\n",
       "    </tr>\n",
       "    <tr>\n",
       "      <th>4</th>\n",
       "      <td>39.0</td>\n",
       "      <td>5500</td>\n",
       "      <td>2018</td>\n",
       "    </tr>\n",
       "    <tr>\n",
       "      <th>...</th>\n",
       "      <td>...</td>\n",
       "      <td>...</td>\n",
       "      <td>...</td>\n",
       "    </tr>\n",
       "    <tr>\n",
       "      <th>184</th>\n",
       "      <td>52.0</td>\n",
       "      <td>25000</td>\n",
       "      <td>2017</td>\n",
       "    </tr>\n",
       "    <tr>\n",
       "      <th>185</th>\n",
       "      <td>71.0</td>\n",
       "      <td>10000</td>\n",
       "      <td>2017</td>\n",
       "    </tr>\n",
       "    <tr>\n",
       "      <th>186</th>\n",
       "      <td>44.0</td>\n",
       "      <td>3500</td>\n",
       "      <td>2017</td>\n",
       "    </tr>\n",
       "    <tr>\n",
       "      <th>187</th>\n",
       "      <td>96.0</td>\n",
       "      <td>50000</td>\n",
       "      <td>2017</td>\n",
       "    </tr>\n",
       "    <tr>\n",
       "      <th>188</th>\n",
       "      <td>34.0</td>\n",
       "      <td>20000</td>\n",
       "      <td>2017</td>\n",
       "    </tr>\n",
       "  </tbody>\n",
       "</table>\n",
       "<p>189 rows × 3 columns</p>\n",
       "</div>"
      ],
      "text/plain": [
       "     area  price  sellingyear\n",
       "0     NaN    500         2018\n",
       "1     3.0    469         2018\n",
       "2     4.0    500         2018\n",
       "3     NaN    500         2018\n",
       "4    39.0   5500         2018\n",
       "..    ...    ...          ...\n",
       "184  52.0  25000         2017\n",
       "185  71.0  10000         2017\n",
       "186  44.0   3500         2017\n",
       "187  96.0  50000         2017\n",
       "188  34.0  20000         2017\n",
       "\n",
       "[189 rows x 3 columns]"
      ]
     },
     "execution_count": 41,
     "metadata": {},
     "output_type": "execute_result"
    }
   ],
   "source": [
    "data[ ['area','price', 'sellingyear'] ]"
   ]
  },
  {
   "cell_type": "markdown",
   "metadata": {},
   "source": [
    "* Get 4 rows, e.g., rows at position 0, 1 and 2 and 5"
   ]
  },
  {
   "cell_type": "code",
   "execution_count": 42,
   "metadata": {},
   "outputs": [
    {
     "data": {
      "text/html": [
       "<div>\n",
       "<style scoped>\n",
       "    .dataframe tbody tr th:only-of-type {\n",
       "        vertical-align: middle;\n",
       "    }\n",
       "\n",
       "    .dataframe tbody tr th {\n",
       "        vertical-align: top;\n",
       "    }\n",
       "\n",
       "    .dataframe thead th {\n",
       "        text-align: right;\n",
       "    }\n",
       "</style>\n",
       "<table border=\"1\" class=\"dataframe\">\n",
       "  <thead>\n",
       "    <tr style=\"text-align: right;\">\n",
       "      <th></th>\n",
       "      <th>location</th>\n",
       "      <th>type</th>\n",
       "      <th>area</th>\n",
       "      <th>constructionyear</th>\n",
       "      <th>sellingyear</th>\n",
       "      <th>price</th>\n",
       "    </tr>\n",
       "  </thead>\n",
       "  <tbody>\n",
       "    <tr>\n",
       "      <th>0</th>\n",
       "      <td>Zografou</td>\n",
       "      <td>Storehouse</td>\n",
       "      <td>NaN</td>\n",
       "      <td>1974</td>\n",
       "      <td>2018</td>\n",
       "      <td>500</td>\n",
       "    </tr>\n",
       "    <tr>\n",
       "      <th>1</th>\n",
       "      <td>Zografou</td>\n",
       "      <td>Storehouse</td>\n",
       "      <td>3.0</td>\n",
       "      <td>2016</td>\n",
       "      <td>2018</td>\n",
       "      <td>469</td>\n",
       "    </tr>\n",
       "    <tr>\n",
       "      <th>2</th>\n",
       "      <td>Zografou</td>\n",
       "      <td>Storehouse</td>\n",
       "      <td>4.0</td>\n",
       "      <td>1968</td>\n",
       "      <td>2018</td>\n",
       "      <td>500</td>\n",
       "    </tr>\n",
       "    <tr>\n",
       "      <th>5</th>\n",
       "      <td>Zografou</td>\n",
       "      <td>Storehouse</td>\n",
       "      <td>NaN</td>\n",
       "      <td>1974</td>\n",
       "      <td>2018</td>\n",
       "      <td>500</td>\n",
       "    </tr>\n",
       "  </tbody>\n",
       "</table>\n",
       "</div>"
      ],
      "text/plain": [
       "   location        type  area  constructionyear  sellingyear  price\n",
       "0  Zografou  Storehouse   NaN              1974         2018    500\n",
       "1  Zografou  Storehouse   3.0              2016         2018    469\n",
       "2  Zografou  Storehouse   4.0              1968         2018    500\n",
       "5  Zografou  Storehouse   NaN              1974         2018    500"
      ]
     },
     "execution_count": 42,
     "metadata": {},
     "output_type": "execute_result"
    }
   ],
   "source": [
    "data.iloc[[0,1,2,5]]"
   ]
  },
  {
   "cell_type": "markdown",
   "metadata": {},
   "source": [
    "* set my own index! instead of 0, 1, 2,... put 100, 101, 102..."
   ]
  },
  {
   "cell_type": "code",
   "execution_count": 43,
   "metadata": {},
   "outputs": [
    {
     "name": "stdout",
     "output_type": "stream",
     "text": [
      "      location        type  area  constructionyear  sellingyear  price\n",
      "myid                                                                  \n",
      "100   Zografou  Storehouse   NaN              1974         2018    500\n",
      "101   Zografou  Storehouse   3.0              2016         2018    469\n",
      "102   Zografou  Storehouse   4.0              1968         2018    500\n",
      "103   Zografou  Storehouse   NaN              1974         2018    500\n",
      "104   Zografou  Storehouse  39.0              1970         2018   5500\n",
      "...        ...         ...   ...               ...          ...    ...\n",
      "284   Zografou       House  52.0              1968         2017  25000\n",
      "285   Zografou       House  71.0              1969         2017  10000\n",
      "286   Zografou       House  44.0              1972         2017   3500\n",
      "287   Zografou       House  96.0              1967         2017  50000\n",
      "288   Zografou       House  34.0              1972         2017  20000\n",
      "\n",
      "[189 rows x 6 columns]\n"
     ]
    }
   ],
   "source": [
    "# create my own column with label myid\n",
    "data['myid']=range(100, len(data)+100, 1)\n",
    "data = data.set_index('myid')\n",
    "print(data)"
   ]
  },
  {
   "cell_type": "markdown",
   "metadata": {},
   "source": [
    "* Get 3 rows, but using their label, not their position!. iloc() vs loc()"
   ]
  },
  {
   "cell_type": "code",
   "execution_count": 44,
   "metadata": {},
   "outputs": [
    {
     "data": {
      "text/html": [
       "<div>\n",
       "<style scoped>\n",
       "    .dataframe tbody tr th:only-of-type {\n",
       "        vertical-align: middle;\n",
       "    }\n",
       "\n",
       "    .dataframe tbody tr th {\n",
       "        vertical-align: top;\n",
       "    }\n",
       "\n",
       "    .dataframe thead th {\n",
       "        text-align: right;\n",
       "    }\n",
       "</style>\n",
       "<table border=\"1\" class=\"dataframe\">\n",
       "  <thead>\n",
       "    <tr style=\"text-align: right;\">\n",
       "      <th></th>\n",
       "      <th>location</th>\n",
       "      <th>type</th>\n",
       "      <th>area</th>\n",
       "      <th>constructionyear</th>\n",
       "      <th>sellingyear</th>\n",
       "      <th>price</th>\n",
       "    </tr>\n",
       "    <tr>\n",
       "      <th>myid</th>\n",
       "      <th></th>\n",
       "      <th></th>\n",
       "      <th></th>\n",
       "      <th></th>\n",
       "      <th></th>\n",
       "      <th></th>\n",
       "    </tr>\n",
       "  </thead>\n",
       "  <tbody>\n",
       "    <tr>\n",
       "      <th>100</th>\n",
       "      <td>Zografou</td>\n",
       "      <td>Storehouse</td>\n",
       "      <td>NaN</td>\n",
       "      <td>1974</td>\n",
       "      <td>2018</td>\n",
       "      <td>500</td>\n",
       "    </tr>\n",
       "    <tr>\n",
       "      <th>102</th>\n",
       "      <td>Zografou</td>\n",
       "      <td>Storehouse</td>\n",
       "      <td>4.0</td>\n",
       "      <td>1968</td>\n",
       "      <td>2018</td>\n",
       "      <td>500</td>\n",
       "    </tr>\n",
       "    <tr>\n",
       "      <th>104</th>\n",
       "      <td>Zografou</td>\n",
       "      <td>Storehouse</td>\n",
       "      <td>39.0</td>\n",
       "      <td>1970</td>\n",
       "      <td>2018</td>\n",
       "      <td>5500</td>\n",
       "    </tr>\n",
       "  </tbody>\n",
       "</table>\n",
       "</div>"
      ],
      "text/plain": [
       "      location        type  area  constructionyear  sellingyear  price\n",
       "myid                                                                  \n",
       "100   Zografou  Storehouse   NaN              1974         2018    500\n",
       "102   Zografou  Storehouse   4.0              1968         2018    500\n",
       "104   Zografou  Storehouse  39.0              1970         2018   5500"
      ]
     },
     "execution_count": 44,
     "metadata": {},
     "output_type": "execute_result"
    }
   ],
   "source": [
    "data.loc[[100,102,104]]"
   ]
  },
  {
   "cell_type": "markdown",
   "metadata": {},
   "source": [
    "* Get all rows with 'price' field <= 50000, using two ways with loc and without loc "
   ]
  },
  {
   "cell_type": "code",
   "execution_count": 46,
   "metadata": {},
   "outputs": [
    {
     "data": {
      "text/html": [
       "<div>\n",
       "<style scoped>\n",
       "    .dataframe tbody tr th:only-of-type {\n",
       "        vertical-align: middle;\n",
       "    }\n",
       "\n",
       "    .dataframe tbody tr th {\n",
       "        vertical-align: top;\n",
       "    }\n",
       "\n",
       "    .dataframe thead th {\n",
       "        text-align: right;\n",
       "    }\n",
       "</style>\n",
       "<table border=\"1\" class=\"dataframe\">\n",
       "  <thead>\n",
       "    <tr style=\"text-align: right;\">\n",
       "      <th></th>\n",
       "      <th>location</th>\n",
       "      <th>type</th>\n",
       "      <th>area</th>\n",
       "      <th>constructionyear</th>\n",
       "      <th>sellingyear</th>\n",
       "      <th>price</th>\n",
       "    </tr>\n",
       "    <tr>\n",
       "      <th>myid</th>\n",
       "      <th></th>\n",
       "      <th></th>\n",
       "      <th></th>\n",
       "      <th></th>\n",
       "      <th></th>\n",
       "      <th></th>\n",
       "    </tr>\n",
       "  </thead>\n",
       "  <tbody>\n",
       "    <tr>\n",
       "      <th>100</th>\n",
       "      <td>Zografou</td>\n",
       "      <td>Storehouse</td>\n",
       "      <td>NaN</td>\n",
       "      <td>1974</td>\n",
       "      <td>2018</td>\n",
       "      <td>500</td>\n",
       "    </tr>\n",
       "    <tr>\n",
       "      <th>101</th>\n",
       "      <td>Zografou</td>\n",
       "      <td>Storehouse</td>\n",
       "      <td>3.0</td>\n",
       "      <td>2016</td>\n",
       "      <td>2018</td>\n",
       "      <td>469</td>\n",
       "    </tr>\n",
       "    <tr>\n",
       "      <th>102</th>\n",
       "      <td>Zografou</td>\n",
       "      <td>Storehouse</td>\n",
       "      <td>4.0</td>\n",
       "      <td>1968</td>\n",
       "      <td>2018</td>\n",
       "      <td>500</td>\n",
       "    </tr>\n",
       "    <tr>\n",
       "      <th>103</th>\n",
       "      <td>Zografou</td>\n",
       "      <td>Storehouse</td>\n",
       "      <td>NaN</td>\n",
       "      <td>1974</td>\n",
       "      <td>2018</td>\n",
       "      <td>500</td>\n",
       "    </tr>\n",
       "    <tr>\n",
       "      <th>104</th>\n",
       "      <td>Zografou</td>\n",
       "      <td>Storehouse</td>\n",
       "      <td>39.0</td>\n",
       "      <td>1970</td>\n",
       "      <td>2018</td>\n",
       "      <td>5500</td>\n",
       "    </tr>\n",
       "    <tr>\n",
       "      <th>...</th>\n",
       "      <td>...</td>\n",
       "      <td>...</td>\n",
       "      <td>...</td>\n",
       "      <td>...</td>\n",
       "      <td>...</td>\n",
       "      <td>...</td>\n",
       "    </tr>\n",
       "    <tr>\n",
       "      <th>284</th>\n",
       "      <td>Zografou</td>\n",
       "      <td>House</td>\n",
       "      <td>52.0</td>\n",
       "      <td>1968</td>\n",
       "      <td>2017</td>\n",
       "      <td>25000</td>\n",
       "    </tr>\n",
       "    <tr>\n",
       "      <th>285</th>\n",
       "      <td>Zografou</td>\n",
       "      <td>House</td>\n",
       "      <td>71.0</td>\n",
       "      <td>1969</td>\n",
       "      <td>2017</td>\n",
       "      <td>10000</td>\n",
       "    </tr>\n",
       "    <tr>\n",
       "      <th>286</th>\n",
       "      <td>Zografou</td>\n",
       "      <td>House</td>\n",
       "      <td>44.0</td>\n",
       "      <td>1972</td>\n",
       "      <td>2017</td>\n",
       "      <td>3500</td>\n",
       "    </tr>\n",
       "    <tr>\n",
       "      <th>287</th>\n",
       "      <td>Zografou</td>\n",
       "      <td>House</td>\n",
       "      <td>96.0</td>\n",
       "      <td>1967</td>\n",
       "      <td>2017</td>\n",
       "      <td>50000</td>\n",
       "    </tr>\n",
       "    <tr>\n",
       "      <th>288</th>\n",
       "      <td>Zografou</td>\n",
       "      <td>House</td>\n",
       "      <td>34.0</td>\n",
       "      <td>1972</td>\n",
       "      <td>2017</td>\n",
       "      <td>20000</td>\n",
       "    </tr>\n",
       "  </tbody>\n",
       "</table>\n",
       "<p>159 rows × 6 columns</p>\n",
       "</div>"
      ],
      "text/plain": [
       "      location        type  area  constructionyear  sellingyear  price\n",
       "myid                                                                  \n",
       "100   Zografou  Storehouse   NaN              1974         2018    500\n",
       "101   Zografou  Storehouse   3.0              2016         2018    469\n",
       "102   Zografou  Storehouse   4.0              1968         2018    500\n",
       "103   Zografou  Storehouse   NaN              1974         2018    500\n",
       "104   Zografou  Storehouse  39.0              1970         2018   5500\n",
       "...        ...         ...   ...               ...          ...    ...\n",
       "284   Zografou       House  52.0              1968         2017  25000\n",
       "285   Zografou       House  71.0              1969         2017  10000\n",
       "286   Zografou       House  44.0              1972         2017   3500\n",
       "287   Zografou       House  96.0              1967         2017  50000\n",
       "288   Zografou       House  34.0              1972         2017  20000\n",
       "\n",
       "[159 rows x 6 columns]"
      ]
     },
     "execution_count": 46,
     "metadata": {},
     "output_type": "execute_result"
    }
   ],
   "source": [
    "data[data['price']<=50000]"
   ]
  },
  {
   "cell_type": "code",
   "execution_count": 47,
   "metadata": {},
   "outputs": [
    {
     "data": {
      "text/html": [
       "<div>\n",
       "<style scoped>\n",
       "    .dataframe tbody tr th:only-of-type {\n",
       "        vertical-align: middle;\n",
       "    }\n",
       "\n",
       "    .dataframe tbody tr th {\n",
       "        vertical-align: top;\n",
       "    }\n",
       "\n",
       "    .dataframe thead th {\n",
       "        text-align: right;\n",
       "    }\n",
       "</style>\n",
       "<table border=\"1\" class=\"dataframe\">\n",
       "  <thead>\n",
       "    <tr style=\"text-align: right;\">\n",
       "      <th></th>\n",
       "      <th>location</th>\n",
       "      <th>type</th>\n",
       "      <th>area</th>\n",
       "      <th>constructionyear</th>\n",
       "      <th>sellingyear</th>\n",
       "      <th>price</th>\n",
       "    </tr>\n",
       "    <tr>\n",
       "      <th>myid</th>\n",
       "      <th></th>\n",
       "      <th></th>\n",
       "      <th></th>\n",
       "      <th></th>\n",
       "      <th></th>\n",
       "      <th></th>\n",
       "    </tr>\n",
       "  </thead>\n",
       "  <tbody>\n",
       "    <tr>\n",
       "      <th>100</th>\n",
       "      <td>Zografou</td>\n",
       "      <td>Storehouse</td>\n",
       "      <td>NaN</td>\n",
       "      <td>1974</td>\n",
       "      <td>2018</td>\n",
       "      <td>500</td>\n",
       "    </tr>\n",
       "    <tr>\n",
       "      <th>101</th>\n",
       "      <td>Zografou</td>\n",
       "      <td>Storehouse</td>\n",
       "      <td>3.0</td>\n",
       "      <td>2016</td>\n",
       "      <td>2018</td>\n",
       "      <td>469</td>\n",
       "    </tr>\n",
       "    <tr>\n",
       "      <th>102</th>\n",
       "      <td>Zografou</td>\n",
       "      <td>Storehouse</td>\n",
       "      <td>4.0</td>\n",
       "      <td>1968</td>\n",
       "      <td>2018</td>\n",
       "      <td>500</td>\n",
       "    </tr>\n",
       "    <tr>\n",
       "      <th>103</th>\n",
       "      <td>Zografou</td>\n",
       "      <td>Storehouse</td>\n",
       "      <td>NaN</td>\n",
       "      <td>1974</td>\n",
       "      <td>2018</td>\n",
       "      <td>500</td>\n",
       "    </tr>\n",
       "    <tr>\n",
       "      <th>104</th>\n",
       "      <td>Zografou</td>\n",
       "      <td>Storehouse</td>\n",
       "      <td>39.0</td>\n",
       "      <td>1970</td>\n",
       "      <td>2018</td>\n",
       "      <td>5500</td>\n",
       "    </tr>\n",
       "    <tr>\n",
       "      <th>...</th>\n",
       "      <td>...</td>\n",
       "      <td>...</td>\n",
       "      <td>...</td>\n",
       "      <td>...</td>\n",
       "      <td>...</td>\n",
       "      <td>...</td>\n",
       "    </tr>\n",
       "    <tr>\n",
       "      <th>283</th>\n",
       "      <td>Zografou</td>\n",
       "      <td>House</td>\n",
       "      <td>20.0</td>\n",
       "      <td>1965</td>\n",
       "      <td>2017</td>\n",
       "      <td>13158</td>\n",
       "    </tr>\n",
       "    <tr>\n",
       "      <th>284</th>\n",
       "      <td>Zografou</td>\n",
       "      <td>House</td>\n",
       "      <td>52.0</td>\n",
       "      <td>1968</td>\n",
       "      <td>2017</td>\n",
       "      <td>25000</td>\n",
       "    </tr>\n",
       "    <tr>\n",
       "      <th>285</th>\n",
       "      <td>Zografou</td>\n",
       "      <td>House</td>\n",
       "      <td>71.0</td>\n",
       "      <td>1969</td>\n",
       "      <td>2017</td>\n",
       "      <td>10000</td>\n",
       "    </tr>\n",
       "    <tr>\n",
       "      <th>286</th>\n",
       "      <td>Zografou</td>\n",
       "      <td>House</td>\n",
       "      <td>44.0</td>\n",
       "      <td>1972</td>\n",
       "      <td>2017</td>\n",
       "      <td>3500</td>\n",
       "    </tr>\n",
       "    <tr>\n",
       "      <th>288</th>\n",
       "      <td>Zografou</td>\n",
       "      <td>House</td>\n",
       "      <td>34.0</td>\n",
       "      <td>1972</td>\n",
       "      <td>2017</td>\n",
       "      <td>20000</td>\n",
       "    </tr>\n",
       "  </tbody>\n",
       "</table>\n",
       "<p>155 rows × 6 columns</p>\n",
       "</div>"
      ],
      "text/plain": [
       "      location        type  area  constructionyear  sellingyear  price\n",
       "myid                                                                  \n",
       "100   Zografou  Storehouse   NaN              1974         2018    500\n",
       "101   Zografou  Storehouse   3.0              2016         2018    469\n",
       "102   Zografou  Storehouse   4.0              1968         2018    500\n",
       "103   Zografou  Storehouse   NaN              1974         2018    500\n",
       "104   Zografou  Storehouse  39.0              1970         2018   5500\n",
       "...        ...         ...   ...               ...          ...    ...\n",
       "283   Zografou       House  20.0              1965         2017  13158\n",
       "284   Zografou       House  52.0              1968         2017  25000\n",
       "285   Zografou       House  71.0              1969         2017  10000\n",
       "286   Zografou       House  44.0              1972         2017   3500\n",
       "288   Zografou       House  34.0              1972         2017  20000\n",
       "\n",
       "[155 rows x 6 columns]"
      ]
     },
     "execution_count": 47,
     "metadata": {},
     "output_type": "execute_result"
    }
   ],
   "source": [
    "data.loc[ (data['price'] < 50000) ]"
   ]
  },
  {
   "cell_type": "markdown",
   "metadata": {},
   "source": [
    "* Get all rows with 'area' field > 90 and 'price' < 100000 and 'sellingyear' < 2018"
   ]
  },
  {
   "cell_type": "code",
   "execution_count": 48,
   "metadata": {},
   "outputs": [
    {
     "data": {
      "text/html": [
       "<div>\n",
       "<style scoped>\n",
       "    .dataframe tbody tr th:only-of-type {\n",
       "        vertical-align: middle;\n",
       "    }\n",
       "\n",
       "    .dataframe tbody tr th {\n",
       "        vertical-align: top;\n",
       "    }\n",
       "\n",
       "    .dataframe thead th {\n",
       "        text-align: right;\n",
       "    }\n",
       "</style>\n",
       "<table border=\"1\" class=\"dataframe\">\n",
       "  <thead>\n",
       "    <tr style=\"text-align: right;\">\n",
       "      <th></th>\n",
       "      <th>location</th>\n",
       "      <th>type</th>\n",
       "      <th>area</th>\n",
       "      <th>constructionyear</th>\n",
       "      <th>sellingyear</th>\n",
       "      <th>price</th>\n",
       "    </tr>\n",
       "    <tr>\n",
       "      <th>myid</th>\n",
       "      <th></th>\n",
       "      <th></th>\n",
       "      <th></th>\n",
       "      <th></th>\n",
       "      <th></th>\n",
       "      <th></th>\n",
       "    </tr>\n",
       "  </thead>\n",
       "  <tbody>\n",
       "    <tr>\n",
       "      <th>162</th>\n",
       "      <td>Zografou</td>\n",
       "      <td>House</td>\n",
       "      <td>113.0</td>\n",
       "      <td>1980</td>\n",
       "      <td>2017</td>\n",
       "      <td>77000</td>\n",
       "    </tr>\n",
       "    <tr>\n",
       "      <th>194</th>\n",
       "      <td>Zografou</td>\n",
       "      <td>House</td>\n",
       "      <td>91.0</td>\n",
       "      <td>1974</td>\n",
       "      <td>2017</td>\n",
       "      <td>86000</td>\n",
       "    </tr>\n",
       "    <tr>\n",
       "      <th>217</th>\n",
       "      <td>Zografou</td>\n",
       "      <td>House</td>\n",
       "      <td>116.0</td>\n",
       "      <td>1989</td>\n",
       "      <td>2017</td>\n",
       "      <td>35000</td>\n",
       "    </tr>\n",
       "    <tr>\n",
       "      <th>219</th>\n",
       "      <td>Zografou</td>\n",
       "      <td>House</td>\n",
       "      <td>116.0</td>\n",
       "      <td>1989</td>\n",
       "      <td>2017</td>\n",
       "      <td>35000</td>\n",
       "    </tr>\n",
       "    <tr>\n",
       "      <th>223</th>\n",
       "      <td>Zografou</td>\n",
       "      <td>House</td>\n",
       "      <td>93.0</td>\n",
       "      <td>1978</td>\n",
       "      <td>2017</td>\n",
       "      <td>40000</td>\n",
       "    </tr>\n",
       "    <tr>\n",
       "      <th>225</th>\n",
       "      <td>Zografou</td>\n",
       "      <td>House</td>\n",
       "      <td>96.0</td>\n",
       "      <td>1990</td>\n",
       "      <td>2017</td>\n",
       "      <td>40000</td>\n",
       "    </tr>\n",
       "    <tr>\n",
       "      <th>249</th>\n",
       "      <td>Zografou</td>\n",
       "      <td>House</td>\n",
       "      <td>107.0</td>\n",
       "      <td>1978</td>\n",
       "      <td>2017</td>\n",
       "      <td>114</td>\n",
       "    </tr>\n",
       "    <tr>\n",
       "      <th>251</th>\n",
       "      <td>Zografou</td>\n",
       "      <td>House</td>\n",
       "      <td>113.0</td>\n",
       "      <td>1979</td>\n",
       "      <td>2017</td>\n",
       "      <td>97500</td>\n",
       "    </tr>\n",
       "    <tr>\n",
       "      <th>255</th>\n",
       "      <td>Zografou</td>\n",
       "      <td>House</td>\n",
       "      <td>93.0</td>\n",
       "      <td>1952</td>\n",
       "      <td>2017</td>\n",
       "      <td>55000</td>\n",
       "    </tr>\n",
       "    <tr>\n",
       "      <th>259</th>\n",
       "      <td>Zografou</td>\n",
       "      <td>House</td>\n",
       "      <td>112.0</td>\n",
       "      <td>1980</td>\n",
       "      <td>2017</td>\n",
       "      <td>55000</td>\n",
       "    </tr>\n",
       "    <tr>\n",
       "      <th>287</th>\n",
       "      <td>Zografou</td>\n",
       "      <td>House</td>\n",
       "      <td>96.0</td>\n",
       "      <td>1967</td>\n",
       "      <td>2017</td>\n",
       "      <td>50000</td>\n",
       "    </tr>\n",
       "  </tbody>\n",
       "</table>\n",
       "</div>"
      ],
      "text/plain": [
       "      location   type   area  constructionyear  sellingyear  price\n",
       "myid                                                              \n",
       "162   Zografou  House  113.0              1980         2017  77000\n",
       "194   Zografou  House   91.0              1974         2017  86000\n",
       "217   Zografou  House  116.0              1989         2017  35000\n",
       "219   Zografou  House  116.0              1989         2017  35000\n",
       "223   Zografou  House   93.0              1978         2017  40000\n",
       "225   Zografou  House   96.0              1990         2017  40000\n",
       "249   Zografou  House  107.0              1978         2017    114\n",
       "251   Zografou  House  113.0              1979         2017  97500\n",
       "255   Zografou  House   93.0              1952         2017  55000\n",
       "259   Zografou  House  112.0              1980         2017  55000\n",
       "287   Zografou  House   96.0              1967         2017  50000"
      ]
     },
     "execution_count": 48,
     "metadata": {},
     "output_type": "execute_result"
    }
   ],
   "source": [
    "data.loc[ (data['area'] > 90) & (data['price'] < 100000) & (data['sellingyear'] < 2018) ]"
   ]
  },
  {
   "cell_type": "code",
   "execution_count": null,
   "metadata": {},
   "outputs": [],
   "source": []
  },
  {
   "cell_type": "markdown",
   "metadata": {},
   "source": [
    "* Drop column sellingyear (1: is for columns, while 0 is for dropping rows)"
   ]
  },
  {
   "cell_type": "code",
   "execution_count": 95,
   "metadata": {},
   "outputs": [
    {
     "data": {
      "text/html": [
       "<div>\n",
       "<style scoped>\n",
       "    .dataframe tbody tr th:only-of-type {\n",
       "        vertical-align: middle;\n",
       "    }\n",
       "\n",
       "    .dataframe tbody tr th {\n",
       "        vertical-align: top;\n",
       "    }\n",
       "\n",
       "    .dataframe thead th {\n",
       "        text-align: right;\n",
       "    }\n",
       "</style>\n",
       "<table border=\"1\" class=\"dataframe\">\n",
       "  <thead>\n",
       "    <tr style=\"text-align: right;\">\n",
       "      <th></th>\n",
       "      <th>location</th>\n",
       "      <th>type</th>\n",
       "      <th>area</th>\n",
       "      <th>constructionyear</th>\n",
       "      <th>price</th>\n",
       "    </tr>\n",
       "    <tr>\n",
       "      <th>myid</th>\n",
       "      <th></th>\n",
       "      <th></th>\n",
       "      <th></th>\n",
       "      <th></th>\n",
       "      <th></th>\n",
       "    </tr>\n",
       "  </thead>\n",
       "  <tbody>\n",
       "    <tr>\n",
       "      <th>100</th>\n",
       "      <td>Zografou</td>\n",
       "      <td>Storehouse</td>\n",
       "      <td>NaN</td>\n",
       "      <td>1974</td>\n",
       "      <td>500</td>\n",
       "    </tr>\n",
       "    <tr>\n",
       "      <th>101</th>\n",
       "      <td>Zografou</td>\n",
       "      <td>Storehouse</td>\n",
       "      <td>3.0</td>\n",
       "      <td>2016</td>\n",
       "      <td>469</td>\n",
       "    </tr>\n",
       "    <tr>\n",
       "      <th>102</th>\n",
       "      <td>Zografou</td>\n",
       "      <td>Storehouse</td>\n",
       "      <td>4.0</td>\n",
       "      <td>1968</td>\n",
       "      <td>500</td>\n",
       "    </tr>\n",
       "    <tr>\n",
       "      <th>103</th>\n",
       "      <td>Zografou</td>\n",
       "      <td>Storehouse</td>\n",
       "      <td>NaN</td>\n",
       "      <td>1974</td>\n",
       "      <td>500</td>\n",
       "    </tr>\n",
       "    <tr>\n",
       "      <th>104</th>\n",
       "      <td>Zografou</td>\n",
       "      <td>Storehouse</td>\n",
       "      <td>39.0</td>\n",
       "      <td>1970</td>\n",
       "      <td>5500</td>\n",
       "    </tr>\n",
       "    <tr>\n",
       "      <th>...</th>\n",
       "      <td>...</td>\n",
       "      <td>...</td>\n",
       "      <td>...</td>\n",
       "      <td>...</td>\n",
       "      <td>...</td>\n",
       "    </tr>\n",
       "    <tr>\n",
       "      <th>284</th>\n",
       "      <td>Zografou</td>\n",
       "      <td>House</td>\n",
       "      <td>52.0</td>\n",
       "      <td>1968</td>\n",
       "      <td>25000</td>\n",
       "    </tr>\n",
       "    <tr>\n",
       "      <th>285</th>\n",
       "      <td>Zografou</td>\n",
       "      <td>House</td>\n",
       "      <td>71.0</td>\n",
       "      <td>1969</td>\n",
       "      <td>10000</td>\n",
       "    </tr>\n",
       "    <tr>\n",
       "      <th>286</th>\n",
       "      <td>Zografou</td>\n",
       "      <td>House</td>\n",
       "      <td>44.0</td>\n",
       "      <td>1972</td>\n",
       "      <td>3500</td>\n",
       "    </tr>\n",
       "    <tr>\n",
       "      <th>287</th>\n",
       "      <td>Zografou</td>\n",
       "      <td>House</td>\n",
       "      <td>96.0</td>\n",
       "      <td>1967</td>\n",
       "      <td>50000</td>\n",
       "    </tr>\n",
       "    <tr>\n",
       "      <th>288</th>\n",
       "      <td>Zografou</td>\n",
       "      <td>House</td>\n",
       "      <td>34.0</td>\n",
       "      <td>1972</td>\n",
       "      <td>20000</td>\n",
       "    </tr>\n",
       "  </tbody>\n",
       "</table>\n",
       "<p>189 rows × 5 columns</p>\n",
       "</div>"
      ],
      "text/plain": [
       "      location        type  area  constructionyear  price\n",
       "myid                                                     \n",
       "100   Zografou  Storehouse   NaN              1974    500\n",
       "101   Zografou  Storehouse   3.0              2016    469\n",
       "102   Zografou  Storehouse   4.0              1968    500\n",
       "103   Zografou  Storehouse   NaN              1974    500\n",
       "104   Zografou  Storehouse  39.0              1970   5500\n",
       "...        ...         ...   ...               ...    ...\n",
       "284   Zografou       House  52.0              1968  25000\n",
       "285   Zografou       House  71.0              1969  10000\n",
       "286   Zografou       House  44.0              1972   3500\n",
       "287   Zografou       House  96.0              1967  50000\n",
       "288   Zografou       House  34.0              1972  20000\n",
       "\n",
       "[189 rows x 5 columns]"
      ]
     },
     "execution_count": 95,
     "metadata": {},
     "output_type": "execute_result"
    }
   ],
   "source": [
    "data.drop('sellingyear', 1)"
   ]
  },
  {
   "cell_type": "code",
   "execution_count": 96,
   "metadata": {},
   "outputs": [
    {
     "name": "stdout",
     "output_type": "stream",
     "text": [
      "      location        type  area  constructionyear  sellingyear  price\n",
      "myid                                                                  \n",
      "100   Zografou  Storehouse   NaN              1974         2018    500\n",
      "101   Zografou  Storehouse   3.0              2016         2018    469\n",
      "102   Zografou  Storehouse   4.0              1968         2018    500\n",
      "103   Zografou  Storehouse   NaN              1974         2018    500\n",
      "104   Zografou  Storehouse  39.0              1970         2018   5500\n",
      "...        ...         ...   ...               ...          ...    ...\n",
      "284   Zografou       House  52.0              1968         2017  25000\n",
      "285   Zografou       House  71.0              1969         2017  10000\n",
      "286   Zografou       House  44.0              1972         2017   3500\n",
      "287   Zografou       House  96.0              1967         2017  50000\n",
      "288   Zografou       House  34.0              1972         2017  20000\n",
      "\n",
      "[189 rows x 6 columns]\n"
     ]
    }
   ],
   "source": [
    "print(data)"
   ]
  },
  {
   "cell_type": "markdown",
   "metadata": {},
   "source": [
    "* Note that the column has not been deleted yet from data! To delete the column without having to reassign data you can use inplace=True"
   ]
  },
  {
   "cell_type": "code",
   "execution_count": 97,
   "metadata": {},
   "outputs": [
    {
     "name": "stdout",
     "output_type": "stream",
     "text": [
      "      location        type  area  constructionyear  price\n",
      "myid                                                     \n",
      "100   Zografou  Storehouse   NaN              1974    500\n",
      "101   Zografou  Storehouse   3.0              2016    469\n",
      "102   Zografou  Storehouse   4.0              1968    500\n",
      "103   Zografou  Storehouse   NaN              1974    500\n",
      "104   Zografou  Storehouse  39.0              1970   5500\n",
      "...        ...         ...   ...               ...    ...\n",
      "284   Zografou       House  52.0              1968  25000\n",
      "285   Zografou       House  71.0              1969  10000\n",
      "286   Zografou       House  44.0              1972   3500\n",
      "287   Zografou       House  96.0              1967  50000\n",
      "288   Zografou       House  34.0              1972  20000\n",
      "\n",
      "[189 rows x 5 columns]\n"
     ]
    }
   ],
   "source": [
    "data.drop('sellingyear', 1, inplace =True)\n",
    "#data = data.drop('sellingyear', 1) # identical to inplace = True\n",
    "print(data)"
   ]
  },
  {
   "cell_type": "markdown",
   "metadata": {},
   "source": [
    "## Statistics"
   ]
  },
  {
   "cell_type": "code",
   "execution_count": 98,
   "metadata": {},
   "outputs": [
    {
     "data": {
      "text/plain": [
       "5867754"
      ]
     },
     "execution_count": 98,
     "metadata": {},
     "output_type": "execute_result"
    }
   ],
   "source": [
    "# sum of all 'price' values\n",
    "\n",
    "data['price'].sum()"
   ]
  },
  {
   "cell_type": "code",
   "execution_count": 99,
   "metadata": {},
   "outputs": [
    {
     "data": {
      "text/plain": [
       "price    31046.317460\n",
       "area        59.483696\n",
       "dtype: float64"
      ]
     },
     "execution_count": 99,
     "metadata": {},
     "output_type": "execute_result"
    }
   ],
   "source": [
    "# avg of all 'price' and 'area' values\n",
    "\n",
    "data[['price', 'area']].mean()"
   ]
  },
  {
   "cell_type": "code",
   "execution_count": 100,
   "metadata": {},
   "outputs": [
    {
     "data": {
      "text/plain": [
       "price    342590.0\n",
       "area        222.0\n",
       "dtype: float64"
      ]
     },
     "execution_count": 100,
     "metadata": {},
     "output_type": "execute_result"
    }
   ],
   "source": [
    "# max of all 'price' and 'area' values\n",
    "\n",
    "data[['price', 'area']].max()"
   ]
  },
  {
   "cell_type": "code",
   "execution_count": 101,
   "metadata": {},
   "outputs": [
    {
     "data": {
      "text/plain": [
       "price    0.0\n",
       "area     3.0\n",
       "dtype: float64"
      ]
     },
     "execution_count": 101,
     "metadata": {},
     "output_type": "execute_result"
    }
   ],
   "source": [
    "# min of all 'price' and 'area' values\n",
    "\n",
    "data[['price', 'area']].min()"
   ]
  },
  {
   "cell_type": "code",
   "execution_count": 102,
   "metadata": {},
   "outputs": [
    {
     "data": {
      "text/plain": [
       "type\n",
       "House         5691791\n",
       "Shophouse      134768\n",
       "Storehouse      41195\n",
       "Name: price, dtype: int64"
      ]
     },
     "execution_count": 102,
     "metadata": {},
     "output_type": "execute_result"
    }
   ],
   "source": [
    "data.groupby([\"type\"])['price'].sum()"
   ]
  },
  {
   "cell_type": "code",
   "execution_count": null,
   "metadata": {},
   "outputs": [],
   "source": []
  }
 ],
 "metadata": {
  "kernelspec": {
   "display_name": "Python 3",
   "language": "python",
   "name": "python3"
  },
  "language_info": {
   "codemirror_mode": {
    "name": "ipython",
    "version": 3
   },
   "file_extension": ".py",
   "mimetype": "text/x-python",
   "name": "python",
   "nbconvert_exporter": "python",
   "pygments_lexer": "ipython3",
   "version": "3.8.5"
  }
 },
 "nbformat": 4,
 "nbformat_minor": 4
}
