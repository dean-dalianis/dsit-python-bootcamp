{
 "cells": [
  {
   "cell_type": "code",
   "execution_count": 1,
   "metadata": {},
   "outputs": [
    {
     "name": "stdout",
     "output_type": "stream",
     "text": [
      "The Zen of Python, by Tim Peters\n",
      "\n",
      "Beautiful is better than ugly.\n",
      "Explicit is better than implicit.\n",
      "Simple is better than complex.\n",
      "Complex is better than complicated.\n",
      "Flat is better than nested.\n",
      "Sparse is better than dense.\n",
      "Readability counts.\n",
      "Special cases aren't special enough to break the rules.\n",
      "Although practicality beats purity.\n",
      "Errors should never pass silently.\n",
      "Unless explicitly silenced.\n",
      "In the face of ambiguity, refuse the temptation to guess.\n",
      "There should be one-- and preferably only one --obvious way to do it.\n",
      "Although that way may not be obvious at first unless you're Dutch.\n",
      "Now is better than never.\n",
      "Although never is often better than *right* now.\n",
      "If the implementation is hard to explain, it's a bad idea.\n",
      "If the implementation is easy to explain, it may be a good idea.\n",
      "Namespaces are one honking great idea -- let's do more of those!\n"
     ]
    }
   ],
   "source": [
    "import this"
   ]
  },
  {
   "cell_type": "markdown",
   "metadata": {},
   "source": [
    "One of the most discussed python quotes is:\n",
    "**There should be one—and preferably only one—obvious way to do it.**\n",
    "This is the so-called **the Pythonic way**."
   ]
  },
  {
   "cell_type": "markdown",
   "metadata": {},
   "source": [
    "# Lists\n",
    "\n",
    "* Data collection, ordered and changeable. Use [] for lists or the list(...) constructor function (see next)\n",
    "* [0] is the first element.\n",
    "* print(...): the standard function to output text to screen.\n",
    "* len(...): returns the length of a list.\n",
    "* Let's print some elements."
   ]
  },
  {
   "cell_type": "code",
   "execution_count": 2,
   "metadata": {},
   "outputs": [
    {
     "name": "stdout",
     "output_type": "stream",
     "text": [
      "1\n"
     ]
    }
   ],
   "source": [
    "x = [1, 2, 3]\n",
    "y = [\"string\", 0.1, True]\n",
    "\n",
    "\n",
    "print(x[0])"
   ]
  },
  {
   "cell_type": "code",
   "execution_count": 3,
   "metadata": {},
   "outputs": [
    {
     "name": "stdout",
     "output_type": "stream",
     "text": [
      "2\n"
     ]
    }
   ],
   "source": [
    "print(x[1])"
   ]
  },
  {
   "cell_type": "code",
   "execution_count": 4,
   "metadata": {},
   "outputs": [
    {
     "name": "stdout",
     "output_type": "stream",
     "text": [
      "string\n"
     ]
    }
   ],
   "source": [
    "print(y[0])"
   ]
  },
  {
   "cell_type": "code",
   "execution_count": 5,
   "metadata": {},
   "outputs": [
    {
     "name": "stdout",
     "output_type": "stream",
     "text": [
      "0.1\n"
     ]
    }
   ],
   "source": [
    "print(y[1])"
   ]
  },
  {
   "cell_type": "code",
   "execution_count": 6,
   "metadata": {},
   "outputs": [
    {
     "name": "stdout",
     "output_type": "stream",
     "text": [
      "[1, 2, 3]\n"
     ]
    }
   ],
   "source": [
    "print(x)"
   ]
  },
  {
   "cell_type": "code",
   "execution_count": 7,
   "metadata": {},
   "outputs": [
    {
     "name": "stdout",
     "output_type": "stream",
     "text": [
      "3\n"
     ]
    }
   ],
   "source": [
    "x_len = len(x) \n",
    "print(x_len)"
   ]
  },
  {
   "cell_type": "markdown",
   "metadata": {},
   "source": [
    "* A list may have lists as members, i.e., list of lists\n",
    "* Let's define a list of two lists, namely x and y (used before), and print elements. "
   ]
  },
  {
   "cell_type": "code",
   "execution_count": 8,
   "metadata": {},
   "outputs": [
    {
     "name": "stdout",
     "output_type": "stream",
     "text": [
      "[[1, 2, 3], ['string', 0.1, True]]\n"
     ]
    }
   ],
   "source": [
    "x = [1, 2, 3]\n",
    "y = [\"string\", 0.1, True]\n",
    "list_of_lists = [ x, y ]\n",
    "print(list_of_lists)"
   ]
  },
  {
   "cell_type": "code",
   "execution_count": 9,
   "metadata": {},
   "outputs": [
    {
     "name": "stdout",
     "output_type": "stream",
     "text": [
      "2\n"
     ]
    }
   ],
   "source": [
    "list_of_lists_length = len(list_of_lists)\n",
    "print(list_of_lists_length)"
   ]
  },
  {
   "cell_type": "markdown",
   "metadata": {},
   "source": [
    "# Lists\n",
    "* list(...): a function that constructs a list.\n",
    "* list() sometimes \"unpacks\" data, e.g., in strings.\n",
    "* range(...): a function that returns a sequence of numbers, starting from 0 by default, and increments by 1 (by default),"
   ]
  },
  {
   "cell_type": "code",
   "execution_count": 10,
   "metadata": {},
   "outputs": [
    {
     "name": "stdout",
     "output_type": "stream",
     "text": [
      "[1, 2, 3]\n"
     ]
    }
   ],
   "source": [
    "x = [1, 2, 3]\n",
    "print(x)"
   ]
  },
  {
   "cell_type": "code",
   "execution_count": 11,
   "metadata": {},
   "outputs": [
    {
     "name": "stdout",
     "output_type": "stream",
     "text": [
      "[1, 2, 3]\n"
     ]
    }
   ],
   "source": [
    "x = list([1, 2, 3])\n",
    "print(x)"
   ]
  },
  {
   "cell_type": "code",
   "execution_count": 12,
   "metadata": {},
   "outputs": [
    {
     "name": "stdout",
     "output_type": "stream",
     "text": [
      "['AAGC']\n"
     ]
    }
   ],
   "source": [
    "x = [\"AAGC\"]\n",
    "print(x)"
   ]
  },
  {
   "cell_type": "code",
   "execution_count": 13,
   "metadata": {},
   "outputs": [
    {
     "name": "stdout",
     "output_type": "stream",
     "text": [
      "['A', 'A', 'G', 'C']\n"
     ]
    }
   ],
   "source": [
    "x = list(\"AAGC\")\n",
    "print(x)"
   ]
  },
  {
   "cell_type": "code",
   "execution_count": 14,
   "metadata": {},
   "outputs": [
    {
     "name": "stdout",
     "output_type": "stream",
     "text": [
      "[0, 1, 2, 3, 4, 5, 6, 7, 8, 9]\n"
     ]
    }
   ],
   "source": [
    "x = list(range(10))\n",
    "print(x)"
   ]
  },
  {
   "cell_type": "markdown",
   "metadata": {},
   "source": [
    "# Lists\n",
    "* Let's move through the elements of a list.\n",
    "* [0] is the first element, while [-1] is the last element."
   ]
  },
  {
   "cell_type": "code",
   "execution_count": 15,
   "metadata": {},
   "outputs": [
    {
     "name": "stdout",
     "output_type": "stream",
     "text": [
      "[0, 1, 2, 3, 4, 5, 6, 7, 8, 9]\n"
     ]
    }
   ],
   "source": [
    "x = list(range(10))\n",
    "print(x)\n",
    "\n",
    "x[0] = -1 # now x is [-1, 1, 2, 3, ..., 9]\n",
    "\n",
    "zero = x[0] # first element, lists are 0-indexed"
   ]
  },
  {
   "cell_type": "code",
   "execution_count": 16,
   "metadata": {},
   "outputs": [
    {
     "name": "stdout",
     "output_type": "stream",
     "text": [
      "[-1, 1, 2, 3, 4, 5, 6, 7, 8, 9]\n"
     ]
    }
   ],
   "source": [
    "print(x)"
   ]
  },
  {
   "cell_type": "code",
   "execution_count": 17,
   "metadata": {},
   "outputs": [
    {
     "name": "stdout",
     "output_type": "stream",
     "text": [
      "-1\n"
     ]
    }
   ],
   "source": [
    "print(x[0])"
   ]
  },
  {
   "cell_type": "code",
   "execution_count": 18,
   "metadata": {},
   "outputs": [
    {
     "name": "stdout",
     "output_type": "stream",
     "text": [
      "9\n"
     ]
    }
   ],
   "source": [
    "print(x[-1]) # the last element!"
   ]
  },
  {
   "cell_type": "code",
   "execution_count": 19,
   "metadata": {},
   "outputs": [
    {
     "name": "stdout",
     "output_type": "stream",
     "text": [
      "8\n"
     ]
    }
   ],
   "source": [
    "print(x[-2]) # the next to the last element!"
   ]
  },
  {
   "cell_type": "markdown",
   "metadata": {},
   "source": [
    "# Lists\n",
    "* slice lists: [start : stop : steps]  "
   ]
  },
  {
   "cell_type": "code",
   "execution_count": 20,
   "metadata": {},
   "outputs": [
    {
     "name": "stdout",
     "output_type": "stream",
     "text": [
      "[0, 1, 2, 3, 4, 5, 6, 7, 8, 9]\n"
     ]
    }
   ],
   "source": [
    "x = list(range(10))\n",
    "print(x)"
   ]
  },
  {
   "cell_type": "code",
   "execution_count": 21,
   "metadata": {},
   "outputs": [
    {
     "name": "stdout",
     "output_type": "stream",
     "text": [
      "[0, 1, 2]\n"
     ]
    }
   ],
   "source": [
    "print(x[:3]) # first three list elements"
   ]
  },
  {
   "cell_type": "code",
   "execution_count": 22,
   "metadata": {},
   "outputs": [
    {
     "name": "stdout",
     "output_type": "stream",
     "text": [
      "[3, 4, 5, 6, 7, 8, 9]\n"
     ]
    }
   ],
   "source": [
    "print(x[3:]) # without first three elements"
   ]
  },
  {
   "cell_type": "code",
   "execution_count": 23,
   "metadata": {},
   "outputs": [
    {
     "name": "stdout",
     "output_type": "stream",
     "text": [
      "[7, 8, 9]\n"
     ]
    }
   ],
   "source": [
    "print(x[-3:]) # last three list elements"
   ]
  },
  {
   "cell_type": "code",
   "execution_count": 24,
   "metadata": {},
   "outputs": [
    {
     "name": "stdout",
     "output_type": "stream",
     "text": [
      "[0, 1, 2, 3, 4, 5, 6]\n"
     ]
    }
   ],
   "source": [
    "print(x[:-3]) # without last three list elements"
   ]
  },
  {
   "cell_type": "code",
   "execution_count": 25,
   "metadata": {},
   "outputs": [
    {
     "name": "stdout",
     "output_type": "stream",
     "text": [
      "[0, 1, 2, 3]\n"
     ]
    }
   ],
   "source": [
    "print(x[0:4]) # start from the 1st element, stop at the 4th element"
   ]
  },
  {
   "cell_type": "code",
   "execution_count": 26,
   "metadata": {},
   "outputs": [
    {
     "name": "stdout",
     "output_type": "stream",
     "text": [
      "[1, 2, 3]\n"
     ]
    }
   ],
   "source": [
    "print(x[1:4]) # start from the 2nd element, stop at the 4th element"
   ]
  },
  {
   "cell_type": "code",
   "execution_count": 27,
   "metadata": {},
   "outputs": [
    {
     "name": "stdout",
     "output_type": "stream",
     "text": [
      "[1, 2, 3, 4, 5, 6, 7, 8]\n"
     ]
    }
   ],
   "source": [
    "print(x[1:-1]) # start from the 2nd element, stop at the 1st element next to the last"
   ]
  },
  {
   "cell_type": "code",
   "execution_count": 28,
   "metadata": {},
   "outputs": [
    {
     "name": "stdout",
     "output_type": "stream",
     "text": [
      "[1, 3, 5, 7]\n",
      "\n",
      "\n"
     ]
    }
   ],
   "source": [
    "print(x[1:-1:2]) # start from the 2nd element, stop at the 1st element next to the last\n",
    "print('\\n')"
   ]
  },
  {
   "cell_type": "code",
   "execution_count": 29,
   "metadata": {},
   "outputs": [
    {
     "name": "stdout",
     "output_type": "stream",
     "text": [
      "[0, 1, 2, 3, 4, 5, 6, 7, 8, 9]\n"
     ]
    }
   ],
   "source": [
    "y = x[:] # copy x to y\n",
    "print(y)"
   ]
  },
  {
   "cell_type": "code",
   "execution_count": null,
   "metadata": {},
   "outputs": [],
   "source": []
  },
  {
   "cell_type": "markdown",
   "metadata": {},
   "source": [
    "# Lists\n",
    "* <em>list</em>.extend(...) and <em>list</em>.append(...): add more elements to a list "
   ]
  },
  {
   "cell_type": "code",
   "execution_count": 30,
   "metadata": {},
   "outputs": [
    {
     "name": "stdout",
     "output_type": "stream",
     "text": [
      "[1, 2, 3, 5, 6, 7]\n"
     ]
    }
   ],
   "source": [
    "x = [1, 2, 3]\n",
    "x = x + [5, 6, 7]\n",
    "print(x)"
   ]
  },
  {
   "cell_type": "code",
   "execution_count": 31,
   "metadata": {},
   "outputs": [
    {
     "name": "stdout",
     "output_type": "stream",
     "text": [
      "[1, 2, 3, 5, 6, 7, 8, 9, 10]\n"
     ]
    }
   ],
   "source": [
    "x.extend([8,9,10])\n",
    "print(x)"
   ]
  },
  {
   "cell_type": "code",
   "execution_count": 32,
   "metadata": {},
   "outputs": [
    {
     "name": "stdout",
     "output_type": "stream",
     "text": [
      "[1, 2, 3, 5, 6, 7, 8, 9, 10, [11, 12]]\n"
     ]
    }
   ],
   "source": [
    "x.append([11,12])\n",
    "print(x)"
   ]
  },
  {
   "cell_type": "code",
   "execution_count": 33,
   "metadata": {},
   "outputs": [
    {
     "name": "stdout",
     "output_type": "stream",
     "text": [
      "10\n"
     ]
    }
   ],
   "source": [
    "print(len(x)) # length of list x"
   ]
  },
  {
   "cell_type": "markdown",
   "metadata": {},
   "source": [
    "# Lists\n",
    "* Membership in lists (too slow, though!):"
   ]
  },
  {
   "cell_type": "code",
   "execution_count": 34,
   "metadata": {},
   "outputs": [
    {
     "data": {
      "text/plain": [
       "True"
      ]
     },
     "execution_count": 34,
     "metadata": {},
     "output_type": "execute_result"
    }
   ],
   "source": [
    "1 in [1, 2, 4]"
   ]
  },
  {
   "cell_type": "markdown",
   "metadata": {},
   "source": [
    "# Tuples\n",
    "* Data collection, ordered and non-changeable. Use () for tuples or the tuple(...) constructor."
   ]
  },
  {
   "cell_type": "code",
   "execution_count": 35,
   "metadata": {},
   "outputs": [
    {
     "name": "stdout",
     "output_type": "stream",
     "text": [
      "t = (1, 2, 4)\n"
     ]
    }
   ],
   "source": [
    "t = (1, 2, 4)\n",
    "print('t =', t)"
   ]
  },
  {
   "cell_type": "code",
   "execution_count": 36,
   "metadata": {},
   "outputs": [
    {
     "name": "stdout",
     "output_type": "stream",
     "text": [
      "t = ()\n"
     ]
    }
   ],
   "source": [
    "t = tuple()\n",
    "print('t =', t) # empty tuple"
   ]
  },
  {
   "cell_type": "code",
   "execution_count": 37,
   "metadata": {},
   "outputs": [
    {
     "name": "stdout",
     "output_type": "stream",
     "text": [
      "t = (1, 4, 6)\n"
     ]
    }
   ],
   "source": [
    "t = tuple([1, 4, 6]) # creating a tuple from a list\n",
    "print('t =', t)"
   ]
  },
  {
   "cell_type": "code",
   "execution_count": 38,
   "metadata": {},
   "outputs": [
    {
     "name": "stdout",
     "output_type": "stream",
     "text": [
      "t = ('P', 'y', 't', 'h', 'o', 'n')\n"
     ]
    }
   ],
   "source": [
    "t = tuple('Python') # creating a tuple from a string\n",
    "print('t =',t)"
   ]
  },
  {
   "cell_type": "code",
   "execution_count": 41,
   "metadata": {},
   "outputs": [
    {
     "name": "stdout",
     "output_type": "stream",
     "text": [
      "[4, 2]\n"
     ]
    }
   ],
   "source": [
    "mylist = [1, 2]\n",
    "mytuple = (1, 2)\n",
    "\n",
    "mylist[0] = 4\n",
    "print(mylist)\n",
    "\n",
    "#mytuple[0] = 4 # error\n",
    "#print(mytuple)"
   ]
  },
  {
   "cell_type": "markdown",
   "metadata": {},
   "source": [
    "# Tuples\n",
    "* Let's see how fast are tuples compared to lists!\n",
    "* First of all, let's introduce FOR loops!\n",
    "* FOR loops are used when you have a block of code which you want to **repeat a fixed number of times**. The for-loop is always used in combination with an **iterable object**, like **a list or a range**. The FOR statement **iterates over the members of a sequence in order**, executing the block each time. "
   ]
  },
  {
   "cell_type": "code",
   "execution_count": 45,
   "metadata": {},
   "outputs": [
    {
     "name": "stdout",
     "output_type": "stream",
     "text": [
      "Yoda\n",
      "Luke Skywalker\n",
      "Darth Vader\n",
      "test\n"
     ]
    }
   ],
   "source": [
    "starWarsHeroes = [\"Yoda\", \"Luke Skywalker\", \"Darth Vader\"]\n",
    "for heroe in starWarsHeroes:\n",
    "  print(heroe)\n",
    "print(\"test\")"
   ]
  },
  {
   "cell_type": "markdown",
   "metadata": {},
   "source": [
    "* Exit the loop with a **break** when a condition is true. Check the **IF statement**."
   ]
  },
  {
   "cell_type": "code",
   "execution_count": 46,
   "metadata": {},
   "outputs": [
    {
     "name": "stdout",
     "output_type": "stream",
     "text": [
      "Yoda\n"
     ]
    }
   ],
   "source": [
    "#exit the loop with a break when a condition is true\n",
    "starWarsHeroes = [\"Yoda\", \"Luke Skywalker\", \"Darth Vader\"]\n",
    "for heroe in starWarsHeroes:\n",
    "  if heroe == \"Yoda\":\n",
    "     break\n",
    "print(heroe)        "
   ]
  },
  {
   "cell_type": "code",
   "execution_count": 47,
   "metadata": {},
   "outputs": [
    {
     "name": "stdout",
     "output_type": "stream",
     "text": [
      "List: \n",
      "0.01954004200001691\n"
     ]
    }
   ],
   "source": [
    "import time \n",
    "\n",
    "mylist = []\n",
    "x = range(100000)\n",
    "\n",
    "#timer: start\n",
    "start = time.perf_counter()\n",
    "\n",
    "# fill a list with 100000 items: FOR LOOP\n",
    "for item in x:\n",
    "    mylist.append(item)\n",
    "print(\"List: \")\n",
    "\n",
    "#timer: end\n",
    "print(time.perf_counter()-start)"
   ]
  },
  {
   "cell_type": "code",
   "execution_count": 48,
   "metadata": {},
   "outputs": [
    {
     "name": "stdout",
     "output_type": "stream",
     "text": [
      "Tuple: \n",
      "12.082549167000252\n"
     ]
    }
   ],
   "source": [
    "mytuple = ()\n",
    "x = range(100000)\n",
    "start = time.perf_counter()\n",
    "for item in x:\n",
    "    mytuple = mytuple + (item,)\n",
    "print(\"Tuple: \")\n",
    "print(time.perf_counter()-start)"
   ]
  },
  {
   "cell_type": "markdown",
   "metadata": {},
   "source": [
    "# Tuples\n",
    "* Since tuples are immutable (non-changeable), you are basically copying the contents of the tuple T to a new tuple object at EACH iteration! This is too slow!!!!\n",
    "* On the other hand, tuples may save you from hard debugging! Let's see what happens when two variables reference the same list object."
   ]
  },
  {
   "cell_type": "code",
   "execution_count": 49,
   "metadata": {},
   "outputs": [
    {
     "name": "stdout",
     "output_type": "stream",
     "text": [
      "[1, 3, 5, 7]\n"
     ]
    }
   ],
   "source": [
    "a = [1, 3, 5, 7]\n",
    "print(a)"
   ]
  },
  {
   "cell_type": "code",
   "execution_count": 50,
   "metadata": {},
   "outputs": [
    {
     "name": "stdout",
     "output_type": "stream",
     "text": [
      "[10, 3, 5, 7]\n"
     ]
    }
   ],
   "source": [
    "b = a\n",
    "b[0] = 10\n",
    "print(a)"
   ]
  },
  {
   "cell_type": "markdown",
   "metadata": {},
   "source": [
    "# Tuples\n",
    "* Since lists are non-immutable (changeable), the two variables a and b that reference the same list object can be easily modify that object. It is very challenging to track all changes! This is not the case with immutable objects even if you have multiple references to them.\n",
    "* Tuples are also used when you want to return multiple values from a function\n",
    "* FUNCTIONS: A function is a block of code which only runs when it is called.\n",
    "* You can pass data, known as parameters, into a function. A function can return data as a result.\n",
    "* To define functions use: def <em>function</em>()"
   ]
  },
  {
   "cell_type": "code",
   "execution_count": 51,
   "metadata": {},
   "outputs": [
    {
     "name": "stdout",
     "output_type": "stream",
     "text": [
      "(9, 16)\n"
     ]
    }
   ],
   "source": [
    "def square_the_pair(x, y):\n",
    "    return x*x,y*y #or (x*x),(y*y)\n",
    "\n",
    "# call the function\n",
    "print(square_the_pair(3,4)) # be careful with the intentation\n"
   ]
  },
  {
   "cell_type": "markdown",
   "metadata": {},
   "source": [
    "# Strings\n",
    "* Let;s see how to manipulate strings\n",
    "* len(...): string length\n",
    "* str(...): convert data to string\n",
    "* int(...): convert data to int\n",
    "* lower(): convert to lower case\n",
    "* upper(): convert to upper case"
   ]
  },
  {
   "cell_type": "code",
   "execution_count": 52,
   "metadata": {},
   "outputs": [
    {
     "name": "stdout",
     "output_type": "stream",
     "text": [
      "Python Bootcamp\n"
     ]
    }
   ],
   "source": [
    "text1 = \"Python\"\n",
    "text2 = \"Bootcamp\"\n",
    "text = \"Python \" + \"Bootcamp\" # concatenate\n",
    "print(text)"
   ]
  },
  {
   "cell_type": "code",
   "execution_count": 55,
   "metadata": {},
   "outputs": [
    {
     "name": "stdout",
     "output_type": "stream",
     "text": [
      "Python Bootcamp 10/2020 10/2022 10/2022\n"
     ]
    }
   ],
   "source": [
    "text = text + \" 10/2022\"\n",
    "print(text)"
   ]
  },
  {
   "cell_type": "code",
   "execution_count": 57,
   "metadata": {},
   "outputs": [
    {
     "name": "stdout",
     "output_type": "stream",
     "text": [
      "39\n"
     ]
    }
   ],
   "source": [
    "print(len(text))"
   ]
  },
  {
   "cell_type": "code",
   "execution_count": 58,
   "metadata": {},
   "outputs": [
    {
     "name": "stdout",
     "output_type": "stream",
     "text": [
      "Text: Python Bootcamp 10/2020 10/2022 10/2022, Length:39\n"
     ]
    }
   ],
   "source": [
    "print(\"Text: \" + text + \", \" + \"Length:\" + str(len(text)))"
   ]
  },
  {
   "cell_type": "code",
   "execution_count": 61,
   "metadata": {},
   "outputs": [
    {
     "name": "stdout",
     "output_type": "stream",
     "text": [
      "45\n"
     ]
    }
   ],
   "source": [
    "print(\"4\"+\"5\")"
   ]
  },
  {
   "cell_type": "code",
   "execution_count": 60,
   "metadata": {},
   "outputs": [
    {
     "name": "stdout",
     "output_type": "stream",
     "text": [
      "9\n"
     ]
    }
   ],
   "source": [
    "print(int(\"4\")+int(\"5\"))"
   ]
  },
  {
   "cell_type": "markdown",
   "metadata": {},
   "source": [
    "# Strings\n",
    "* string manipulation\n",
    "* replace(...): replace characters"
   ]
  },
  {
   "cell_type": "code",
   "execution_count": 62,
   "metadata": {},
   "outputs": [
    {
     "name": "stdout",
     "output_type": "stream",
     "text": [
      "score4\n"
     ]
    }
   ],
   "source": [
    "# str(): convert to string vs int(): convert to integer\n",
    "text = \"score\" + str(4)\n",
    "print(text)"
   ]
  },
  {
   "cell_type": "code",
   "execution_count": 63,
   "metadata": {},
   "outputs": [
    {
     "name": "stdout",
     "output_type": "stream",
     "text": [
      "5\n"
     ]
    }
   ],
   "source": [
    "num = int(\"4\")+1\n",
    "print(num)"
   ]
  },
  {
   "cell_type": "code",
   "execution_count": 64,
   "metadata": {},
   "outputs": [
    {
     "name": "stdout",
     "output_type": "stream",
     "text": [
      "SCORE4\n"
     ]
    }
   ],
   "source": [
    "upper_text = text.upper() # convert to upper case\n",
    "print(upper_text)"
   ]
  },
  {
   "cell_type": "code",
   "execution_count": 65,
   "metadata": {},
   "outputs": [
    {
     "name": "stdout",
     "output_type": "stream",
     "text": [
      "score4\n"
     ]
    }
   ],
   "source": [
    "lower_text = text.lower() # convert to lower case\n",
    "print(lower_text)"
   ]
  },
  {
   "cell_type": "code",
   "execution_count": 66,
   "metadata": {},
   "outputs": [
    {
     "name": "stdout",
     "output_type": "stream",
     "text": [
      "['s', 'c', 'o', 'r', 'e', '4']\n"
     ]
    }
   ],
   "source": [
    "text_list = list(text) # split to characters\n",
    "print(text_list)"
   ]
  },
  {
   "cell_type": "code",
   "execution_count": 67,
   "metadata": {},
   "outputs": [
    {
     "name": "stdout",
     "output_type": "stream",
     "text": [
      "['score4']\n"
     ]
    }
   ],
   "source": [
    "text_list = list(text.split(\" \")) # split to words\n",
    "print(text_list)"
   ]
  },
  {
   "cell_type": "code",
   "execution_count": 68,
   "metadata": {},
   "outputs": [
    {
     "name": "stdout",
     "output_type": "stream",
     "text": [
      "['python,bootcamp']\n"
     ]
    }
   ],
   "source": [
    "text = \"python,bootcamp\"\n",
    "text = list(text.split(\" \"))\n",
    "print(text)"
   ]
  },
  {
   "cell_type": "code",
   "execution_count": 69,
   "metadata": {},
   "outputs": [
    {
     "name": "stdout",
     "output_type": "stream",
     "text": [
      "python\n"
     ]
    }
   ],
   "source": [
    "x=\"PYTHON\"\n",
    "x = x.lower()\n",
    "print(x)"
   ]
  },
  {
   "cell_type": "code",
   "execution_count": 70,
   "metadata": {},
   "outputs": [
    {
     "name": "stdout",
     "output_type": "stream",
     "text": [
      "AATTGGCC\n"
     ]
    }
   ],
   "source": [
    "dna1 = \"AATT\" + \"GGCC\"\n",
    "print(dna1)"
   ]
  },
  {
   "cell_type": "code",
   "execution_count": 71,
   "metadata": {},
   "outputs": [
    {
     "name": "stdout",
     "output_type": "stream",
     "text": [
      "TT\n",
      "GGCC\n"
     ]
    }
   ],
   "source": [
    "dna1 = dna1.replace(\"A\",\"T\") # replace characters\n",
    "\n",
    "print(dna1[1:3])\n",
    "print(dna1[4:])"
   ]
  },
  {
   "cell_type": "markdown",
   "metadata": {},
   "source": [
    "# Strings\n",
    "* Counting/finding characters\n",
    "* count(...): count occurences of a character\n",
    "* find(...): find first occurence of a character"
   ]
  },
  {
   "cell_type": "code",
   "execution_count": 72,
   "metadata": {},
   "outputs": [
    {
     "name": "stdout",
     "output_type": "stream",
     "text": [
      "AAATTGGCC\n"
     ]
    }
   ],
   "source": [
    "line = \"AAATT\" + \"GGCC\"\n",
    "print(line)\n"
   ]
  },
  {
   "cell_type": "code",
   "execution_count": 73,
   "metadata": {},
   "outputs": [
    {
     "name": "stdout",
     "output_type": "stream",
     "text": [
      "3\n"
     ]
    }
   ],
   "source": [
    "count_A = line.count('A')\n",
    "print(count_A)"
   ]
  },
  {
   "cell_type": "code",
   "execution_count": 74,
   "metadata": {},
   "outputs": [
    {
     "name": "stdout",
     "output_type": "stream",
     "text": [
      "3\n"
     ]
    }
   ],
   "source": [
    "loc_A = line.find('T') # first occurence of 'T'\n",
    "print(loc_A)"
   ]
  },
  {
   "cell_type": "markdown",
   "metadata": {},
   "source": [
    "# Write your own count function"
   ]
  },
  {
   "cell_type": "code",
   "execution_count": null,
   "metadata": {},
   "outputs": [],
   "source": [
    "def my_count(dna, base):\n",
    "    i = 0 # counter\n",
    "    for c in dna:\n",
    "        if c == base:\n",
    "            i += 1 # i = i +1\n",
    "    return i\n",
    "\n",
    "line = \"AAATT\"\n",
    "\n",
    "# call function, and assign its returned value to count_A\n",
    "count_A = my_count(line, 'A')\n",
    "print(count_A)"
   ]
  },
  {
   "cell_type": "markdown",
   "metadata": {},
   "source": [
    "# Read data from files\n",
    "* open(...): open a file to read from or write to\n",
    "* read(): read all contents!!\n",
    "* close(): close the file when processing (read/write) is over. DO NOT FORGET TO CLOSE FILES!!!"
   ]
  },
  {
   "cell_type": "code",
   "execution_count": 75,
   "metadata": {},
   "outputs": [
    {
     "name": "stdout",
     "output_type": "stream",
     "text": [
      "dear all \n",
      "\n",
      "please find attached the Fall Course assignments. I feel we have a very strong program and I'm Looking forward to an exciting semester, despite the special health issues we're facing.\n",
      "Time, days and classrooms have been announced on our website: http://dsit.di.uoa.gr/\n",
      "The semester starts on Monday Sept. 28. During the first week we offer the Python Boot Camp for 1st year students, so courses for them start on Monday Oct. 5. \n",
      "I assume you're all updating your class webpages (eClass is strongly encouraged) ! so you may include the starting date as well.\n",
      "On Monday we're (physically) welcoming 1st year students at 4pm to 5pm at the Amphitheatre of the department of Informatics and Telecoms. You are all welcome to join!\n",
      "\n",
      "thank you for your participation,\n",
      "Yiannis\n"
     ]
    }
   ],
   "source": [
    "# read file content (memory waste)\n",
    "my_file = open(\"emailtext.txt\")\n",
    "\n",
    "file_contents = my_file.read()\n",
    "\n",
    "print(file_contents)\n",
    "\n",
    "my_file.close() "
   ]
  },
  {
   "cell_type": "markdown",
   "metadata": {},
   "source": [
    "# Read data from files\n",
    "* read file, split lines, print the first 2 lines.\n",
    "* split(...): splits a string based on a character"
   ]
  },
  {
   "cell_type": "code",
   "execution_count": 76,
   "metadata": {},
   "outputs": [
    {
     "name": "stdout",
     "output_type": "stream",
     "text": [
      "dear all \n",
      "\n",
      "please find attached the Fall Course assignments. I feel we have a very strong program and I'm Looking forward to an exciting semester, despite the special health issues we're facing.\n"
     ]
    }
   ],
   "source": [
    "# read file content (memory waste)\n",
    "my_file = open(\"emailtext.txt\")\n",
    "\n",
    "file_contents = my_file.read()\n",
    "\n",
    "# split lines\n",
    "lines = file_contents.split(\"\\n\")\n",
    "\n",
    "print(lines[0])\n",
    "print(lines[1])\n",
    "print(lines[2])\n",
    "\n",
    "# print 1st line and its length\n",
    "#print(\"Line 1 with length=\" + str(len(lines[0])) + \": \" + lines[0])\n",
    "# print 2nd line and its length\n",
    "#print(\"Line 2 with length=\" + str(len(lines[1])) + \": \" + lines[1])\n",
    "\n",
    "my_file.close() "
   ]
  },
  {
   "cell_type": "markdown",
   "metadata": {},
   "source": [
    "# Read data from files\n",
    "* read file line by line\n",
    "* rstrip(\"\\n\"): cut end-of-line chars\n",
    "* note the indentation! Python imposes structure using indentation/white spaces"
   ]
  },
  {
   "cell_type": "code",
   "execution_count": 77,
   "metadata": {},
   "outputs": [
    {
     "name": "stdout",
     "output_type": "stream",
     "text": [
      "Line:\n",
      "dear all \n",
      "\n",
      "Line:\n",
      "\n",
      "\n",
      "Line:\n",
      "please find attached the Fall Course assignments. I feel we have a very strong program and I'm Looking forward to an exciting semester, despite the special health issues we're facing.\n",
      "\n",
      "Line:\n",
      "Time, days and classrooms have been announced on our website: http://dsit.di.uoa.gr/\n",
      "\n",
      "Line:\n",
      "The semester starts on Monday Sept. 28. During the first week we offer the Python Boot Camp for 1st year students, so courses for them start on Monday Oct. 5. \n",
      "\n",
      "Line:\n",
      "I assume you're all updating your class webpages (eClass is strongly encouraged) ! so you may include the starting date as well.\n",
      "\n",
      "Line:\n",
      "On Monday we're (physically) welcoming 1st year students at 4pm to 5pm at the Amphitheatre of the department of Informatics and Telecoms. You are all welcome to join!\n",
      "\n",
      "Line:\n",
      "\n",
      "\n",
      "Line:\n",
      "thank you for your participation,\n",
      "\n",
      "Line:\n",
      "Yiannis\n"
     ]
    }
   ],
   "source": [
    "my_file = open(\"emailtext.txt\")\n",
    "\n",
    "for line in my_file:\n",
    "    print(\"Line:\")\n",
    "    print(line)\n",
    "\n",
    "my_file.close() "
   ]
  },
  {
   "cell_type": "code",
   "execution_count": 78,
   "metadata": {},
   "outputs": [
    {
     "name": "stdout",
     "output_type": "stream",
     "text": [
      "dear all \n",
      "\n",
      "please find attached the Fall Course assignments. I feel we have a very strong program and I'm Looking forward to an exciting semester, despite the special health issues we're facing.\n",
      "Time, days and classrooms have been announced on our website: http://dsit.di.uoa.gr/\n",
      "The semester starts on Monday Sept. 28. During the first week we offer the Python Boot Camp for 1st year students, so courses for them start on Monday Oct. 5. \n",
      "I assume you're all updating your class webpages (eClass is strongly encouraged) ! so you may include the starting date as well.\n",
      "On Monday we're (physically) welcoming 1st year students at 4pm to 5pm at the Amphitheatre of the department of Informatics and Telecoms. You are all welcome to join!\n",
      "\n",
      "thank you for your participation,\n",
      "Yiannis\n"
     ]
    }
   ],
   "source": [
    "my_file = open(\"emailtext.txt\")\n",
    "\n",
    "i = 0\n",
    "for line in my_file:\n",
    "    #print(\"Line \" + str(i) + \": \" + line.rstrip(\"\\n\"))  # remove \\n with rstrip() method\n",
    "    print(line.rstrip(\"\\n\"))\n",
    "    i = i + 1\n",
    "    \n",
    "my_file.close() "
   ]
  },
  {
   "cell_type": "markdown",
   "metadata": {},
   "source": [
    "# Dictionaries\n",
    "* {Key, value} pairs\n",
    "* You can access the items of a dictionary by referring to its key name, inside square brackets or using get(...) function"
   ]
  },
  {
   "cell_type": "code",
   "execution_count": 79,
   "metadata": {},
   "outputs": [
    {
     "name": "stdout",
     "output_type": "stream",
     "text": [
      "35\n"
     ]
    }
   ],
   "source": [
    "freq = {'A' : 6, 'C' : 50, 'G' : 35, 'T' : 15}\n",
    "print(freq['G'])\n"
   ]
  },
  {
   "cell_type": "code",
   "execution_count": 80,
   "metadata": {},
   "outputs": [
    {
     "name": "stdout",
     "output_type": "stream",
     "text": [
      "{'A': 6, 'C': 50, 'G': 35, 'T': 15}\n"
     ]
    }
   ],
   "source": [
    "freq = {'A' : 6, 'C' : 50, 'G' : 35, 'T' : 15}\n",
    "print(freq)"
   ]
  },
  {
   "cell_type": "code",
   "execution_count": 81,
   "metadata": {},
   "outputs": [
    {
     "name": "stdout",
     "output_type": "stream",
     "text": [
      "6 15\n"
     ]
    }
   ],
   "source": [
    "fa = freq['A'] # refer to the key name 'A' and get its value\n",
    "ft = freq['T'] # # refer to the key name 'T' and get its value\n",
    "print(fa, ft)"
   ]
  },
  {
   "cell_type": "code",
   "execution_count": 82,
   "metadata": {},
   "outputs": [
    {
     "name": "stdout",
     "output_type": "stream",
     "text": [
      "6 15\n"
     ]
    }
   ],
   "source": [
    "fa = freq.get('A',0) # refer to the key name 'A' and get its value using get() function\n",
    "ft = freq.get('T',0) # refer to the key name 'A' and get its value using get() function\n",
    "print(fa, ft)"
   ]
  },
  {
   "cell_type": "code",
   "execution_count": 83,
   "metadata": {},
   "outputs": [
    {
     "name": "stdout",
     "output_type": "stream",
     "text": [
      "{'A': 7, 'C': 51, 'G': 35, 'T': 15}\n"
     ]
    }
   ],
   "source": [
    "freq['A'] = freq['A'] + 1 # modify a key value\n",
    "freq['C'] = freq['C'] + 1 # modify a key value\n",
    "print(freq)"
   ]
  },
  {
   "cell_type": "code",
   "execution_count": null,
   "metadata": {},
   "outputs": [],
   "source": []
  },
  {
   "cell_type": "markdown",
   "metadata": {},
   "source": [
    "# Dictionaries\n",
    "* Dictionaries may have lists as values\n",
    "* dict(): function that constructs a dictionary."
   ]
  },
  {
   "cell_type": "code",
   "execution_count": 84,
   "metadata": {},
   "outputs": [
    {
     "name": "stdout",
     "output_type": "stream",
     "text": [
      "{'A': ['adenine', 7]}\n"
     ]
    }
   ],
   "source": [
    "bases = {} # an empty dictionary\n",
    "# bases = dict()\n",
    "\n",
    "bases['A'] = [\"adenine\", 7]\n",
    "print(bases)"
   ]
  },
  {
   "cell_type": "code",
   "execution_count": 85,
   "metadata": {},
   "outputs": [
    {
     "name": "stdout",
     "output_type": "stream",
     "text": [
      "{'A': ['adenine', 7], 'C': ['cytosine', 51], 'G': ['guanine', 35], 'T': ['thymime', 15]}\n"
     ]
    }
   ],
   "source": [
    "bases['C'] = [\"cytosine\", 51]\n",
    "bases['G'] = [\"guanine\", 35]\n",
    "bases['T'] = [\"thymime\", 15]\n",
    "print(bases)"
   ]
  },
  {
   "cell_type": "code",
   "execution_count": 86,
   "metadata": {},
   "outputs": [
    {
     "name": "stdout",
     "output_type": "stream",
     "text": [
      "{'A': ['adenine', 8], 'C': ['cytosine', 51], 'G': ['guanine', 35], 'T': ['thymime', 15]}\n"
     ]
    }
   ],
   "source": [
    "bases['A'][1] = bases['A'][1] + 1 # modify the second element of the key value list for key 'A'\n",
    "print(bases)"
   ]
  },
  {
   "cell_type": "code",
   "execution_count": 87,
   "metadata": {},
   "outputs": [
    {
     "name": "stdout",
     "output_type": "stream",
     "text": [
      "{'A': ['adenine', 8], 'C': ['cytosine', 51], 'G': ['guanine', 35], 'T': ['thymime', 16]}\n"
     ]
    }
   ],
   "source": [
    "bases['T'][1] = bases['T'][1] + 1 # modify the second element of the key value list for key 'T'\n",
    "print(bases)"
   ]
  },
  {
   "cell_type": "markdown",
   "metadata": {},
   "source": [
    "# Dictionaries\n",
    "* Iterating on dictionary elements and retrieve all with freq key value < 35\n",
    "* bases.get(...) returns a list! E.g. ['adenine', 8]. You have to get the second element: bases.get(b, 0)[1]"
   ]
  },
  {
   "cell_type": "code",
   "execution_count": 88,
   "metadata": {},
   "outputs": [
    {
     "name": "stdout",
     "output_type": "stream",
     "text": [
      "A\n",
      "T\n"
     ]
    }
   ],
   "source": [
    "basenames = ['A', 'C', 'G', 'T']\n",
    "for b in basenames: \n",
    "    if bases.get(b, 0)[1] < 35: \n",
    "        print(b)"
   ]
  },
  {
   "cell_type": "code",
   "execution_count": null,
   "metadata": {},
   "outputs": [],
   "source": []
  }
 ],
 "metadata": {
  "kernelspec": {
   "display_name": "Python 3",
   "language": "python",
   "name": "python3"
  },
  "language_info": {
   "codemirror_mode": {
    "name": "ipython",
    "version": 3
   },
   "file_extension": ".py",
   "mimetype": "text/x-python",
   "name": "python",
   "nbconvert_exporter": "python",
   "pygments_lexer": "ipython3",
   "version": "3.8.5"
  }
 },
 "nbformat": 4,
 "nbformat_minor": 4
}
